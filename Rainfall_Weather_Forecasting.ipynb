{
  "cells": [
    {
      "cell_type": "markdown",
      "source": [
        "Internship Number: DS2312"
      ],
      "metadata": {
        "id": "5BuMktXq1vtG"
      },
      "id": "5BuMktXq1vtG"
    },
    {
      "cell_type": "code",
      "execution_count": null,
      "id": "8d757a9d",
      "metadata": {
        "id": "8d757a9d"
      },
      "outputs": [],
      "source": [
        "import pandas as pd\n",
        "import matplotlib.pyplot as plt\n",
        "import seaborn as sns\n",
        "import numpy as np\n",
        "import warnings\n",
        "warnings.filterwarnings('ignore')"
      ]
    },
    {
      "cell_type": "code",
      "execution_count": null,
      "id": "7bb63fa4",
      "metadata": {
        "id": "7bb63fa4"
      },
      "outputs": [],
      "source": [
        "df = pd.read_csv('Rainfall.csv')"
      ]
    },
    {
      "cell_type": "code",
      "execution_count": null,
      "id": "b73aa016",
      "metadata": {
        "id": "b73aa016"
      },
      "outputs": [],
      "source": [
        "pd.set_option('display.max_columns', None)"
      ]
    },
    {
      "cell_type": "code",
      "execution_count": null,
      "id": "c2304a1a",
      "metadata": {
        "id": "c2304a1a",
        "outputId": "74687ba1-34fb-4d2d-8f23-8c350bc5fffb"
      },
      "outputs": [
        {
          "data": {
            "text/html": [
              "<div>\n",
              "<style scoped>\n",
              "    .dataframe tbody tr th:only-of-type {\n",
              "        vertical-align: middle;\n",
              "    }\n",
              "\n",
              "    .dataframe tbody tr th {\n",
              "        vertical-align: top;\n",
              "    }\n",
              "\n",
              "    .dataframe thead th {\n",
              "        text-align: right;\n",
              "    }\n",
              "</style>\n",
              "<table border=\"1\" class=\"dataframe\">\n",
              "  <thead>\n",
              "    <tr style=\"text-align: right;\">\n",
              "      <th></th>\n",
              "      <th>Date</th>\n",
              "      <th>Location</th>\n",
              "      <th>MinTemp</th>\n",
              "      <th>MaxTemp</th>\n",
              "      <th>Rainfall</th>\n",
              "      <th>Evaporation</th>\n",
              "      <th>Sunshine</th>\n",
              "      <th>WindGustDir</th>\n",
              "      <th>WindGustSpeed</th>\n",
              "      <th>WindDir9am</th>\n",
              "      <th>WindDir3pm</th>\n",
              "      <th>WindSpeed9am</th>\n",
              "      <th>WindSpeed3pm</th>\n",
              "      <th>Humidity9am</th>\n",
              "      <th>Humidity3pm</th>\n",
              "      <th>Pressure9am</th>\n",
              "      <th>Pressure3pm</th>\n",
              "      <th>Cloud9am</th>\n",
              "      <th>Cloud3pm</th>\n",
              "      <th>Temp9am</th>\n",
              "      <th>Temp3pm</th>\n",
              "      <th>RainToday</th>\n",
              "      <th>RainTomorrow</th>\n",
              "    </tr>\n",
              "  </thead>\n",
              "  <tbody>\n",
              "    <tr>\n",
              "      <th>0</th>\n",
              "      <td>2008-12-01</td>\n",
              "      <td>Albury</td>\n",
              "      <td>13.4</td>\n",
              "      <td>22.9</td>\n",
              "      <td>0.6</td>\n",
              "      <td>NaN</td>\n",
              "      <td>NaN</td>\n",
              "      <td>W</td>\n",
              "      <td>44.0</td>\n",
              "      <td>W</td>\n",
              "      <td>WNW</td>\n",
              "      <td>20.0</td>\n",
              "      <td>24.0</td>\n",
              "      <td>71.0</td>\n",
              "      <td>22.0</td>\n",
              "      <td>1007.7</td>\n",
              "      <td>1007.1</td>\n",
              "      <td>8.0</td>\n",
              "      <td>NaN</td>\n",
              "      <td>16.9</td>\n",
              "      <td>21.8</td>\n",
              "      <td>No</td>\n",
              "      <td>No</td>\n",
              "    </tr>\n",
              "    <tr>\n",
              "      <th>1</th>\n",
              "      <td>2008-12-02</td>\n",
              "      <td>Albury</td>\n",
              "      <td>7.4</td>\n",
              "      <td>25.1</td>\n",
              "      <td>0.0</td>\n",
              "      <td>NaN</td>\n",
              "      <td>NaN</td>\n",
              "      <td>WNW</td>\n",
              "      <td>44.0</td>\n",
              "      <td>NNW</td>\n",
              "      <td>WSW</td>\n",
              "      <td>4.0</td>\n",
              "      <td>22.0</td>\n",
              "      <td>44.0</td>\n",
              "      <td>25.0</td>\n",
              "      <td>1010.6</td>\n",
              "      <td>1007.8</td>\n",
              "      <td>NaN</td>\n",
              "      <td>NaN</td>\n",
              "      <td>17.2</td>\n",
              "      <td>24.3</td>\n",
              "      <td>No</td>\n",
              "      <td>No</td>\n",
              "    </tr>\n",
              "    <tr>\n",
              "      <th>2</th>\n",
              "      <td>2008-12-03</td>\n",
              "      <td>Albury</td>\n",
              "      <td>12.9</td>\n",
              "      <td>25.7</td>\n",
              "      <td>0.0</td>\n",
              "      <td>NaN</td>\n",
              "      <td>NaN</td>\n",
              "      <td>WSW</td>\n",
              "      <td>46.0</td>\n",
              "      <td>W</td>\n",
              "      <td>WSW</td>\n",
              "      <td>19.0</td>\n",
              "      <td>26.0</td>\n",
              "      <td>38.0</td>\n",
              "      <td>30.0</td>\n",
              "      <td>1007.6</td>\n",
              "      <td>1008.7</td>\n",
              "      <td>NaN</td>\n",
              "      <td>2.0</td>\n",
              "      <td>21.0</td>\n",
              "      <td>23.2</td>\n",
              "      <td>No</td>\n",
              "      <td>No</td>\n",
              "    </tr>\n",
              "    <tr>\n",
              "      <th>3</th>\n",
              "      <td>2008-12-04</td>\n",
              "      <td>Albury</td>\n",
              "      <td>9.2</td>\n",
              "      <td>28.0</td>\n",
              "      <td>0.0</td>\n",
              "      <td>NaN</td>\n",
              "      <td>NaN</td>\n",
              "      <td>NE</td>\n",
              "      <td>24.0</td>\n",
              "      <td>SE</td>\n",
              "      <td>E</td>\n",
              "      <td>11.0</td>\n",
              "      <td>9.0</td>\n",
              "      <td>45.0</td>\n",
              "      <td>16.0</td>\n",
              "      <td>1017.6</td>\n",
              "      <td>1012.8</td>\n",
              "      <td>NaN</td>\n",
              "      <td>NaN</td>\n",
              "      <td>18.1</td>\n",
              "      <td>26.5</td>\n",
              "      <td>No</td>\n",
              "      <td>No</td>\n",
              "    </tr>\n",
              "    <tr>\n",
              "      <th>4</th>\n",
              "      <td>2008-12-05</td>\n",
              "      <td>Albury</td>\n",
              "      <td>17.5</td>\n",
              "      <td>32.3</td>\n",
              "      <td>1.0</td>\n",
              "      <td>NaN</td>\n",
              "      <td>NaN</td>\n",
              "      <td>W</td>\n",
              "      <td>41.0</td>\n",
              "      <td>ENE</td>\n",
              "      <td>NW</td>\n",
              "      <td>7.0</td>\n",
              "      <td>20.0</td>\n",
              "      <td>82.0</td>\n",
              "      <td>33.0</td>\n",
              "      <td>1010.8</td>\n",
              "      <td>1006.0</td>\n",
              "      <td>7.0</td>\n",
              "      <td>8.0</td>\n",
              "      <td>17.8</td>\n",
              "      <td>29.7</td>\n",
              "      <td>No</td>\n",
              "      <td>No</td>\n",
              "    </tr>\n",
              "    <tr>\n",
              "      <th>...</th>\n",
              "      <td>...</td>\n",
              "      <td>...</td>\n",
              "      <td>...</td>\n",
              "      <td>...</td>\n",
              "      <td>...</td>\n",
              "      <td>...</td>\n",
              "      <td>...</td>\n",
              "      <td>...</td>\n",
              "      <td>...</td>\n",
              "      <td>...</td>\n",
              "      <td>...</td>\n",
              "      <td>...</td>\n",
              "      <td>...</td>\n",
              "      <td>...</td>\n",
              "      <td>...</td>\n",
              "      <td>...</td>\n",
              "      <td>...</td>\n",
              "      <td>...</td>\n",
              "      <td>...</td>\n",
              "      <td>...</td>\n",
              "      <td>...</td>\n",
              "      <td>...</td>\n",
              "      <td>...</td>\n",
              "    </tr>\n",
              "    <tr>\n",
              "      <th>8420</th>\n",
              "      <td>2017-06-21</td>\n",
              "      <td>Uluru</td>\n",
              "      <td>2.8</td>\n",
              "      <td>23.4</td>\n",
              "      <td>0.0</td>\n",
              "      <td>NaN</td>\n",
              "      <td>NaN</td>\n",
              "      <td>E</td>\n",
              "      <td>31.0</td>\n",
              "      <td>SE</td>\n",
              "      <td>ENE</td>\n",
              "      <td>13.0</td>\n",
              "      <td>11.0</td>\n",
              "      <td>51.0</td>\n",
              "      <td>24.0</td>\n",
              "      <td>1024.6</td>\n",
              "      <td>1020.3</td>\n",
              "      <td>NaN</td>\n",
              "      <td>NaN</td>\n",
              "      <td>10.1</td>\n",
              "      <td>22.4</td>\n",
              "      <td>No</td>\n",
              "      <td>No</td>\n",
              "    </tr>\n",
              "    <tr>\n",
              "      <th>8421</th>\n",
              "      <td>2017-06-22</td>\n",
              "      <td>Uluru</td>\n",
              "      <td>3.6</td>\n",
              "      <td>25.3</td>\n",
              "      <td>0.0</td>\n",
              "      <td>NaN</td>\n",
              "      <td>NaN</td>\n",
              "      <td>NNW</td>\n",
              "      <td>22.0</td>\n",
              "      <td>SE</td>\n",
              "      <td>N</td>\n",
              "      <td>13.0</td>\n",
              "      <td>9.0</td>\n",
              "      <td>56.0</td>\n",
              "      <td>21.0</td>\n",
              "      <td>1023.5</td>\n",
              "      <td>1019.1</td>\n",
              "      <td>NaN</td>\n",
              "      <td>NaN</td>\n",
              "      <td>10.9</td>\n",
              "      <td>24.5</td>\n",
              "      <td>No</td>\n",
              "      <td>No</td>\n",
              "    </tr>\n",
              "    <tr>\n",
              "      <th>8422</th>\n",
              "      <td>2017-06-23</td>\n",
              "      <td>Uluru</td>\n",
              "      <td>5.4</td>\n",
              "      <td>26.9</td>\n",
              "      <td>0.0</td>\n",
              "      <td>NaN</td>\n",
              "      <td>NaN</td>\n",
              "      <td>N</td>\n",
              "      <td>37.0</td>\n",
              "      <td>SE</td>\n",
              "      <td>WNW</td>\n",
              "      <td>9.0</td>\n",
              "      <td>9.0</td>\n",
              "      <td>53.0</td>\n",
              "      <td>24.0</td>\n",
              "      <td>1021.0</td>\n",
              "      <td>1016.8</td>\n",
              "      <td>NaN</td>\n",
              "      <td>NaN</td>\n",
              "      <td>12.5</td>\n",
              "      <td>26.1</td>\n",
              "      <td>No</td>\n",
              "      <td>No</td>\n",
              "    </tr>\n",
              "    <tr>\n",
              "      <th>8423</th>\n",
              "      <td>2017-06-24</td>\n",
              "      <td>Uluru</td>\n",
              "      <td>7.8</td>\n",
              "      <td>27.0</td>\n",
              "      <td>0.0</td>\n",
              "      <td>NaN</td>\n",
              "      <td>NaN</td>\n",
              "      <td>SE</td>\n",
              "      <td>28.0</td>\n",
              "      <td>SSE</td>\n",
              "      <td>N</td>\n",
              "      <td>13.0</td>\n",
              "      <td>7.0</td>\n",
              "      <td>51.0</td>\n",
              "      <td>24.0</td>\n",
              "      <td>1019.4</td>\n",
              "      <td>1016.5</td>\n",
              "      <td>3.0</td>\n",
              "      <td>2.0</td>\n",
              "      <td>15.1</td>\n",
              "      <td>26.0</td>\n",
              "      <td>No</td>\n",
              "      <td>No</td>\n",
              "    </tr>\n",
              "    <tr>\n",
              "      <th>8424</th>\n",
              "      <td>2017-06-25</td>\n",
              "      <td>Uluru</td>\n",
              "      <td>14.9</td>\n",
              "      <td>NaN</td>\n",
              "      <td>0.0</td>\n",
              "      <td>NaN</td>\n",
              "      <td>NaN</td>\n",
              "      <td>NaN</td>\n",
              "      <td>NaN</td>\n",
              "      <td>ESE</td>\n",
              "      <td>ESE</td>\n",
              "      <td>17.0</td>\n",
              "      <td>17.0</td>\n",
              "      <td>62.0</td>\n",
              "      <td>36.0</td>\n",
              "      <td>1020.2</td>\n",
              "      <td>1017.9</td>\n",
              "      <td>8.0</td>\n",
              "      <td>8.0</td>\n",
              "      <td>15.0</td>\n",
              "      <td>20.9</td>\n",
              "      <td>No</td>\n",
              "      <td>NaN</td>\n",
              "    </tr>\n",
              "  </tbody>\n",
              "</table>\n",
              "<p>8425 rows × 23 columns</p>\n",
              "</div>"
            ],
            "text/plain": [
              "            Date Location  MinTemp  MaxTemp  Rainfall  Evaporation  Sunshine  \\\n",
              "0     2008-12-01   Albury     13.4     22.9       0.6          NaN       NaN   \n",
              "1     2008-12-02   Albury      7.4     25.1       0.0          NaN       NaN   \n",
              "2     2008-12-03   Albury     12.9     25.7       0.0          NaN       NaN   \n",
              "3     2008-12-04   Albury      9.2     28.0       0.0          NaN       NaN   \n",
              "4     2008-12-05   Albury     17.5     32.3       1.0          NaN       NaN   \n",
              "...          ...      ...      ...      ...       ...          ...       ...   \n",
              "8420  2017-06-21    Uluru      2.8     23.4       0.0          NaN       NaN   \n",
              "8421  2017-06-22    Uluru      3.6     25.3       0.0          NaN       NaN   \n",
              "8422  2017-06-23    Uluru      5.4     26.9       0.0          NaN       NaN   \n",
              "8423  2017-06-24    Uluru      7.8     27.0       0.0          NaN       NaN   \n",
              "8424  2017-06-25    Uluru     14.9      NaN       0.0          NaN       NaN   \n",
              "\n",
              "     WindGustDir  WindGustSpeed WindDir9am WindDir3pm  WindSpeed9am  \\\n",
              "0              W           44.0          W        WNW          20.0   \n",
              "1            WNW           44.0        NNW        WSW           4.0   \n",
              "2            WSW           46.0          W        WSW          19.0   \n",
              "3             NE           24.0         SE          E          11.0   \n",
              "4              W           41.0        ENE         NW           7.0   \n",
              "...          ...            ...        ...        ...           ...   \n",
              "8420           E           31.0         SE        ENE          13.0   \n",
              "8421         NNW           22.0         SE          N          13.0   \n",
              "8422           N           37.0         SE        WNW           9.0   \n",
              "8423          SE           28.0        SSE          N          13.0   \n",
              "8424         NaN            NaN        ESE        ESE          17.0   \n",
              "\n",
              "      WindSpeed3pm  Humidity9am  Humidity3pm  Pressure9am  Pressure3pm  \\\n",
              "0             24.0         71.0         22.0       1007.7       1007.1   \n",
              "1             22.0         44.0         25.0       1010.6       1007.8   \n",
              "2             26.0         38.0         30.0       1007.6       1008.7   \n",
              "3              9.0         45.0         16.0       1017.6       1012.8   \n",
              "4             20.0         82.0         33.0       1010.8       1006.0   \n",
              "...            ...          ...          ...          ...          ...   \n",
              "8420          11.0         51.0         24.0       1024.6       1020.3   \n",
              "8421           9.0         56.0         21.0       1023.5       1019.1   \n",
              "8422           9.0         53.0         24.0       1021.0       1016.8   \n",
              "8423           7.0         51.0         24.0       1019.4       1016.5   \n",
              "8424          17.0         62.0         36.0       1020.2       1017.9   \n",
              "\n",
              "      Cloud9am  Cloud3pm  Temp9am  Temp3pm RainToday RainTomorrow  \n",
              "0          8.0       NaN     16.9     21.8        No           No  \n",
              "1          NaN       NaN     17.2     24.3        No           No  \n",
              "2          NaN       2.0     21.0     23.2        No           No  \n",
              "3          NaN       NaN     18.1     26.5        No           No  \n",
              "4          7.0       8.0     17.8     29.7        No           No  \n",
              "...        ...       ...      ...      ...       ...          ...  \n",
              "8420       NaN       NaN     10.1     22.4        No           No  \n",
              "8421       NaN       NaN     10.9     24.5        No           No  \n",
              "8422       NaN       NaN     12.5     26.1        No           No  \n",
              "8423       3.0       2.0     15.1     26.0        No           No  \n",
              "8424       8.0       8.0     15.0     20.9        No          NaN  \n",
              "\n",
              "[8425 rows x 23 columns]"
            ]
          },
          "execution_count": 4,
          "metadata": {},
          "output_type": "execute_result"
        }
      ],
      "source": [
        "df"
      ]
    },
    {
      "cell_type": "code",
      "execution_count": null,
      "id": "0e31e728",
      "metadata": {
        "id": "0e31e728",
        "outputId": "bddf900d-7117-4909-ebef-d3a722a189b3"
      },
      "outputs": [
        {
          "data": {
            "text/plain": [
              "<AxesSubplot:>"
            ]
          },
          "execution_count": 5,
          "metadata": {},
          "output_type": "execute_result"
        },
        {
          "data": {
            "image/png": "[encoded data removed]",
            "text/plain": [
              "<Figure size 640x480 with 2 Axes>"
            ]
          },
          "metadata": {},
          "output_type": "display_data"
        }
      ],
      "source": [
        "sns.heatmap(df.corr())"
      ]
    },
    {
      "cell_type": "code",
      "execution_count": null,
      "id": "0c414fe7",
      "metadata": {
        "id": "0c414fe7",
        "outputId": "9ee84993-144e-4ff8-d986-d420eaea1fd0"
      },
      "outputs": [
        {
          "data": {
            "text/plain": [
              "<AxesSubplot:>"
            ]
          },
          "execution_count": 6,
          "metadata": {},
          "output_type": "execute_result"
        },
        {
          "data": {
            "image/png": "[encoded data removed]",
            "text/plain": [
              "<Figure size 1500x600 with 2 Axes>"
            ]
          },
          "metadata": {},
          "output_type": "display_data"
        }
      ],
      "source": [
        "plt.figure(figsize=(15, 6))\n",
        "sns.heatmap(df.isna())"
      ]
    },
    {
      "cell_type": "code",
      "execution_count": null,
      "id": "dd2805dc",
      "metadata": {
        "id": "dd2805dc",
        "outputId": "8e5659a4-f8bb-4df0-e346-26447888a539"
      },
      "outputs": [
        {
          "name": "stdout",
          "output_type": "stream",
          "text": [
            "<class 'pandas.core.frame.DataFrame'>\n",
            "RangeIndex: 8425 entries, 0 to 8424\n",
            "Data columns (total 23 columns):\n",
            " #   Column         Non-Null Count  Dtype  \n",
            "---  ------         --------------  -----  \n",
            " 0   Date           8425 non-null   object \n",
            " 1   Location       8425 non-null   object \n",
            " 2   MinTemp        8350 non-null   float64\n",
            " 3   MaxTemp        8365 non-null   float64\n",
            " 4   Rainfall       8185 non-null   float64\n",
            " 5   Evaporation    4913 non-null   float64\n",
            " 6   Sunshine       4431 non-null   float64\n",
            " 7   WindGustDir    7434 non-null   object \n",
            " 8   WindGustSpeed  7434 non-null   float64\n",
            " 9   WindDir9am     7596 non-null   object \n",
            " 10  WindDir3pm     8117 non-null   object \n",
            " 11  WindSpeed9am   8349 non-null   float64\n",
            " 12  WindSpeed3pm   8318 non-null   float64\n",
            " 13  Humidity9am    8366 non-null   float64\n",
            " 14  Humidity3pm    8323 non-null   float64\n",
            " 15  Pressure9am    7116 non-null   float64\n",
            " 16  Pressure3pm    7113 non-null   float64\n",
            " 17  Cloud9am       6004 non-null   float64\n",
            " 18  Cloud3pm       5970 non-null   float64\n",
            " 19  Temp9am        8369 non-null   float64\n",
            " 20  Temp3pm        8329 non-null   float64\n",
            " 21  RainToday      8185 non-null   object \n",
            " 22  RainTomorrow   8186 non-null   object \n",
            "dtypes: float64(16), object(7)\n",
            "memory usage: 1.5+ MB\n"
          ]
        }
      ],
      "source": [
        "df.info()"
      ]
    },
    {
      "cell_type": "code",
      "execution_count": null,
      "id": "5c597f02",
      "metadata": {
        "id": "5c597f02",
        "outputId": "8a88281a-8c61-4f32-a450-1a887d683516"
      },
      "outputs": [
        {
          "data": {
            "text/html": [
              "<div>\n",
              "<style scoped>\n",
              "    .dataframe tbody tr th:only-of-type {\n",
              "        vertical-align: middle;\n",
              "    }\n",
              "\n",
              "    .dataframe tbody tr th {\n",
              "        vertical-align: top;\n",
              "    }\n",
              "\n",
              "    .dataframe thead th {\n",
              "        text-align: right;\n",
              "    }\n",
              "</style>\n",
              "<table border=\"1\" class=\"dataframe\">\n",
              "  <thead>\n",
              "    <tr style=\"text-align: right;\">\n",
              "      <th></th>\n",
              "      <th>MinTemp</th>\n",
              "      <th>MaxTemp</th>\n",
              "      <th>Rainfall</th>\n",
              "      <th>Evaporation</th>\n",
              "      <th>Sunshine</th>\n",
              "      <th>WindGustSpeed</th>\n",
              "      <th>WindSpeed9am</th>\n",
              "      <th>WindSpeed3pm</th>\n",
              "      <th>Humidity9am</th>\n",
              "      <th>Humidity3pm</th>\n",
              "      <th>Pressure9am</th>\n",
              "      <th>Pressure3pm</th>\n",
              "      <th>Cloud9am</th>\n",
              "      <th>Cloud3pm</th>\n",
              "      <th>Temp9am</th>\n",
              "      <th>Temp3pm</th>\n",
              "    </tr>\n",
              "  </thead>\n",
              "  <tbody>\n",
              "    <tr>\n",
              "      <th>count</th>\n",
              "      <td>8350.000000</td>\n",
              "      <td>8365.000000</td>\n",
              "      <td>8185.000000</td>\n",
              "      <td>4913.000000</td>\n",
              "      <td>4431.000000</td>\n",
              "      <td>7434.000000</td>\n",
              "      <td>8349.000000</td>\n",
              "      <td>8318.000000</td>\n",
              "      <td>8366.000000</td>\n",
              "      <td>8323.000000</td>\n",
              "      <td>7116.000000</td>\n",
              "      <td>7113.000000</td>\n",
              "      <td>6004.000000</td>\n",
              "      <td>5970.000000</td>\n",
              "      <td>8369.000000</td>\n",
              "      <td>8329.000000</td>\n",
              "    </tr>\n",
              "    <tr>\n",
              "      <th>mean</th>\n",
              "      <td>13.193305</td>\n",
              "      <td>23.859976</td>\n",
              "      <td>2.805913</td>\n",
              "      <td>5.389395</td>\n",
              "      <td>7.632205</td>\n",
              "      <td>40.174469</td>\n",
              "      <td>13.847646</td>\n",
              "      <td>18.533662</td>\n",
              "      <td>67.822496</td>\n",
              "      <td>51.249790</td>\n",
              "      <td>1017.640233</td>\n",
              "      <td>1015.236075</td>\n",
              "      <td>4.566622</td>\n",
              "      <td>4.503183</td>\n",
              "      <td>17.762015</td>\n",
              "      <td>22.442934</td>\n",
              "    </tr>\n",
              "    <tr>\n",
              "      <th>std</th>\n",
              "      <td>5.403596</td>\n",
              "      <td>6.136408</td>\n",
              "      <td>10.459379</td>\n",
              "      <td>5.044484</td>\n",
              "      <td>3.896235</td>\n",
              "      <td>14.665721</td>\n",
              "      <td>10.174579</td>\n",
              "      <td>9.766986</td>\n",
              "      <td>16.833283</td>\n",
              "      <td>18.423774</td>\n",
              "      <td>6.828699</td>\n",
              "      <td>6.766681</td>\n",
              "      <td>2.877658</td>\n",
              "      <td>2.731659</td>\n",
              "      <td>5.627035</td>\n",
              "      <td>5.980020</td>\n",
              "    </tr>\n",
              "    <tr>\n",
              "      <th>min</th>\n",
              "      <td>-2.000000</td>\n",
              "      <td>8.200000</td>\n",
              "      <td>0.000000</td>\n",
              "      <td>0.000000</td>\n",
              "      <td>0.000000</td>\n",
              "      <td>7.000000</td>\n",
              "      <td>0.000000</td>\n",
              "      <td>0.000000</td>\n",
              "      <td>10.000000</td>\n",
              "      <td>6.000000</td>\n",
              "      <td>989.800000</td>\n",
              "      <td>982.900000</td>\n",
              "      <td>0.000000</td>\n",
              "      <td>0.000000</td>\n",
              "      <td>1.900000</td>\n",
              "      <td>7.300000</td>\n",
              "    </tr>\n",
              "    <tr>\n",
              "      <th>25%</th>\n",
              "      <td>9.200000</td>\n",
              "      <td>19.300000</td>\n",
              "      <td>0.000000</td>\n",
              "      <td>2.600000</td>\n",
              "      <td>4.750000</td>\n",
              "      <td>30.000000</td>\n",
              "      <td>6.000000</td>\n",
              "      <td>11.000000</td>\n",
              "      <td>56.000000</td>\n",
              "      <td>39.000000</td>\n",
              "      <td>1013.000000</td>\n",
              "      <td>1010.400000</td>\n",
              "      <td>1.000000</td>\n",
              "      <td>2.000000</td>\n",
              "      <td>13.800000</td>\n",
              "      <td>18.000000</td>\n",
              "    </tr>\n",
              "    <tr>\n",
              "      <th>50%</th>\n",
              "      <td>13.300000</td>\n",
              "      <td>23.300000</td>\n",
              "      <td>0.000000</td>\n",
              "      <td>4.600000</td>\n",
              "      <td>8.700000</td>\n",
              "      <td>39.000000</td>\n",
              "      <td>13.000000</td>\n",
              "      <td>19.000000</td>\n",
              "      <td>68.000000</td>\n",
              "      <td>51.000000</td>\n",
              "      <td>1017.700000</td>\n",
              "      <td>1015.300000</td>\n",
              "      <td>5.000000</td>\n",
              "      <td>5.000000</td>\n",
              "      <td>17.800000</td>\n",
              "      <td>21.900000</td>\n",
              "    </tr>\n",
              "    <tr>\n",
              "      <th>75%</th>\n",
              "      <td>17.400000</td>\n",
              "      <td>28.000000</td>\n",
              "      <td>1.000000</td>\n",
              "      <td>7.000000</td>\n",
              "      <td>10.700000</td>\n",
              "      <td>50.000000</td>\n",
              "      <td>20.000000</td>\n",
              "      <td>24.000000</td>\n",
              "      <td>80.000000</td>\n",
              "      <td>63.000000</td>\n",
              "      <td>1022.300000</td>\n",
              "      <td>1019.800000</td>\n",
              "      <td>7.000000</td>\n",
              "      <td>7.000000</td>\n",
              "      <td>21.900000</td>\n",
              "      <td>26.400000</td>\n",
              "    </tr>\n",
              "    <tr>\n",
              "      <th>max</th>\n",
              "      <td>28.500000</td>\n",
              "      <td>45.500000</td>\n",
              "      <td>371.000000</td>\n",
              "      <td>145.000000</td>\n",
              "      <td>13.900000</td>\n",
              "      <td>107.000000</td>\n",
              "      <td>63.000000</td>\n",
              "      <td>83.000000</td>\n",
              "      <td>100.000000</td>\n",
              "      <td>99.000000</td>\n",
              "      <td>1039.000000</td>\n",
              "      <td>1036.000000</td>\n",
              "      <td>8.000000</td>\n",
              "      <td>8.000000</td>\n",
              "      <td>39.400000</td>\n",
              "      <td>44.100000</td>\n",
              "    </tr>\n",
              "  </tbody>\n",
              "</table>\n",
              "</div>"
            ],
            "text/plain": [
              "           MinTemp      MaxTemp     Rainfall  Evaporation     Sunshine  \\\n",
              "count  8350.000000  8365.000000  8185.000000  4913.000000  4431.000000   \n",
              "mean     13.193305    23.859976     2.805913     5.389395     7.632205   \n",
              "std       5.403596     6.136408    10.459379     5.044484     3.896235   \n",
              "min      -2.000000     8.200000     0.000000     0.000000     0.000000   \n",
              "25%       9.200000    19.300000     0.000000     2.600000     4.750000   \n",
              "50%      13.300000    23.300000     0.000000     4.600000     8.700000   \n",
              "75%      17.400000    28.000000     1.000000     7.000000    10.700000   \n",
              "max      28.500000    45.500000   371.000000   145.000000    13.900000   \n",
              "\n",
              "       WindGustSpeed  WindSpeed9am  WindSpeed3pm  Humidity9am  Humidity3pm  \\\n",
              "count    7434.000000   8349.000000   8318.000000  8366.000000  8323.000000   \n",
              "mean       40.174469     13.847646     18.533662    67.822496    51.249790   \n",
              "std        14.665721     10.174579      9.766986    16.833283    18.423774   \n",
              "min         7.000000      0.000000      0.000000    10.000000     6.000000   \n",
              "25%        30.000000      6.000000     11.000000    56.000000    39.000000   \n",
              "50%        39.000000     13.000000     19.000000    68.000000    51.000000   \n",
              "75%        50.000000     20.000000     24.000000    80.000000    63.000000   \n",
              "max       107.000000     63.000000     83.000000   100.000000    99.000000   \n",
              "\n",
              "       Pressure9am  Pressure3pm     Cloud9am     Cloud3pm      Temp9am  \\\n",
              "count  7116.000000  7113.000000  6004.000000  5970.000000  8369.000000   \n",
              "mean   1017.640233  1015.236075     4.566622     4.503183    17.762015   \n",
              "std       6.828699     6.766681     2.877658     2.731659     5.627035   \n",
              "min     989.800000   982.900000     0.000000     0.000000     1.900000   \n",
              "25%    1013.000000  1010.400000     1.000000     2.000000    13.800000   \n",
              "50%    1017.700000  1015.300000     5.000000     5.000000    17.800000   \n",
              "75%    1022.300000  1019.800000     7.000000     7.000000    21.900000   \n",
              "max    1039.000000  1036.000000     8.000000     8.000000    39.400000   \n",
              "\n",
              "           Temp3pm  \n",
              "count  8329.000000  \n",
              "mean     22.442934  \n",
              "std       5.980020  \n",
              "min       7.300000  \n",
              "25%      18.000000  \n",
              "50%      21.900000  \n",
              "75%      26.400000  \n",
              "max      44.100000  "
            ]
          },
          "execution_count": 8,
          "metadata": {},
          "output_type": "execute_result"
        }
      ],
      "source": [
        "df.describe()"
      ]
    },
    {
      "cell_type": "code",
      "execution_count": null,
      "id": "5478cffb",
      "metadata": {
        "id": "5478cffb"
      },
      "outputs": [],
      "source": [
        "from sklearn.preprocessing import LabelEncoder\n",
        "le = LabelEncoder()\n",
        "df['RainToday'] = le.fit_transform(df['RainToday'])\n",
        "df['RainTomorrow'] = le.fit_transform(df['RainTomorrow'])\n",
        "df['WindGustDir'] = le.fit_transform(df['WindGustDir'])\n",
        "df['Location'] = le.fit_transform(df['Location'])\n",
        "df['WindDir3pm'] = le.fit_transform(df['WindDir3pm'])\n",
        "df['WindDir9am'] = le.fit_transform(df['WindDir9am'])\n"
      ]
    },
    {
      "cell_type": "code",
      "execution_count": null,
      "id": "e1e5dce8",
      "metadata": {
        "id": "e1e5dce8"
      },
      "outputs": [],
      "source": [
        "df['date'] = pd.to_datetime(df['Date'])"
      ]
    },
    {
      "cell_type": "code",
      "execution_count": null,
      "id": "1ce10089",
      "metadata": {
        "id": "1ce10089"
      },
      "outputs": [],
      "source": [
        "df['month'] = df['date'].dt.month\n",
        "df['year'] = df['date'].dt.year"
      ]
    },
    {
      "cell_type": "code",
      "execution_count": null,
      "id": "e870f5b6",
      "metadata": {
        "id": "e870f5b6"
      },
      "outputs": [],
      "source": [
        "df.drop(['Date','date'],axis=1,inplace=True)"
      ]
    },
    {
      "cell_type": "code",
      "execution_count": null,
      "id": "3b797dcc",
      "metadata": {
        "scrolled": false,
        "id": "3b797dcc",
        "outputId": "8a5a49da-f987-4e6b-86fa-ca9519c3fb4c"
      },
      "outputs": [
        {
          "data": {
            "text/plain": [
              "<AxesSubplot:xlabel='Evaporation', ylabel='Density'>"
            ]
          },
          "execution_count": 13,
          "metadata": {},
          "output_type": "execute_result"
        },
        {
          "data": {
            "image/png": "[encoded data removed]",
            "text/plain": [
              "<Figure size 640x480 with 1 Axes>"
            ]
          },
          "metadata": {},
          "output_type": "display_data"
        }
      ],
      "source": [
        "sns.kdeplot(x='Evaporation',data=df)"
      ]
    },
    {
      "cell_type": "code",
      "execution_count": null,
      "id": "caa9e9ef",
      "metadata": {
        "id": "caa9e9ef",
        "outputId": "6416e363-063b-41a9-e495-6e7949743548"
      },
      "outputs": [
        {
          "data": {
            "text/plain": [
              "<AxesSubplot:xlabel='Sunshine', ylabel='Density'>"
            ]
          },
          "execution_count": 14,
          "metadata": {},
          "output_type": "execute_result"
        },
        {
          "data": {
            "image/png": "[encoded data removed]",
            "text/plain": [
              "<Figure size 640x480 with 1 Axes>"
            ]
          },
          "metadata": {},
          "output_type": "display_data"
        }
      ],
      "source": [
        "sns.kdeplot(x='Sunshine',data=df)"
      ]
    },
    {
      "cell_type": "code",
      "execution_count": null,
      "id": "efe66db7",
      "metadata": {
        "id": "efe66db7",
        "outputId": "eb629f8e-09db-44f6-851c-87b816ddc035"
      },
      "outputs": [
        {
          "data": {
            "text/plain": [
              "[1670]"
            ]
          },
          "execution_count": 15,
          "metadata": {},
          "output_type": "execute_result"
        }
      ],
      "source": [
        "[df.duplicated().sum()]"
      ]
    },
    {
      "cell_type": "code",
      "execution_count": null,
      "id": "9829cf65",
      "metadata": {
        "id": "9829cf65"
      },
      "outputs": [],
      "source": [
        "df.drop_duplicates(inplace=True)"
      ]
    },
    {
      "cell_type": "code",
      "execution_count": null,
      "id": "2115afd9",
      "metadata": {
        "id": "2115afd9",
        "outputId": "255e139f-b4bd-4dff-b508-e3ac2dfe3bfb"
      },
      "outputs": [
        {
          "data": {
            "text/plain": [
              "<AxesSubplot:xlabel='Cloud9am', ylabel='Density'>"
            ]
          },
          "execution_count": 17,
          "metadata": {},
          "output_type": "execute_result"
        },
        {
          "data": {
            "image/png": "[encoded data removed]",
            "text/plain": [
              "<Figure size 640x480 with 1 Axes>"
            ]
          },
          "metadata": {},
          "output_type": "display_data"
        }
      ],
      "source": [
        "sns.kdeplot(x='Cloud9am',data=df)"
      ]
    },
    {
      "cell_type": "code",
      "execution_count": null,
      "id": "efde4d32",
      "metadata": {
        "id": "efde4d32",
        "outputId": "849cb179-abb5-420a-fc94-3f992887d301"
      },
      "outputs": [
        {
          "data": {
            "text/plain": [
              "<AxesSubplot:xlabel='Pressure3pm', ylabel='Density'>"
            ]
          },
          "execution_count": 18,
          "metadata": {},
          "output_type": "execute_result"
        },
        {
          "data": {
            "image/png": "[encoded data removed]",
            "text/plain": [
              "<Figure size 640x480 with 1 Axes>"
            ]
          },
          "metadata": {},
          "output_type": "display_data"
        }
      ],
      "source": [
        "sns.distplot(df['Pressure3pm'])"
      ]
    },
    {
      "cell_type": "code",
      "execution_count": null,
      "id": "207e91d5",
      "metadata": {
        "id": "207e91d5",
        "outputId": "057f7e28-72e7-4d39-d6e8-6a1c522a06b8"
      },
      "outputs": [
        {
          "data": {
            "text/plain": [
              "<AxesSubplot:xlabel='WindSpeed3pm', ylabel='Density'>"
            ]
          },
          "execution_count": 19,
          "metadata": {},
          "output_type": "execute_result"
        },
        {
          "data": {
            "image/png": "[encoded data removed]",
            "text/plain": [
              "<Figure size 640x480 with 1 Axes>"
            ]
          },
          "metadata": {},
          "output_type": "display_data"
        }
      ],
      "source": [
        "sns.distplot(df['WindSpeed3pm'])"
      ]
    },
    {
      "cell_type": "code",
      "execution_count": null,
      "id": "4ca848ad",
      "metadata": {
        "id": "4ca848ad",
        "outputId": "bbfc15f6-218e-434f-e49d-5f4d8e9a5dd6"
      },
      "outputs": [
        {
          "data": {
            "text/plain": [
              "<AxesSubplot:xlabel='Humidity9am', ylabel='Density'>"
            ]
          },
          "execution_count": 20,
          "metadata": {},
          "output_type": "execute_result"
        },
        {
          "data": {
            "image/png": "[encoded data removed]",
            "text/plain": [
              "<Figure size 640x480 with 1 Axes>"
            ]
          },
          "metadata": {},
          "output_type": "display_data"
        }
      ],
      "source": [
        "sns.distplot(df['Humidity9am'])"
      ]
    },
    {
      "cell_type": "code",
      "execution_count": null,
      "id": "67bd9bad",
      "metadata": {
        "id": "67bd9bad",
        "outputId": "14a9c8ba-23ad-494a-808c-1576e8c701ac"
      },
      "outputs": [
        {
          "data": {
            "text/plain": [
              "Location         0\n",
              "MinTemp          0\n",
              "MaxTemp          0\n",
              "Rainfall         0\n",
              "Evaporation      0\n",
              "Sunshine         0\n",
              "WindGustDir      0\n",
              "WindGustSpeed    0\n",
              "WindDir9am       0\n",
              "WindDir3pm       0\n",
              "WindSpeed9am     0\n",
              "WindSpeed3pm     0\n",
              "Humidity9am      0\n",
              "Humidity3pm      0\n",
              "Pressure9am      0\n",
              "Pressure3pm      0\n",
              "Cloud9am         0\n",
              "Cloud3pm         0\n",
              "Temp9am          0\n",
              "Temp3pm          0\n",
              "RainToday        0\n",
              "RainTomorrow     0\n",
              "month            0\n",
              "year             0\n",
              "dtype: int64"
            ]
          },
          "execution_count": 29,
          "metadata": {},
          "output_type": "execute_result"
        }
      ],
      "source": [
        "df.isna().sum()"
      ]
    },
    {
      "cell_type": "code",
      "execution_count": null,
      "id": "eb272aad",
      "metadata": {
        "id": "eb272aad"
      },
      "outputs": [],
      "source": [
        "mode_temh = df['MaxTemp'].mode()[0]\n",
        "mode_teml = df['MinTemp'].mode()[0]"
      ]
    },
    {
      "cell_type": "code",
      "execution_count": null,
      "id": "9a4e3ca1",
      "metadata": {
        "id": "9a4e3ca1"
      },
      "outputs": [],
      "source": [
        "if pd.isnull(mode_temh):\n",
        "    df['MaxTemp'].fillna('Unknown', inplace=True)\n",
        "else:\n",
        "    df['MaxTemp'].fillna(mode_temh, inplace=True)"
      ]
    },
    {
      "cell_type": "code",
      "execution_count": null,
      "id": "337647c0",
      "metadata": {
        "id": "337647c0"
      },
      "outputs": [],
      "source": [
        "if pd.isnull(mode_teml):\n",
        "    df['MinTemp'].fillna('Unknown', inplace=True)\n",
        "else:\n",
        "    df['MinTemp'].fillna(mode_teml, inplace=True)"
      ]
    },
    {
      "cell_type": "code",
      "execution_count": null,
      "id": "2b6230dd",
      "metadata": {
        "id": "2b6230dd"
      },
      "outputs": [],
      "source": [
        "from sklearn.impute import KNNImputer"
      ]
    },
    {
      "cell_type": "code",
      "execution_count": null,
      "id": "39093c66",
      "metadata": {
        "id": "39093c66"
      },
      "outputs": [],
      "source": [
        "knn_SE = KNNImputer(n_neighbors=3)\n",
        "df[['Rainfall','Sunshine','Evaporation']]=knn_SE.fit_transform(df[['Rainfall','Sunshine','Evaporation']])"
      ]
    },
    {
      "cell_type": "code",
      "execution_count": null,
      "id": "21c09a3d",
      "metadata": {
        "id": "21c09a3d"
      },
      "outputs": [],
      "source": [
        "knn_pt = KNNImputer(n_neighbors=3)\n",
        "df[['Rainfall','Pressure9am','Pressure3pm','Temp9am','Temp3pm']]=knn_pt.fit_transform(df[['Rainfall','Pressure9am','Pressure3pm','Temp9am','Temp3pm']])"
      ]
    },
    {
      "cell_type": "code",
      "execution_count": null,
      "id": "e9cf873e",
      "metadata": {
        "id": "e9cf873e"
      },
      "outputs": [],
      "source": [
        "df['WindDir9am'].fillna('OTH', inplace=True)\n",
        "df['WindDir3pm'].fillna('OTH', inplace=True)\n",
        "df['WindGustDir'].fillna('OTH',inplace=True)"
      ]
    },
    {
      "cell_type": "code",
      "execution_count": null,
      "id": "ed8a7a3d",
      "metadata": {
        "id": "ed8a7a3d"
      },
      "outputs": [],
      "source": [
        "knn_wspe = KNNImputer(n_neighbors=3)\n",
        "df[['Rainfall','RainToday','WindSpeed3pm','WindSpeed9am','Cloud3pm','Cloud9am','Humidity9am','WindGustSpeed','Humidity3pm']]=knn_wspe.fit_transform(df[['Rainfall','RainToday','WindSpeed3pm','WindSpeed9am','Cloud3pm','Cloud9am','Humidity9am','WindGustSpeed','Humidity3pm']])"
      ]
    },
    {
      "cell_type": "code",
      "execution_count": null,
      "id": "4a6734c9",
      "metadata": {
        "id": "4a6734c9",
        "outputId": "7ac4cc10-bf99-4a2d-847c-f49bd30b7c52"
      },
      "outputs": [
        {
          "data": {
            "text/html": [
              "<div>\n",
              "<style scoped>\n",
              "    .dataframe tbody tr th:only-of-type {\n",
              "        vertical-align: middle;\n",
              "    }\n",
              "\n",
              "    .dataframe tbody tr th {\n",
              "        vertical-align: top;\n",
              "    }\n",
              "\n",
              "    .dataframe thead th {\n",
              "        text-align: right;\n",
              "    }\n",
              "</style>\n",
              "<table border=\"1\" class=\"dataframe\">\n",
              "  <thead>\n",
              "    <tr style=\"text-align: right;\">\n",
              "      <th></th>\n",
              "      <th>Location</th>\n",
              "      <th>MinTemp</th>\n",
              "      <th>MaxTemp</th>\n",
              "      <th>Rainfall</th>\n",
              "      <th>Evaporation</th>\n",
              "      <th>Sunshine</th>\n",
              "      <th>WindGustDir</th>\n",
              "      <th>WindGustSpeed</th>\n",
              "      <th>WindDir9am</th>\n",
              "      <th>WindDir3pm</th>\n",
              "      <th>WindSpeed9am</th>\n",
              "      <th>WindSpeed3pm</th>\n",
              "      <th>Humidity9am</th>\n",
              "      <th>Humidity3pm</th>\n",
              "      <th>Pressure9am</th>\n",
              "      <th>Pressure3pm</th>\n",
              "      <th>Cloud9am</th>\n",
              "      <th>Cloud3pm</th>\n",
              "      <th>Temp9am</th>\n",
              "      <th>Temp3pm</th>\n",
              "      <th>RainToday</th>\n",
              "      <th>RainTomorrow</th>\n",
              "      <th>month</th>\n",
              "      <th>year</th>\n",
              "    </tr>\n",
              "  </thead>\n",
              "  <tbody>\n",
              "    <tr>\n",
              "      <th>0</th>\n",
              "      <td>1</td>\n",
              "      <td>13.4</td>\n",
              "      <td>22.9</td>\n",
              "      <td>0.6</td>\n",
              "      <td>2.666667</td>\n",
              "      <td>5.600000</td>\n",
              "      <td>14</td>\n",
              "      <td>44.0</td>\n",
              "      <td>14</td>\n",
              "      <td>15</td>\n",
              "      <td>20.0</td>\n",
              "      <td>24.0</td>\n",
              "      <td>71.0</td>\n",
              "      <td>22.0</td>\n",
              "      <td>1007.7</td>\n",
              "      <td>1007.1</td>\n",
              "      <td>8.000000</td>\n",
              "      <td>4.000000</td>\n",
              "      <td>16.9</td>\n",
              "      <td>21.8</td>\n",
              "      <td>0.0</td>\n",
              "      <td>0</td>\n",
              "      <td>12</td>\n",
              "      <td>2008</td>\n",
              "    </tr>\n",
              "    <tr>\n",
              "      <th>1</th>\n",
              "      <td>1</td>\n",
              "      <td>7.4</td>\n",
              "      <td>25.1</td>\n",
              "      <td>0.0</td>\n",
              "      <td>4.800000</td>\n",
              "      <td>8.800000</td>\n",
              "      <td>15</td>\n",
              "      <td>44.0</td>\n",
              "      <td>6</td>\n",
              "      <td>16</td>\n",
              "      <td>4.0</td>\n",
              "      <td>22.0</td>\n",
              "      <td>44.0</td>\n",
              "      <td>25.0</td>\n",
              "      <td>1010.6</td>\n",
              "      <td>1007.8</td>\n",
              "      <td>2.666667</td>\n",
              "      <td>2.333333</td>\n",
              "      <td>17.2</td>\n",
              "      <td>24.3</td>\n",
              "      <td>0.0</td>\n",
              "      <td>0</td>\n",
              "      <td>12</td>\n",
              "      <td>2008</td>\n",
              "    </tr>\n",
              "    <tr>\n",
              "      <th>2</th>\n",
              "      <td>1</td>\n",
              "      <td>12.9</td>\n",
              "      <td>25.7</td>\n",
              "      <td>0.0</td>\n",
              "      <td>4.800000</td>\n",
              "      <td>8.800000</td>\n",
              "      <td>16</td>\n",
              "      <td>46.0</td>\n",
              "      <td>14</td>\n",
              "      <td>16</td>\n",
              "      <td>19.0</td>\n",
              "      <td>26.0</td>\n",
              "      <td>38.0</td>\n",
              "      <td>30.0</td>\n",
              "      <td>1007.6</td>\n",
              "      <td>1008.7</td>\n",
              "      <td>2.666667</td>\n",
              "      <td>2.000000</td>\n",
              "      <td>21.0</td>\n",
              "      <td>23.2</td>\n",
              "      <td>0.0</td>\n",
              "      <td>0</td>\n",
              "      <td>12</td>\n",
              "      <td>2008</td>\n",
              "    </tr>\n",
              "    <tr>\n",
              "      <th>3</th>\n",
              "      <td>1</td>\n",
              "      <td>9.2</td>\n",
              "      <td>28.0</td>\n",
              "      <td>0.0</td>\n",
              "      <td>4.800000</td>\n",
              "      <td>8.800000</td>\n",
              "      <td>4</td>\n",
              "      <td>24.0</td>\n",
              "      <td>10</td>\n",
              "      <td>0</td>\n",
              "      <td>11.0</td>\n",
              "      <td>9.0</td>\n",
              "      <td>45.0</td>\n",
              "      <td>16.0</td>\n",
              "      <td>1017.6</td>\n",
              "      <td>1012.8</td>\n",
              "      <td>1.333333</td>\n",
              "      <td>1.000000</td>\n",
              "      <td>18.1</td>\n",
              "      <td>26.5</td>\n",
              "      <td>0.0</td>\n",
              "      <td>0</td>\n",
              "      <td>12</td>\n",
              "      <td>2008</td>\n",
              "    </tr>\n",
              "    <tr>\n",
              "      <th>4</th>\n",
              "      <td>1</td>\n",
              "      <td>17.5</td>\n",
              "      <td>32.3</td>\n",
              "      <td>1.0</td>\n",
              "      <td>11.000000</td>\n",
              "      <td>10.066667</td>\n",
              "      <td>14</td>\n",
              "      <td>41.0</td>\n",
              "      <td>1</td>\n",
              "      <td>7</td>\n",
              "      <td>7.0</td>\n",
              "      <td>20.0</td>\n",
              "      <td>82.0</td>\n",
              "      <td>33.0</td>\n",
              "      <td>1010.8</td>\n",
              "      <td>1006.0</td>\n",
              "      <td>7.000000</td>\n",
              "      <td>8.000000</td>\n",
              "      <td>17.8</td>\n",
              "      <td>29.7</td>\n",
              "      <td>0.0</td>\n",
              "      <td>0</td>\n",
              "      <td>12</td>\n",
              "      <td>2008</td>\n",
              "    </tr>\n",
              "    <tr>\n",
              "      <th>...</th>\n",
              "      <td>...</td>\n",
              "      <td>...</td>\n",
              "      <td>...</td>\n",
              "      <td>...</td>\n",
              "      <td>...</td>\n",
              "      <td>...</td>\n",
              "      <td>...</td>\n",
              "      <td>...</td>\n",
              "      <td>...</td>\n",
              "      <td>...</td>\n",
              "      <td>...</td>\n",
              "      <td>...</td>\n",
              "      <td>...</td>\n",
              "      <td>...</td>\n",
              "      <td>...</td>\n",
              "      <td>...</td>\n",
              "      <td>...</td>\n",
              "      <td>...</td>\n",
              "      <td>...</td>\n",
              "      <td>...</td>\n",
              "      <td>...</td>\n",
              "      <td>...</td>\n",
              "      <td>...</td>\n",
              "      <td>...</td>\n",
              "    </tr>\n",
              "    <tr>\n",
              "      <th>8420</th>\n",
              "      <td>9</td>\n",
              "      <td>2.8</td>\n",
              "      <td>23.4</td>\n",
              "      <td>0.0</td>\n",
              "      <td>4.800000</td>\n",
              "      <td>8.800000</td>\n",
              "      <td>0</td>\n",
              "      <td>31.0</td>\n",
              "      <td>10</td>\n",
              "      <td>1</td>\n",
              "      <td>13.0</td>\n",
              "      <td>11.0</td>\n",
              "      <td>51.0</td>\n",
              "      <td>24.0</td>\n",
              "      <td>1024.6</td>\n",
              "      <td>1020.3</td>\n",
              "      <td>1.666667</td>\n",
              "      <td>1.333333</td>\n",
              "      <td>10.1</td>\n",
              "      <td>22.4</td>\n",
              "      <td>0.0</td>\n",
              "      <td>0</td>\n",
              "      <td>6</td>\n",
              "      <td>2017</td>\n",
              "    </tr>\n",
              "    <tr>\n",
              "      <th>8421</th>\n",
              "      <td>9</td>\n",
              "      <td>3.6</td>\n",
              "      <td>25.3</td>\n",
              "      <td>0.0</td>\n",
              "      <td>4.800000</td>\n",
              "      <td>8.800000</td>\n",
              "      <td>6</td>\n",
              "      <td>22.0</td>\n",
              "      <td>10</td>\n",
              "      <td>3</td>\n",
              "      <td>13.0</td>\n",
              "      <td>9.0</td>\n",
              "      <td>56.0</td>\n",
              "      <td>21.0</td>\n",
              "      <td>1023.5</td>\n",
              "      <td>1019.1</td>\n",
              "      <td>2.000000</td>\n",
              "      <td>0.666667</td>\n",
              "      <td>10.9</td>\n",
              "      <td>24.5</td>\n",
              "      <td>0.0</td>\n",
              "      <td>0</td>\n",
              "      <td>6</td>\n",
              "      <td>2017</td>\n",
              "    </tr>\n",
              "    <tr>\n",
              "      <th>8422</th>\n",
              "      <td>9</td>\n",
              "      <td>5.4</td>\n",
              "      <td>26.9</td>\n",
              "      <td>0.0</td>\n",
              "      <td>4.800000</td>\n",
              "      <td>8.800000</td>\n",
              "      <td>3</td>\n",
              "      <td>37.0</td>\n",
              "      <td>10</td>\n",
              "      <td>15</td>\n",
              "      <td>9.0</td>\n",
              "      <td>9.0</td>\n",
              "      <td>53.0</td>\n",
              "      <td>24.0</td>\n",
              "      <td>1021.0</td>\n",
              "      <td>1016.8</td>\n",
              "      <td>1.666667</td>\n",
              "      <td>0.000000</td>\n",
              "      <td>12.5</td>\n",
              "      <td>26.1</td>\n",
              "      <td>0.0</td>\n",
              "      <td>0</td>\n",
              "      <td>6</td>\n",
              "      <td>2017</td>\n",
              "    </tr>\n",
              "    <tr>\n",
              "      <th>8423</th>\n",
              "      <td>9</td>\n",
              "      <td>7.8</td>\n",
              "      <td>27.0</td>\n",
              "      <td>0.0</td>\n",
              "      <td>4.800000</td>\n",
              "      <td>8.800000</td>\n",
              "      <td>10</td>\n",
              "      <td>28.0</td>\n",
              "      <td>11</td>\n",
              "      <td>3</td>\n",
              "      <td>13.0</td>\n",
              "      <td>7.0</td>\n",
              "      <td>51.0</td>\n",
              "      <td>24.0</td>\n",
              "      <td>1019.4</td>\n",
              "      <td>1016.5</td>\n",
              "      <td>3.000000</td>\n",
              "      <td>2.000000</td>\n",
              "      <td>15.1</td>\n",
              "      <td>26.0</td>\n",
              "      <td>0.0</td>\n",
              "      <td>0</td>\n",
              "      <td>6</td>\n",
              "      <td>2017</td>\n",
              "    </tr>\n",
              "    <tr>\n",
              "      <th>8424</th>\n",
              "      <td>9</td>\n",
              "      <td>14.9</td>\n",
              "      <td>19.0</td>\n",
              "      <td>0.0</td>\n",
              "      <td>4.800000</td>\n",
              "      <td>8.800000</td>\n",
              "      <td>8</td>\n",
              "      <td>34.0</td>\n",
              "      <td>2</td>\n",
              "      <td>2</td>\n",
              "      <td>17.0</td>\n",
              "      <td>17.0</td>\n",
              "      <td>62.0</td>\n",
              "      <td>36.0</td>\n",
              "      <td>1020.2</td>\n",
              "      <td>1017.9</td>\n",
              "      <td>8.000000</td>\n",
              "      <td>8.000000</td>\n",
              "      <td>15.0</td>\n",
              "      <td>20.9</td>\n",
              "      <td>0.0</td>\n",
              "      <td>2</td>\n",
              "      <td>6</td>\n",
              "      <td>2017</td>\n",
              "    </tr>\n",
              "  </tbody>\n",
              "</table>\n",
              "<p>6755 rows × 24 columns</p>\n",
              "</div>"
            ],
            "text/plain": [
              "      Location  MinTemp  MaxTemp  Rainfall  Evaporation   Sunshine  \\\n",
              "0            1     13.4     22.9       0.6     2.666667   5.600000   \n",
              "1            1      7.4     25.1       0.0     4.800000   8.800000   \n",
              "2            1     12.9     25.7       0.0     4.800000   8.800000   \n",
              "3            1      9.2     28.0       0.0     4.800000   8.800000   \n",
              "4            1     17.5     32.3       1.0    11.000000  10.066667   \n",
              "...        ...      ...      ...       ...          ...        ...   \n",
              "8420         9      2.8     23.4       0.0     4.800000   8.800000   \n",
              "8421         9      3.6     25.3       0.0     4.800000   8.800000   \n",
              "8422         9      5.4     26.9       0.0     4.800000   8.800000   \n",
              "8423         9      7.8     27.0       0.0     4.800000   8.800000   \n",
              "8424         9     14.9     19.0       0.0     4.800000   8.800000   \n",
              "\n",
              "      WindGustDir  WindGustSpeed  WindDir9am  WindDir3pm  WindSpeed9am  \\\n",
              "0              14           44.0          14          15          20.0   \n",
              "1              15           44.0           6          16           4.0   \n",
              "2              16           46.0          14          16          19.0   \n",
              "3               4           24.0          10           0          11.0   \n",
              "4              14           41.0           1           7           7.0   \n",
              "...           ...            ...         ...         ...           ...   \n",
              "8420            0           31.0          10           1          13.0   \n",
              "8421            6           22.0          10           3          13.0   \n",
              "8422            3           37.0          10          15           9.0   \n",
              "8423           10           28.0          11           3          13.0   \n",
              "8424            8           34.0           2           2          17.0   \n",
              "\n",
              "      WindSpeed3pm  Humidity9am  Humidity3pm  Pressure9am  Pressure3pm  \\\n",
              "0             24.0         71.0         22.0       1007.7       1007.1   \n",
              "1             22.0         44.0         25.0       1010.6       1007.8   \n",
              "2             26.0         38.0         30.0       1007.6       1008.7   \n",
              "3              9.0         45.0         16.0       1017.6       1012.8   \n",
              "4             20.0         82.0         33.0       1010.8       1006.0   \n",
              "...            ...          ...          ...          ...          ...   \n",
              "8420          11.0         51.0         24.0       1024.6       1020.3   \n",
              "8421           9.0         56.0         21.0       1023.5       1019.1   \n",
              "8422           9.0         53.0         24.0       1021.0       1016.8   \n",
              "8423           7.0         51.0         24.0       1019.4       1016.5   \n",
              "8424          17.0         62.0         36.0       1020.2       1017.9   \n",
              "\n",
              "      Cloud9am  Cloud3pm  Temp9am  Temp3pm  RainToday  RainTomorrow  month  \\\n",
              "0     8.000000  4.000000     16.9     21.8        0.0             0     12   \n",
              "1     2.666667  2.333333     17.2     24.3        0.0             0     12   \n",
              "2     2.666667  2.000000     21.0     23.2        0.0             0     12   \n",
              "3     1.333333  1.000000     18.1     26.5        0.0             0     12   \n",
              "4     7.000000  8.000000     17.8     29.7        0.0             0     12   \n",
              "...        ...       ...      ...      ...        ...           ...    ...   \n",
              "8420  1.666667  1.333333     10.1     22.4        0.0             0      6   \n",
              "8421  2.000000  0.666667     10.9     24.5        0.0             0      6   \n",
              "8422  1.666667  0.000000     12.5     26.1        0.0             0      6   \n",
              "8423  3.000000  2.000000     15.1     26.0        0.0             0      6   \n",
              "8424  8.000000  8.000000     15.0     20.9        0.0             2      6   \n",
              "\n",
              "      year  \n",
              "0     2008  \n",
              "1     2008  \n",
              "2     2008  \n",
              "3     2008  \n",
              "4     2008  \n",
              "...    ...  \n",
              "8420  2017  \n",
              "8421  2017  \n",
              "8422  2017  \n",
              "8423  2017  \n",
              "8424  2017  \n",
              "\n",
              "[6755 rows x 24 columns]"
            ]
          },
          "execution_count": 97,
          "metadata": {},
          "output_type": "execute_result"
        }
      ],
      "source": [
        "df"
      ]
    },
    {
      "cell_type": "code",
      "execution_count": null,
      "id": "43e9e9e7",
      "metadata": {
        "id": "43e9e9e7"
      },
      "outputs": [],
      "source": [
        "x_ = df.drop(['RainTomorrow'],axis=1)\n",
        "y_ = df.RainTomorrow"
      ]
    },
    {
      "cell_type": "code",
      "execution_count": null,
      "id": "0cd8ede3",
      "metadata": {
        "id": "0cd8ede3"
      },
      "outputs": [],
      "source": [
        "from imblearn.over_sampling import SMOTE\n",
        "sm = SMOTE()\n",
        "x,y = sm.fit_resample(x_,y_)"
      ]
    },
    {
      "cell_type": "code",
      "execution_count": null,
      "id": "cdd6565c",
      "metadata": {
        "id": "cdd6565c"
      },
      "outputs": [],
      "source": [
        "from sklearn.model_selection import train_test_split\n",
        "x_train, x_test, y_train, y_test = train_test_split(x_scaled, y, test_size=0.33, random_state=7)"
      ]
    },
    {
      "cell_type": "code",
      "execution_count": null,
      "id": "d8666100",
      "metadata": {
        "id": "d8666100"
      },
      "outputs": [],
      "source": [
        "from sklearn.linear_model import LogisticRegression\n",
        "from sklearn.neighbors import KNeighborsClassifier\n",
        "from sklearn.tree import DecisionTreeClassifier\n",
        "from sklearn.ensemble import GradientBoostingClassifier\n",
        "from sklearn.ensemble import RandomForestClassifier\n",
        "from sklearn.svm import SVC"
      ]
    },
    {
      "cell_type": "code",
      "execution_count": null,
      "id": "9418d88e",
      "metadata": {
        "id": "9418d88e"
      },
      "outputs": [],
      "source": [
        "lr = LogisticRegression()\n",
        "dt = DecisionTreeClassifier()\n",
        "kn = KNeighborsClassifier()\n",
        "rc = RandomForestClassifier()\n",
        "gb = GradientBoostingClassifier()\n",
        "svm = SVC()"
      ]
    },
    {
      "cell_type": "code",
      "execution_count": null,
      "id": "f8af808b",
      "metadata": {
        "id": "f8af808b"
      },
      "outputs": [],
      "source": [
        "from sklearn.metrics import accuracy_score\n",
        "from sklearn.metrics import classification_report\n",
        "from sklearn.metrics import confusion_matrix"
      ]
    },
    {
      "cell_type": "code",
      "execution_count": null,
      "id": "af2921ec",
      "metadata": {
        "id": "af2921ec",
        "outputId": "3f7e3c8d-46be-42ff-8d1f-fab65f790466"
      },
      "outputs": [
        {
          "name": "stdout",
          "output_type": "stream",
          "text": [
            "Score: 0.7044\n",
            "--------------------------------------------------\n",
            "[[1259  257  173]\n",
            " [ 279 1143  208]\n",
            " [ 292  269 1120]]\n",
            "--------------------------------------------------\n",
            "Report:               precision    recall  f1-score   support\n",
            "\n",
            "           0       0.69      0.75      0.72      1689\n",
            "           1       0.68      0.70      0.69      1630\n",
            "           2       0.75      0.67      0.70      1681\n",
            "\n",
            "    accuracy                           0.70      5000\n",
            "   macro avg       0.71      0.70      0.70      5000\n",
            "weighted avg       0.71      0.70      0.70      5000\n",
            "\n",
            "--------------------------------------------------\n",
            "Score_train: 0.6935960591133005\n"
          ]
        }
      ],
      "source": [
        "lr = LogisticRegression()\n",
        "lr.fit(x_train,y_train)\n",
        "y_pred = lr.predict(x_test)\n",
        "y_pred_train = lr.predict(x_train)\n",
        "\n",
        "print('Score:',accuracy_score(y_test, y_pred))\n",
        "print('-'*50)\n",
        "print(confusion_matrix(y_test, y_pred))\n",
        "print('-'*50)\n",
        "print('Report:',classification_report(y_test, y_pred))\n",
        "print('-'*50)\n",
        "print('Score_train:', accuracy_score(y_train, y_pred_train))"
      ]
    },
    {
      "cell_type": "code",
      "execution_count": null,
      "id": "ac9af321",
      "metadata": {
        "id": "ac9af321",
        "outputId": "5f08777f-7d34-41b0-c8e6-ccdd8cdbb3fc"
      },
      "outputs": [
        {
          "name": "stdout",
          "output_type": "stream",
          "text": [
            "Score: 0.848\n",
            "--------------------------------------------------\n",
            "[[1332  319   38]\n",
            " [ 260 1309   61]\n",
            " [  38   44 1599]]\n",
            "--------------------------------------------------\n",
            "Report:               precision    recall  f1-score   support\n",
            "\n",
            "           0       0.82      0.79      0.80      1689\n",
            "           1       0.78      0.80      0.79      1630\n",
            "           2       0.94      0.95      0.95      1681\n",
            "\n",
            "    accuracy                           0.85      5000\n",
            "   macro avg       0.85      0.85      0.85      5000\n",
            "weighted avg       0.85      0.85      0.85      5000\n",
            "\n",
            "--------------------------------------------------\n",
            "Score_train: 0.9996059113300493\n"
          ]
        }
      ],
      "source": [
        "dt.fit(x_train,y_train)\n",
        "y_pred = dt.predict(x_test)\n",
        "y_pred_train = dt.predict(x_train)\n",
        "\n",
        "print('Score:',accuracy_score(y_test, y_pred))\n",
        "print('-'*50)\n",
        "print(confusion_matrix(y_test, y_pred))\n",
        "print('-'*50)\n",
        "print('Report:',classification_report(y_test, y_pred))\n",
        "print('-'*50)\n",
        "print('Score_train:', accuracy_score(y_train, y_pred_train))"
      ]
    },
    {
      "cell_type": "code",
      "execution_count": null,
      "id": "9d872cdb",
      "metadata": {
        "id": "9d872cdb",
        "outputId": "483694fb-2f2f-4fb9-9595-616d44198085"
      },
      "outputs": [
        {
          "name": "stdout",
          "output_type": "stream",
          "text": [
            "Score: 0.87\n",
            "--------------------------------------------------\n",
            "[[1223  359  107]\n",
            " [ 136 1446   48]\n",
            " [   0    0 1681]]\n",
            "--------------------------------------------------\n",
            "Report:               precision    recall  f1-score   support\n",
            "\n",
            "           0       0.90      0.72      0.80      1689\n",
            "           1       0.80      0.89      0.84      1630\n",
            "           2       0.92      1.00      0.96      1681\n",
            "\n",
            "    accuracy                           0.87      5000\n",
            "   macro avg       0.87      0.87      0.87      5000\n",
            "weighted avg       0.87      0.87      0.87      5000\n",
            "\n",
            "--------------------------------------------------\n",
            "Score_train: 0.9075862068965517\n"
          ]
        }
      ],
      "source": [
        "kn.fit(x_train,y_train)\n",
        "y_pred = kn.predict(x_test)\n",
        "y_pred_train = kn.predict(x_train)\n",
        "\n",
        "print('Score:',accuracy_score(y_test, y_pred))\n",
        "print('-'*50)\n",
        "print(confusion_matrix(y_test, y_pred))\n",
        "print('-'*50)\n",
        "print('Report:',classification_report(y_test, y_pred))\n",
        "print('-'*50)\n",
        "print('Score_train:', accuracy_score(y_train, y_pred_train))"
      ]
    },
    {
      "cell_type": "code",
      "execution_count": null,
      "id": "811dcfae",
      "metadata": {
        "id": "811dcfae",
        "outputId": "bcf080fe-85ff-478a-fbd9-6af01cf497a5"
      },
      "outputs": [
        {
          "name": "stdout",
          "output_type": "stream",
          "text": [
            "Score: 0.9152\n",
            "--------------------------------------------------\n",
            "[[1475  203   11]\n",
            " [ 165 1439   26]\n",
            " [  13    6 1662]]\n",
            "--------------------------------------------------\n",
            "Report:               precision    recall  f1-score   support\n",
            "\n",
            "           0       0.89      0.87      0.88      1689\n",
            "           1       0.87      0.88      0.88      1630\n",
            "           2       0.98      0.99      0.98      1681\n",
            "\n",
            "    accuracy                           0.92      5000\n",
            "   macro avg       0.91      0.91      0.91      5000\n",
            "weighted avg       0.91      0.92      0.92      5000\n",
            "\n",
            "--------------------------------------------------\n",
            "Score_train: 0.9996059113300493\n"
          ]
        }
      ],
      "source": [
        "rc.fit(x_train,y_train)\n",
        "y_pred = rc.predict(x_test)\n",
        "y_pred_train = rc.predict(x_train)\n",
        "\n",
        "print('Score:',accuracy_score(y_test, y_pred))\n",
        "print('-'*50)\n",
        "print(confusion_matrix(y_test, y_pred))\n",
        "print('-'*50)\n",
        "print('Report:',classification_report(y_test, y_pred))\n",
        "print('-'*50)\n",
        "print('Score_train:', accuracy_score(y_train, y_pred_train))"
      ]
    },
    {
      "cell_type": "code",
      "execution_count": null,
      "id": "2a8d51cc",
      "metadata": {
        "id": "2a8d51cc",
        "outputId": "2a2313c4-4f45-45a0-9e04-13951f11c949"
      },
      "outputs": [
        {
          "name": "stdout",
          "output_type": "stream",
          "text": [
            "Score: 0.8688\n",
            "--------------------------------------------------\n",
            "[[1440  235   14]\n",
            " [ 238 1332   60]\n",
            " [  40   69 1572]]\n",
            "--------------------------------------------------\n",
            "Report:               precision    recall  f1-score   support\n",
            "\n",
            "           0       0.84      0.85      0.85      1689\n",
            "           1       0.81      0.82      0.82      1630\n",
            "           2       0.96      0.94      0.94      1681\n",
            "\n",
            "    accuracy                           0.87      5000\n",
            "   macro avg       0.87      0.87      0.87      5000\n",
            "weighted avg       0.87      0.87      0.87      5000\n",
            "\n",
            "--------------------------------------------------\n",
            "Score_train: 0.885615763546798\n"
          ]
        }
      ],
      "source": [
        "gb.fit(x_train,y_train)\n",
        "y_pred = gb.predict(x_test)\n",
        "y_pred_train = gb.predict(x_train)\n",
        "\n",
        "print('Score:',accuracy_score(y_test, y_pred))\n",
        "print('-'*50)\n",
        "print(confusion_matrix(y_test, y_pred))\n",
        "print('-'*50)\n",
        "print('Report:',classification_report(y_test, y_pred))\n",
        "print('-'*50)\n",
        "print('Score_train:', accuracy_score(y_train, y_pred_train))"
      ]
    },
    {
      "cell_type": "code",
      "execution_count": null,
      "id": "21eac98b",
      "metadata": {
        "id": "21eac98b",
        "outputId": "8fad9bad-dc9c-4351-8c64-971daa387c50"
      },
      "outputs": [
        {
          "name": "stdout",
          "output_type": "stream",
          "text": [
            "Score: 0.8762\n",
            "--------------------------------------------------\n",
            "[[1374  264   51]\n",
            " [ 257 1334   39]\n",
            " [   2    6 1673]]\n",
            "--------------------------------------------------\n",
            "Report:               precision    recall  f1-score   support\n",
            "\n",
            "           0       0.84      0.81      0.83      1689\n",
            "           1       0.83      0.82      0.82      1630\n",
            "           2       0.95      1.00      0.97      1681\n",
            "\n",
            "    accuracy                           0.88      5000\n",
            "   macro avg       0.87      0.88      0.87      5000\n",
            "weighted avg       0.87      0.88      0.88      5000\n",
            "\n",
            "--------------------------------------------------\n",
            "Score_train: 0.9046305418719212\n"
          ]
        }
      ],
      "source": [
        "svm.fit(x_train,y_train)\n",
        "y_pred = svm.predict(x_test)\n",
        "y_pred_train = svm.predict(x_train)\n",
        "\n",
        "print('Score:',accuracy_score(y_test, y_pred))\n",
        "print('-'*50)\n",
        "print(confusion_matrix(y_test, y_pred))\n",
        "print('-'*50)\n",
        "print('Report:',classification_report(y_test, y_pred))\n",
        "print('-'*50)\n",
        "print('Score_train:', accuracy_score(y_train, y_pred_train))"
      ]
    },
    {
      "cell_type": "code",
      "execution_count": null,
      "id": "642a7cac",
      "metadata": {
        "id": "642a7cac"
      },
      "outputs": [],
      "source": [
        "from sklearn.model_selection import cross_val_score"
      ]
    },
    {
      "cell_type": "code",
      "execution_count": null,
      "id": "d4e49693",
      "metadata": {
        "id": "d4e49693",
        "outputId": "b84d13ad-5a99-4e98-f180-d9810d700ddc"
      },
      "outputs": [
        {
          "name": "stdout",
          "output_type": "stream",
          "text": [
            "[0.6330033  0.54719472 0.52475248 0.59207921 0.54851485 0.52607261\n",
            " 0.61320132 0.62574257 0.61254125 0.6039604 ]\n",
            "**************************************************\n",
            "Log reg: 0.5827062706270627\n"
          ]
        }
      ],
      "source": [
        "lr_score = cross_val_score(lr,x,y,cv=10)\n",
        "print(lr_score)\n",
        "print('*'*50)\n",
        "print('Log reg:',lr_score.mean())"
      ]
    },
    {
      "cell_type": "code",
      "execution_count": null,
      "id": "93036fc7",
      "metadata": {
        "id": "93036fc7",
        "outputId": "93e8b8bb-6ef0-4738-a3bc-853e2abc351d"
      },
      "outputs": [
        {
          "name": "stdout",
          "output_type": "stream",
          "text": [
            "[0.73663366 0.70231023 0.7029703  0.83630363 0.75709571 0.77491749\n",
            " 0.78613861 0.82838284 0.87194719 0.87788779]\n",
            "**************************************************\n",
            "Decision Tree: 0.7874587458745875\n"
          ]
        }
      ],
      "source": [
        "dt_score = cross_val_score(dt,x,y,cv=10)\n",
        "print(dt_score)\n",
        "print('*'*50)\n",
        "print('Decision Tree:',dt_score.mean())"
      ]
    },
    {
      "cell_type": "code",
      "execution_count": null,
      "id": "f95eccd6",
      "metadata": {
        "id": "f95eccd6",
        "outputId": "7e496b87-6250-4b15-ad83-9443c5c610b6"
      },
      "outputs": [
        {
          "name": "stdout",
          "output_type": "stream",
          "text": [
            "[0.85016502 0.78085809 0.79273927 0.84620462 0.78877888 0.77227723\n",
            " 0.79867987 0.88250825 0.89108911 0.86534653]\n",
            "**************************************************\n",
            "KNN: 0.8268646864686469\n"
          ]
        }
      ],
      "source": [
        "kn_score = cross_val_score(kn,x,y,cv=10)\n",
        "print(kn_score)\n",
        "print('*'*50)\n",
        "print('KNN:',kn_score.mean())"
      ]
    },
    {
      "cell_type": "code",
      "execution_count": null,
      "id": "7f5e6e15",
      "metadata": {
        "id": "7f5e6e15",
        "outputId": "a439be0e-d365-41c6-bc73-bd1e7fc5e56e"
      },
      "outputs": [
        {
          "name": "stdout",
          "output_type": "stream",
          "text": [
            "[0.79405941 0.69834983 0.75049505 0.80924092 0.74389439 0.74191419\n",
            " 0.78547855 0.81056106 0.88316832 0.87458746]\n",
            "**************************************************\n",
            "Grad Boost: 0.7891749174917493\n"
          ]
        }
      ],
      "source": [
        "gb_score = cross_val_score(gb,x,y,cv=10)\n",
        "print(gb_score)\n",
        "print('*'*50)\n",
        "print('Grad Boost:',gb_score.mean())"
      ]
    },
    {
      "cell_type": "code",
      "execution_count": null,
      "id": "ea53f32d",
      "metadata": {
        "id": "ea53f32d",
        "outputId": "6376ae9a-0341-4d85-aa00-4e6dd9d6f982"
      },
      "outputs": [
        {
          "name": "stdout",
          "output_type": "stream",
          "text": [
            "[0.85808581 0.80066007 0.81188119 0.8970297  0.79075908 0.80660066\n",
            " 0.85280528 0.90561056 0.94521452 0.91947195]\n",
            "**************************************************\n",
            "Random Forest: 0.8588118811881188\n"
          ]
        }
      ],
      "source": [
        "rc_score = cross_val_score(rc,x,y,cv=10)\n",
        "print(rc_score)\n",
        "print('*'*50)\n",
        "print('Random Forest:',rc_score.mean())"
      ]
    },
    {
      "cell_type": "code",
      "execution_count": null,
      "id": "4c2298f4",
      "metadata": {
        "id": "4c2298f4",
        "outputId": "0927f271-ef73-498c-e861-b0340a8f649c"
      },
      "outputs": [
        {
          "name": "stdout",
          "output_type": "stream",
          "text": [
            "[0.56039604 0.46864686 0.48052805 0.53663366 0.48382838 0.43960396\n",
            " 0.54455446 0.56963696 0.5669967  0.54719472]\n",
            "**************************************************\n",
            "SVM 0.5198019801980198\n"
          ]
        }
      ],
      "source": [
        "svm_score = cross_val_score(svm,x,y,cv=10)\n",
        "print(svm_score)\n",
        "print('*'*50)\n",
        "print('SVM',svm_score.mean())"
      ]
    },
    {
      "cell_type": "code",
      "execution_count": null,
      "id": "577f0fb9",
      "metadata": {
        "id": "577f0fb9"
      },
      "outputs": [],
      "source": [
        "#random_forest gives better score"
      ]
    },
    {
      "cell_type": "code",
      "execution_count": null,
      "id": "7b8b609b",
      "metadata": {
        "id": "7b8b609b"
      },
      "outputs": [],
      "source": [
        "param_grid = {\n",
        "    'n_estimators': [13,15],\n",
        "    'max_depth': [10, 15],\n",
        "    'min_samples_split': [10,11],\n",
        "    'criterion':['gini','entropy'],\n",
        "    'min_samples_leaf': [5,6]\n",
        "}\n",
        "from sklearn.model_selection import GridSearchCV\n",
        "grid_search = GridSearchCV(estimator=rc, param_grid=param_grid, cv=5)\n",
        "grid_search.fit(x_train, y_train)\n",
        "\n",
        "best_rc_model = grid_search.best_estimator_\n",
        "y_pred = best_rc_model.predict(x_test)\n"
      ]
    },
    {
      "cell_type": "code",
      "execution_count": null,
      "id": "cfb90d27",
      "metadata": {
        "id": "cfb90d27",
        "outputId": "6bfce322-6dbf-4a14-ea61-6491e921f4da"
      },
      "outputs": [
        {
          "name": "stdout",
          "output_type": "stream",
          "text": [
            "Score: 0.8852\n",
            "--------------------------------------------------\n"
          ]
        }
      ],
      "source": [
        "print('Score:',accuracy_score(y_test, y_pred))\n",
        "print('-'*50)"
      ]
    },
    {
      "cell_type": "code",
      "execution_count": null,
      "id": "6eef8f7a",
      "metadata": {
        "id": "6eef8f7a"
      },
      "outputs": [],
      "source": [
        "import pickle\n",
        "import joblib\n",
        "\n",
        "model_class = rc\n",
        "\n",
        "file = 'Rainfall.pkl'\n",
        "pickle.dump(model_class, open(file,'wb'))\n",
        "\n",
        "loaded_model = pickle.load(open('Rainfall.pkl','rb'))"
      ]
    },
    {
      "cell_type": "code",
      "execution_count": null,
      "id": "1423a59c",
      "metadata": {
        "id": "1423a59c",
        "outputId": "5768ac41-ea39-4c9e-89ec-7406710cde86"
      },
      "outputs": [
        {
          "data": {
            "text/html": [
              "<div>\n",
              "<style scoped>\n",
              "    .dataframe tbody tr th:only-of-type {\n",
              "        vertical-align: middle;\n",
              "    }\n",
              "\n",
              "    .dataframe tbody tr th {\n",
              "        vertical-align: top;\n",
              "    }\n",
              "\n",
              "    .dataframe thead th {\n",
              "        text-align: right;\n",
              "    }\n",
              "</style>\n",
              "<table border=\"1\" class=\"dataframe\">\n",
              "  <thead>\n",
              "    <tr style=\"text-align: right;\">\n",
              "      <th></th>\n",
              "      <th>Location</th>\n",
              "      <th>MinTemp</th>\n",
              "      <th>MaxTemp</th>\n",
              "      <th>Rainfall</th>\n",
              "      <th>Evaporation</th>\n",
              "      <th>Sunshine</th>\n",
              "      <th>WindGustDir</th>\n",
              "      <th>WindGustSpeed</th>\n",
              "      <th>WindDir9am</th>\n",
              "      <th>WindDir3pm</th>\n",
              "      <th>WindSpeed9am</th>\n",
              "      <th>WindSpeed3pm</th>\n",
              "      <th>Humidity9am</th>\n",
              "      <th>Humidity3pm</th>\n",
              "      <th>Pressure9am</th>\n",
              "      <th>Pressure3pm</th>\n",
              "      <th>Cloud9am</th>\n",
              "      <th>Cloud3pm</th>\n",
              "      <th>Temp9am</th>\n",
              "      <th>Temp3pm</th>\n",
              "      <th>RainToday</th>\n",
              "      <th>RainTomorrow</th>\n",
              "      <th>month</th>\n",
              "      <th>year</th>\n",
              "    </tr>\n",
              "  </thead>\n",
              "  <tbody>\n",
              "    <tr>\n",
              "      <th>0</th>\n",
              "      <td>1</td>\n",
              "      <td>13.4</td>\n",
              "      <td>22.9</td>\n",
              "      <td>0.6</td>\n",
              "      <td>2.666667</td>\n",
              "      <td>5.600000</td>\n",
              "      <td>13</td>\n",
              "      <td>44.0</td>\n",
              "      <td>13</td>\n",
              "      <td>14</td>\n",
              "      <td>20.0</td>\n",
              "      <td>24.0</td>\n",
              "      <td>71.0</td>\n",
              "      <td>22.0</td>\n",
              "      <td>1007.7</td>\n",
              "      <td>1007.1</td>\n",
              "      <td>8.000000</td>\n",
              "      <td>4.000000</td>\n",
              "      <td>16.9</td>\n",
              "      <td>21.8</td>\n",
              "      <td>0.0</td>\n",
              "      <td>0</td>\n",
              "      <td>12</td>\n",
              "      <td>2008</td>\n",
              "    </tr>\n",
              "    <tr>\n",
              "      <th>1</th>\n",
              "      <td>1</td>\n",
              "      <td>7.4</td>\n",
              "      <td>25.1</td>\n",
              "      <td>0.0</td>\n",
              "      <td>4.800000</td>\n",
              "      <td>8.800000</td>\n",
              "      <td>14</td>\n",
              "      <td>44.0</td>\n",
              "      <td>6</td>\n",
              "      <td>15</td>\n",
              "      <td>4.0</td>\n",
              "      <td>22.0</td>\n",
              "      <td>44.0</td>\n",
              "      <td>25.0</td>\n",
              "      <td>1010.6</td>\n",
              "      <td>1007.8</td>\n",
              "      <td>2.666667</td>\n",
              "      <td>2.333333</td>\n",
              "      <td>17.2</td>\n",
              "      <td>24.3</td>\n",
              "      <td>0.0</td>\n",
              "      <td>0</td>\n",
              "      <td>12</td>\n",
              "      <td>2008</td>\n",
              "    </tr>\n",
              "    <tr>\n",
              "      <th>2</th>\n",
              "      <td>1</td>\n",
              "      <td>12.9</td>\n",
              "      <td>25.7</td>\n",
              "      <td>0.0</td>\n",
              "      <td>4.800000</td>\n",
              "      <td>8.800000</td>\n",
              "      <td>15</td>\n",
              "      <td>46.0</td>\n",
              "      <td>13</td>\n",
              "      <td>15</td>\n",
              "      <td>19.0</td>\n",
              "      <td>26.0</td>\n",
              "      <td>38.0</td>\n",
              "      <td>30.0</td>\n",
              "      <td>1007.6</td>\n",
              "      <td>1008.7</td>\n",
              "      <td>2.666667</td>\n",
              "      <td>2.000000</td>\n",
              "      <td>21.0</td>\n",
              "      <td>23.2</td>\n",
              "      <td>0.0</td>\n",
              "      <td>0</td>\n",
              "      <td>12</td>\n",
              "      <td>2008</td>\n",
              "    </tr>\n",
              "    <tr>\n",
              "      <th>3</th>\n",
              "      <td>1</td>\n",
              "      <td>9.2</td>\n",
              "      <td>28.0</td>\n",
              "      <td>0.0</td>\n",
              "      <td>4.800000</td>\n",
              "      <td>8.800000</td>\n",
              "      <td>4</td>\n",
              "      <td>24.0</td>\n",
              "      <td>9</td>\n",
              "      <td>0</td>\n",
              "      <td>11.0</td>\n",
              "      <td>9.0</td>\n",
              "      <td>45.0</td>\n",
              "      <td>16.0</td>\n",
              "      <td>1017.6</td>\n",
              "      <td>1012.8</td>\n",
              "      <td>1.333333</td>\n",
              "      <td>1.000000</td>\n",
              "      <td>18.1</td>\n",
              "      <td>26.5</td>\n",
              "      <td>0.0</td>\n",
              "      <td>0</td>\n",
              "      <td>12</td>\n",
              "      <td>2008</td>\n",
              "    </tr>\n",
              "    <tr>\n",
              "      <th>4</th>\n",
              "      <td>1</td>\n",
              "      <td>17.5</td>\n",
              "      <td>32.3</td>\n",
              "      <td>1.0</td>\n",
              "      <td>11.000000</td>\n",
              "      <td>10.066667</td>\n",
              "      <td>13</td>\n",
              "      <td>41.0</td>\n",
              "      <td>1</td>\n",
              "      <td>7</td>\n",
              "      <td>7.0</td>\n",
              "      <td>20.0</td>\n",
              "      <td>82.0</td>\n",
              "      <td>33.0</td>\n",
              "      <td>1010.8</td>\n",
              "      <td>1006.0</td>\n",
              "      <td>7.000000</td>\n",
              "      <td>8.000000</td>\n",
              "      <td>17.8</td>\n",
              "      <td>29.7</td>\n",
              "      <td>0.0</td>\n",
              "      <td>0</td>\n",
              "      <td>12</td>\n",
              "      <td>2008</td>\n",
              "    </tr>\n",
              "  </tbody>\n",
              "</table>\n",
              "</div>"
            ],
            "text/plain": [
              "   Location  MinTemp  MaxTemp  Rainfall  Evaporation   Sunshine  WindGustDir  \\\n",
              "0         1     13.4     22.9       0.6     2.666667   5.600000           13   \n",
              "1         1      7.4     25.1       0.0     4.800000   8.800000           14   \n",
              "2         1     12.9     25.7       0.0     4.800000   8.800000           15   \n",
              "3         1      9.2     28.0       0.0     4.800000   8.800000            4   \n",
              "4         1     17.5     32.3       1.0    11.000000  10.066667           13   \n",
              "\n",
              "   WindGustSpeed  WindDir9am  WindDir3pm  WindSpeed9am  WindSpeed3pm  \\\n",
              "0           44.0          13          14          20.0          24.0   \n",
              "1           44.0           6          15           4.0          22.0   \n",
              "2           46.0          13          15          19.0          26.0   \n",
              "3           24.0           9           0          11.0           9.0   \n",
              "4           41.0           1           7           7.0          20.0   \n",
              "\n",
              "   Humidity9am  Humidity3pm  Pressure9am  Pressure3pm  Cloud9am  Cloud3pm  \\\n",
              "0         71.0         22.0       1007.7       1007.1  8.000000  4.000000   \n",
              "1         44.0         25.0       1010.6       1007.8  2.666667  2.333333   \n",
              "2         38.0         30.0       1007.6       1008.7  2.666667  2.000000   \n",
              "3         45.0         16.0       1017.6       1012.8  1.333333  1.000000   \n",
              "4         82.0         33.0       1010.8       1006.0  7.000000  8.000000   \n",
              "\n",
              "   Temp9am  Temp3pm  RainToday  RainTomorrow  month  year  \n",
              "0     16.9     21.8        0.0             0     12  2008  \n",
              "1     17.2     24.3        0.0             0     12  2008  \n",
              "2     21.0     23.2        0.0             0     12  2008  \n",
              "3     18.1     26.5        0.0             0     12  2008  \n",
              "4     17.8     29.7        0.0             0     12  2008  "
            ]
          },
          "execution_count": 63,
          "metadata": {},
          "output_type": "execute_result"
        }
      ],
      "source": [
        "df.head()"
      ]
    },
    {
      "cell_type": "code",
      "execution_count": null,
      "id": "a9f25041",
      "metadata": {
        "id": "a9f25041",
        "outputId": "cb62282e-6e4d-4d14-d873-085dcf7bd1ee"
      },
      "outputs": [
        {
          "data": {
            "text/plain": [
              "<AxesSubplot:xlabel='year', ylabel='Count'>"
            ]
          },
          "execution_count": 65,
          "metadata": {},
          "output_type": "execute_result"
        },
        {
          "data": {
            "image/png": "[encoded data removed]",
            "text/plain": [
              "<Figure size 640x480 with 1 Axes>"
            ]
          },
          "metadata": {},
          "output_type": "display_data"
        }
      ],
      "source": [
        "sns.histplot(df['year'])"
      ]
    },
    {
      "cell_type": "code",
      "execution_count": null,
      "id": "b9525e79",
      "metadata": {
        "id": "b9525e79",
        "outputId": "04fbeaa2-7226-4775-a9f1-ca5c21a07bea"
      },
      "outputs": [
        {
          "data": {
            "text/plain": [
              "<AxesSubplot:xlabel='month', ylabel='Count'>"
            ]
          },
          "execution_count": 67,
          "metadata": {},
          "output_type": "execute_result"
        },
        {
          "data": {
            "image/png": "[encoded data removed]",
            "text/plain": [
              "<Figure size 640x480 with 1 Axes>"
            ]
          },
          "metadata": {},
          "output_type": "display_data"
        }
      ],
      "source": [
        "sns.histplot(df['month'])"
      ]
    },
    {
      "cell_type": "code",
      "execution_count": null,
      "id": "c3b450ed",
      "metadata": {
        "id": "c3b450ed",
        "outputId": "b40f6bc5-cdc6-4994-9f83-92e9d301f1b9"
      },
      "outputs": [
        {
          "data": {
            "text/html": [
              "<div>\n",
              "<style scoped>\n",
              "    .dataframe tbody tr th:only-of-type {\n",
              "        vertical-align: middle;\n",
              "    }\n",
              "\n",
              "    .dataframe tbody tr th {\n",
              "        vertical-align: top;\n",
              "    }\n",
              "\n",
              "    .dataframe thead th {\n",
              "        text-align: right;\n",
              "    }\n",
              "</style>\n",
              "<table border=\"1\" class=\"dataframe\">\n",
              "  <thead>\n",
              "    <tr style=\"text-align: right;\">\n",
              "      <th></th>\n",
              "      <th>Location</th>\n",
              "      <th>MinTemp</th>\n",
              "      <th>MaxTemp</th>\n",
              "      <th>Rainfall</th>\n",
              "      <th>Evaporation</th>\n",
              "      <th>Sunshine</th>\n",
              "      <th>WindGustDir</th>\n",
              "      <th>WindGustSpeed</th>\n",
              "      <th>WindDir9am</th>\n",
              "      <th>WindDir3pm</th>\n",
              "      <th>WindSpeed9am</th>\n",
              "      <th>WindSpeed3pm</th>\n",
              "      <th>Humidity9am</th>\n",
              "      <th>Humidity3pm</th>\n",
              "      <th>Pressure9am</th>\n",
              "      <th>Pressure3pm</th>\n",
              "      <th>Cloud9am</th>\n",
              "      <th>Cloud3pm</th>\n",
              "      <th>Temp9am</th>\n",
              "      <th>Temp3pm</th>\n",
              "      <th>RainToday</th>\n",
              "      <th>RainTomorrow</th>\n",
              "      <th>month</th>\n",
              "      <th>year</th>\n",
              "    </tr>\n",
              "  </thead>\n",
              "  <tbody>\n",
              "    <tr>\n",
              "      <th>0</th>\n",
              "      <td>1</td>\n",
              "      <td>13.4</td>\n",
              "      <td>22.9</td>\n",
              "      <td>0.6</td>\n",
              "      <td>2.666667</td>\n",
              "      <td>5.6</td>\n",
              "      <td>13</td>\n",
              "      <td>44.0</td>\n",
              "      <td>13</td>\n",
              "      <td>14</td>\n",
              "      <td>20.0</td>\n",
              "      <td>24.0</td>\n",
              "      <td>71.0</td>\n",
              "      <td>22.0</td>\n",
              "      <td>1007.7</td>\n",
              "      <td>1007.1</td>\n",
              "      <td>8.000000</td>\n",
              "      <td>4.000000</td>\n",
              "      <td>16.9</td>\n",
              "      <td>21.8</td>\n",
              "      <td>0.0</td>\n",
              "      <td>0</td>\n",
              "      <td>12</td>\n",
              "      <td>2008</td>\n",
              "    </tr>\n",
              "    <tr>\n",
              "      <th>1</th>\n",
              "      <td>1</td>\n",
              "      <td>7.4</td>\n",
              "      <td>25.1</td>\n",
              "      <td>0.0</td>\n",
              "      <td>4.800000</td>\n",
              "      <td>8.8</td>\n",
              "      <td>14</td>\n",
              "      <td>44.0</td>\n",
              "      <td>6</td>\n",
              "      <td>15</td>\n",
              "      <td>4.0</td>\n",
              "      <td>22.0</td>\n",
              "      <td>44.0</td>\n",
              "      <td>25.0</td>\n",
              "      <td>1010.6</td>\n",
              "      <td>1007.8</td>\n",
              "      <td>2.666667</td>\n",
              "      <td>2.333333</td>\n",
              "      <td>17.2</td>\n",
              "      <td>24.3</td>\n",
              "      <td>0.0</td>\n",
              "      <td>0</td>\n",
              "      <td>12</td>\n",
              "      <td>2008</td>\n",
              "    </tr>\n",
              "    <tr>\n",
              "      <th>2</th>\n",
              "      <td>1</td>\n",
              "      <td>12.9</td>\n",
              "      <td>25.7</td>\n",
              "      <td>0.0</td>\n",
              "      <td>4.800000</td>\n",
              "      <td>8.8</td>\n",
              "      <td>15</td>\n",
              "      <td>46.0</td>\n",
              "      <td>13</td>\n",
              "      <td>15</td>\n",
              "      <td>19.0</td>\n",
              "      <td>26.0</td>\n",
              "      <td>38.0</td>\n",
              "      <td>30.0</td>\n",
              "      <td>1007.6</td>\n",
              "      <td>1008.7</td>\n",
              "      <td>2.666667</td>\n",
              "      <td>2.000000</td>\n",
              "      <td>21.0</td>\n",
              "      <td>23.2</td>\n",
              "      <td>0.0</td>\n",
              "      <td>0</td>\n",
              "      <td>12</td>\n",
              "      <td>2008</td>\n",
              "    </tr>\n",
              "  </tbody>\n",
              "</table>\n",
              "</div>"
            ],
            "text/plain": [
              "   Location  MinTemp  MaxTemp  Rainfall  Evaporation  Sunshine  WindGustDir  \\\n",
              "0         1     13.4     22.9       0.6     2.666667       5.6           13   \n",
              "1         1      7.4     25.1       0.0     4.800000       8.8           14   \n",
              "2         1     12.9     25.7       0.0     4.800000       8.8           15   \n",
              "\n",
              "   WindGustSpeed  WindDir9am  WindDir3pm  WindSpeed9am  WindSpeed3pm  \\\n",
              "0           44.0          13          14          20.0          24.0   \n",
              "1           44.0           6          15           4.0          22.0   \n",
              "2           46.0          13          15          19.0          26.0   \n",
              "\n",
              "   Humidity9am  Humidity3pm  Pressure9am  Pressure3pm  Cloud9am  Cloud3pm  \\\n",
              "0         71.0         22.0       1007.7       1007.1  8.000000  4.000000   \n",
              "1         44.0         25.0       1010.6       1007.8  2.666667  2.333333   \n",
              "2         38.0         30.0       1007.6       1008.7  2.666667  2.000000   \n",
              "\n",
              "   Temp9am  Temp3pm  RainToday  RainTomorrow  month  year  \n",
              "0     16.9     21.8        0.0             0     12  2008  \n",
              "1     17.2     24.3        0.0             0     12  2008  \n",
              "2     21.0     23.2        0.0             0     12  2008  "
            ]
          },
          "execution_count": 68,
          "metadata": {},
          "output_type": "execute_result"
        }
      ],
      "source": [
        "df.head(3)"
      ]
    },
    {
      "cell_type": "code",
      "execution_count": null,
      "id": "fd57c162",
      "metadata": {
        "id": "fd57c162"
      },
      "outputs": [],
      "source": [
        "def detect_outliers_iqr(df):\n",
        "    outliers = []\n",
        "    for col in df.columns:\n",
        "        Q1 = df[col].quantile(0.25)\n",
        "        Q3 = df[col].quantile(0.75)\n",
        "        IQR = Q3 - Q1\n",
        "        lower_bound = Q1 - 1.5 * IQR\n",
        "        upper_bound = Q3 + 1.5 * IQR\n",
        "        outliers.extend(df[(df[col] < lower_bound) | (df[col] > upper_bound)].index)\n",
        "    return list(set(outliers))\n",
        "\n",
        "outliers_iqr = detect_outliers_iqr(df)"
      ]
    },
    {
      "cell_type": "code",
      "execution_count": null,
      "id": "7c31385b",
      "metadata": {
        "id": "7c31385b"
      },
      "outputs": [],
      "source": [
        "for col in df.columns:\n",
        "    Q1 = df[col].quantile(0.25)\n",
        "    Q3 = df[col].quantile(0.75)\n",
        "    IQR = Q3 - Q1\n",
        "    lower_bound = Q1 - 1.5 * IQR\n",
        "    upper_bound = Q3 + 1.5 * IQR\n",
        "    df[col] = np.where(df[col] < lower_bound, lower_bound, df[col])\n",
        "    df[col] = np.where(df[col] > upper_bound, upper_bound, df[col])"
      ]
    },
    {
      "cell_type": "code",
      "execution_count": null,
      "id": "faa6ca1e",
      "metadata": {
        "id": "faa6ca1e"
      },
      "outputs": [],
      "source": [
        "x = df.drop(['Rainfall'],axis=1)\n",
        "y = df.Rainfall"
      ]
    },
    {
      "cell_type": "code",
      "execution_count": null,
      "id": "0d550633",
      "metadata": {
        "id": "0d550633"
      },
      "outputs": [],
      "source": [
        "from sklearn.preprocessing import StandardScaler\n",
        "scaler = StandardScaler()\n",
        "scaler = StandardScaler()\n",
        "x_scaled = scaler.fit_transform(x)"
      ]
    },
    {
      "cell_type": "code",
      "execution_count": null,
      "id": "9bdbce2f",
      "metadata": {
        "id": "9bdbce2f",
        "outputId": "ef70674a-7c06-4c8c-c52a-945be99c2590"
      },
      "outputs": [
        {
          "data": {
            "text/html": [
              "<div>\n",
              "<style scoped>\n",
              "    .dataframe tbody tr th:only-of-type {\n",
              "        vertical-align: middle;\n",
              "    }\n",
              "\n",
              "    .dataframe tbody tr th {\n",
              "        vertical-align: top;\n",
              "    }\n",
              "\n",
              "    .dataframe thead th {\n",
              "        text-align: right;\n",
              "    }\n",
              "</style>\n",
              "<table border=\"1\" class=\"dataframe\">\n",
              "  <thead>\n",
              "    <tr style=\"text-align: right;\">\n",
              "      <th></th>\n",
              "      <th>vif</th>\n",
              "      <th>fea</th>\n",
              "    </tr>\n",
              "  </thead>\n",
              "  <tbody>\n",
              "    <tr>\n",
              "      <th>0</th>\n",
              "      <td>1.614237</td>\n",
              "      <td>Location</td>\n",
              "    </tr>\n",
              "    <tr>\n",
              "      <th>1</th>\n",
              "      <td>8.735239</td>\n",
              "      <td>MinTemp</td>\n",
              "    </tr>\n",
              "    <tr>\n",
              "      <th>2</th>\n",
              "      <td>24.486387</td>\n",
              "      <td>MaxTemp</td>\n",
              "    </tr>\n",
              "    <tr>\n",
              "      <th>3</th>\n",
              "      <td>1.572928</td>\n",
              "      <td>Evaporation</td>\n",
              "    </tr>\n",
              "    <tr>\n",
              "      <th>4</th>\n",
              "      <td>2.107373</td>\n",
              "      <td>Sunshine</td>\n",
              "    </tr>\n",
              "    <tr>\n",
              "      <th>5</th>\n",
              "      <td>1.644649</td>\n",
              "      <td>WindGustDir</td>\n",
              "    </tr>\n",
              "    <tr>\n",
              "      <th>6</th>\n",
              "      <td>3.317819</td>\n",
              "      <td>WindGustSpeed</td>\n",
              "    </tr>\n",
              "    <tr>\n",
              "      <th>7</th>\n",
              "      <td>1.404522</td>\n",
              "      <td>WindDir9am</td>\n",
              "    </tr>\n",
              "    <tr>\n",
              "      <th>8</th>\n",
              "      <td>1.490585</td>\n",
              "      <td>WindDir3pm</td>\n",
              "    </tr>\n",
              "    <tr>\n",
              "      <th>9</th>\n",
              "      <td>2.383823</td>\n",
              "      <td>WindSpeed9am</td>\n",
              "    </tr>\n",
              "    <tr>\n",
              "      <th>10</th>\n",
              "      <td>2.401747</td>\n",
              "      <td>WindSpeed3pm</td>\n",
              "    </tr>\n",
              "    <tr>\n",
              "      <th>11</th>\n",
              "      <td>4.246123</td>\n",
              "      <td>Humidity9am</td>\n",
              "    </tr>\n",
              "    <tr>\n",
              "      <th>12</th>\n",
              "      <td>6.181629</td>\n",
              "      <td>Humidity3pm</td>\n",
              "    </tr>\n",
              "    <tr>\n",
              "      <th>13</th>\n",
              "      <td>23.225960</td>\n",
              "      <td>Pressure9am</td>\n",
              "    </tr>\n",
              "    <tr>\n",
              "      <th>14</th>\n",
              "      <td>22.042603</td>\n",
              "      <td>Pressure3pm</td>\n",
              "    </tr>\n",
              "    <tr>\n",
              "      <th>15</th>\n",
              "      <td>2.006502</td>\n",
              "      <td>Cloud9am</td>\n",
              "    </tr>\n",
              "    <tr>\n",
              "      <th>16</th>\n",
              "      <td>1.991006</td>\n",
              "      <td>Cloud3pm</td>\n",
              "    </tr>\n",
              "    <tr>\n",
              "      <th>17</th>\n",
              "      <td>18.074105</td>\n",
              "      <td>Temp9am</td>\n",
              "    </tr>\n",
              "    <tr>\n",
              "      <th>18</th>\n",
              "      <td>33.685801</td>\n",
              "      <td>Temp3pm</td>\n",
              "    </tr>\n",
              "    <tr>\n",
              "      <th>19</th>\n",
              "      <td>1.522345</td>\n",
              "      <td>RainToday</td>\n",
              "    </tr>\n",
              "    <tr>\n",
              "      <th>20</th>\n",
              "      <td>1.482504</td>\n",
              "      <td>RainTomorrow</td>\n",
              "    </tr>\n",
              "    <tr>\n",
              "      <th>21</th>\n",
              "      <td>1.163848</td>\n",
              "      <td>month</td>\n",
              "    </tr>\n",
              "    <tr>\n",
              "      <th>22</th>\n",
              "      <td>1.564291</td>\n",
              "      <td>year</td>\n",
              "    </tr>\n",
              "  </tbody>\n",
              "</table>\n",
              "</div>"
            ],
            "text/plain": [
              "          vif            fea\n",
              "0    1.614237       Location\n",
              "1    8.735239        MinTemp\n",
              "2   24.486387        MaxTemp\n",
              "3    1.572928    Evaporation\n",
              "4    2.107373       Sunshine\n",
              "5    1.644649    WindGustDir\n",
              "6    3.317819  WindGustSpeed\n",
              "7    1.404522     WindDir9am\n",
              "8    1.490585     WindDir3pm\n",
              "9    2.383823   WindSpeed9am\n",
              "10   2.401747   WindSpeed3pm\n",
              "11   4.246123    Humidity9am\n",
              "12   6.181629    Humidity3pm\n",
              "13  23.225960    Pressure9am\n",
              "14  22.042603    Pressure3pm\n",
              "15   2.006502       Cloud9am\n",
              "16   1.991006       Cloud3pm\n",
              "17  18.074105        Temp9am\n",
              "18  33.685801        Temp3pm\n",
              "19   1.522345      RainToday\n",
              "20   1.482504   RainTomorrow\n",
              "21   1.163848          month\n",
              "22   1.564291           year"
            ]
          },
          "execution_count": 95,
          "metadata": {},
          "output_type": "execute_result"
        }
      ],
      "source": [
        "from statsmodels.stats.outliers_influence import variance_inflation_factor\n",
        "vif = pd.DataFrame()\n",
        "vif['vif'] = [variance_inflation_factor(x_scaled,i) for i in range(x_scaled.shape[1])]\n",
        "vif['fea'] = x.columns\n",
        "\n",
        "vif"
      ]
    },
    {
      "cell_type": "code",
      "execution_count": null,
      "id": "27d2e560",
      "metadata": {
        "id": "27d2e560"
      },
      "outputs": [],
      "source": [
        "x.drop(['Temp3pm','Pressure3pm','Pressure9am','Temp9am'],axis=1,inplace=True)"
      ]
    },
    {
      "cell_type": "code",
      "execution_count": null,
      "id": "164f10f9",
      "metadata": {
        "id": "164f10f9"
      },
      "outputs": [],
      "source": [
        "scaler = StandardScaler()\n",
        "x_scaled = scaler.fit_transform(x)"
      ]
    },
    {
      "cell_type": "code",
      "execution_count": null,
      "id": "d6e374c3",
      "metadata": {
        "id": "d6e374c3",
        "outputId": "07d44a1e-a622-41a8-d96d-9a4f8bbb606c"
      },
      "outputs": [
        {
          "data": {
            "text/html": [
              "<div>\n",
              "<style scoped>\n",
              "    .dataframe tbody tr th:only-of-type {\n",
              "        vertical-align: middle;\n",
              "    }\n",
              "\n",
              "    .dataframe tbody tr th {\n",
              "        vertical-align: top;\n",
              "    }\n",
              "\n",
              "    .dataframe thead th {\n",
              "        text-align: right;\n",
              "    }\n",
              "</style>\n",
              "<table border=\"1\" class=\"dataframe\">\n",
              "  <thead>\n",
              "    <tr style=\"text-align: right;\">\n",
              "      <th></th>\n",
              "      <th>vif</th>\n",
              "      <th>fea</th>\n",
              "    </tr>\n",
              "  </thead>\n",
              "  <tbody>\n",
              "    <tr>\n",
              "      <th>0</th>\n",
              "      <td>1.604684</td>\n",
              "      <td>Location</td>\n",
              "    </tr>\n",
              "    <tr>\n",
              "      <th>1</th>\n",
              "      <td>4.524948</td>\n",
              "      <td>MinTemp</td>\n",
              "    </tr>\n",
              "    <tr>\n",
              "      <th>2</th>\n",
              "      <td>5.374180</td>\n",
              "      <td>MaxTemp</td>\n",
              "    </tr>\n",
              "    <tr>\n",
              "      <th>3</th>\n",
              "      <td>1.558922</td>\n",
              "      <td>Evaporation</td>\n",
              "    </tr>\n",
              "    <tr>\n",
              "      <th>4</th>\n",
              "      <td>2.095175</td>\n",
              "      <td>Sunshine</td>\n",
              "    </tr>\n",
              "    <tr>\n",
              "      <th>5</th>\n",
              "      <td>1.616761</td>\n",
              "      <td>WindGustDir</td>\n",
              "    </tr>\n",
              "    <tr>\n",
              "      <th>6</th>\n",
              "      <td>3.082378</td>\n",
              "      <td>WindGustSpeed</td>\n",
              "    </tr>\n",
              "    <tr>\n",
              "      <th>7</th>\n",
              "      <td>1.378038</td>\n",
              "      <td>WindDir9am</td>\n",
              "    </tr>\n",
              "    <tr>\n",
              "      <th>8</th>\n",
              "      <td>1.401536</td>\n",
              "      <td>WindDir3pm</td>\n",
              "    </tr>\n",
              "    <tr>\n",
              "      <th>9</th>\n",
              "      <td>2.341512</td>\n",
              "      <td>WindSpeed9am</td>\n",
              "    </tr>\n",
              "    <tr>\n",
              "      <th>10</th>\n",
              "      <td>2.306329</td>\n",
              "      <td>WindSpeed3pm</td>\n",
              "    </tr>\n",
              "    <tr>\n",
              "      <th>11</th>\n",
              "      <td>2.602193</td>\n",
              "      <td>Humidity9am</td>\n",
              "    </tr>\n",
              "    <tr>\n",
              "      <th>12</th>\n",
              "      <td>3.243508</td>\n",
              "      <td>Humidity3pm</td>\n",
              "    </tr>\n",
              "    <tr>\n",
              "      <th>13</th>\n",
              "      <td>1.990369</td>\n",
              "      <td>Cloud9am</td>\n",
              "    </tr>\n",
              "    <tr>\n",
              "      <th>14</th>\n",
              "      <td>1.975060</td>\n",
              "      <td>Cloud3pm</td>\n",
              "    </tr>\n",
              "    <tr>\n",
              "      <th>15</th>\n",
              "      <td>1.474616</td>\n",
              "      <td>RainToday</td>\n",
              "    </tr>\n",
              "    <tr>\n",
              "      <th>16</th>\n",
              "      <td>1.462317</td>\n",
              "      <td>RainTomorrow</td>\n",
              "    </tr>\n",
              "    <tr>\n",
              "      <th>17</th>\n",
              "      <td>1.127281</td>\n",
              "      <td>month</td>\n",
              "    </tr>\n",
              "    <tr>\n",
              "      <th>18</th>\n",
              "      <td>1.551920</td>\n",
              "      <td>year</td>\n",
              "    </tr>\n",
              "  </tbody>\n",
              "</table>\n",
              "</div>"
            ],
            "text/plain": [
              "         vif            fea\n",
              "0   1.604684       Location\n",
              "1   4.524948        MinTemp\n",
              "2   5.374180        MaxTemp\n",
              "3   1.558922    Evaporation\n",
              "4   2.095175       Sunshine\n",
              "5   1.616761    WindGustDir\n",
              "6   3.082378  WindGustSpeed\n",
              "7   1.378038     WindDir9am\n",
              "8   1.401536     WindDir3pm\n",
              "9   2.341512   WindSpeed9am\n",
              "10  2.306329   WindSpeed3pm\n",
              "11  2.602193    Humidity9am\n",
              "12  3.243508    Humidity3pm\n",
              "13  1.990369       Cloud9am\n",
              "14  1.975060       Cloud3pm\n",
              "15  1.474616      RainToday\n",
              "16  1.462317   RainTomorrow\n",
              "17  1.127281          month\n",
              "18  1.551920           year"
            ]
          },
          "execution_count": 98,
          "metadata": {},
          "output_type": "execute_result"
        }
      ],
      "source": [
        "vif = pd.DataFrame()\n",
        "vif['vif'] = [variance_inflation_factor(x_scaled,i) for i in range(x_scaled.shape[1])]\n",
        "vif['fea'] = x.columns\n",
        "\n",
        "vif"
      ]
    },
    {
      "cell_type": "code",
      "execution_count": null,
      "id": "25e34baf",
      "metadata": {
        "id": "25e34baf"
      },
      "outputs": [],
      "source": [
        "from sklearn.model_selection import train_test_split\n",
        "x_train, x_test, y_train, y_test = train_test_split(x_scaled, y, test_size=0.25, random_state=42)"
      ]
    },
    {
      "cell_type": "code",
      "execution_count": null,
      "id": "fdf9594a",
      "metadata": {
        "id": "fdf9594a"
      },
      "outputs": [],
      "source": [
        "from sklearn.linear_model import LinearRegression\n",
        "from sklearn.tree import DecisionTreeRegressor\n",
        "from sklearn.metrics import accuracy_score\n",
        "from sklearn.ensemble import RandomForestRegressor\n",
        "from sklearn.neighbors import KNeighborsRegressor as KNN\n",
        "from sklearn.ensemble import GradientBoostingRegressor\n",
        "from sklearn.metrics import mean_absolute_error,mean_squared_error,r2_score"
      ]
    },
    {
      "cell_type": "code",
      "execution_count": null,
      "id": "a738836f",
      "metadata": {
        "id": "a738836f",
        "outputId": "7483897b-3824-402e-ca26-4962d4125d27"
      },
      "outputs": [
        {
          "name": "stdout",
          "output_type": "stream",
          "text": [
            "R_test: 0.8642252964228665\n",
            "R_train: 0.84514647379201\n",
            "MAE: 0.23807567981221497\n",
            "MSE: 0.13658701249271074\n",
            "RMSE: 0.36957680188657777\n"
          ]
        }
      ],
      "source": [
        "lr = LinearRegression()\n",
        "lr.fit(x_train,y_train)\n",
        "y_pred = lr.predict(x_test)\n",
        "y_pred_train = lr.predict(x_train)\n",
        "\n",
        "print('R_test:',r2_score(y_test, y_pred))\n",
        "print('R_train:',r2_score(y_train, y_pred_train))\n",
        "print('MAE:',mean_absolute_error(y_test, y_pred))\n",
        "print('MSE:', mean_squared_error(y_test, y_pred))\n",
        "print('RMSE:',np.sqrt(mean_squared_error(y_test, y_pred)))"
      ]
    },
    {
      "cell_type": "code",
      "execution_count": null,
      "id": "f8a8e445",
      "metadata": {
        "id": "f8a8e445",
        "outputId": "5b4e63f5-4dfb-4579-c53c-bc4e7542c373"
      },
      "outputs": [
        {
          "name": "stdout",
          "output_type": "stream",
          "text": [
            "R_test: 0.9339070301602956\n",
            "R_train: 1.0\n",
            "MAE: 0.08772449180974937\n",
            "MSE: 0.06648838892178148\n",
            "RMSE: 0.25785342526672295\n"
          ]
        }
      ],
      "source": [
        "dt = DecisionTreeRegressor()\n",
        "dt.fit(x_train,y_train)\n",
        "y_pred = dt.predict(x_test)\n",
        "y_pred_train = dt.predict(x_train)\n",
        "\n",
        "print('R_test:',r2_score(y_test, y_pred))\n",
        "print('R_train:',r2_score(y_train, y_pred_train))\n",
        "print('MAE:',mean_absolute_error(y_test, y_pred))\n",
        "print('MSE:', mean_squared_error(y_test, y_pred))\n",
        "print('RMSE:',np.sqrt(mean_squared_error(y_test, y_pred)))"
      ]
    },
    {
      "cell_type": "code",
      "execution_count": null,
      "id": "84029b34",
      "metadata": {
        "id": "84029b34",
        "outputId": "103da693-7300-4a8d-8ced-c4150558c1b8"
      },
      "outputs": [
        {
          "name": "stdout",
          "output_type": "stream",
          "text": [
            "R_test: 0.9651214943885921\n",
            "R_train: 0.9935576580061166\n",
            "MAE: 0.08876297611999209\n",
            "MSE: 0.035087175712124205\n",
            "RMSE: 0.1873157113328303\n"
          ]
        }
      ],
      "source": [
        "rf = RandomForestRegressor()\n",
        "rf.fit(x_train,y_train)\n",
        "y_pred = rf.predict(x_test)\n",
        "y_pred_train = rf.predict(x_train)\n",
        "\n",
        "print('R_test:',r2_score(y_test, y_pred))\n",
        "print('R_train:',r2_score(y_train, y_pred_train))\n",
        "print('MAE:',mean_absolute_error(y_test, y_pred))\n",
        "print('MSE:', mean_squared_error(y_test, y_pred))\n",
        "print('RMSE:',np.sqrt(mean_squared_error(y_test, y_pred)))"
      ]
    },
    {
      "cell_type": "code",
      "execution_count": null,
      "id": "ee4f66c8",
      "metadata": {
        "id": "ee4f66c8",
        "outputId": "f64ba66b-cf6e-48f9-87bc-db242bfd0963"
      },
      "outputs": [
        {
          "name": "stdout",
          "output_type": "stream",
          "text": [
            "R_test: 0.8765383140291378\n",
            "R_train: 0.9246674755338689\n",
            "MAE: 0.16471679494770083\n",
            "MSE: 0.12420032892572859\n",
            "RMSE: 0.35242067040077063\n"
          ]
        }
      ],
      "source": [
        "knn = KNN()\n",
        "knn.fit(x_train,y_train)\n",
        "y_pred = knn.predict(x_test)\n",
        "y_pred_train = knn.predict(x_train)\n",
        "\n",
        "print('R_test:',r2_score(y_test, y_pred))\n",
        "print('R_train:',r2_score(y_train, y_pred_train))\n",
        "print('MAE:',mean_absolute_error(y_test, y_pred))\n",
        "print('MSE:', mean_squared_error(y_test, y_pred))\n",
        "print('RMSE:',np.sqrt(mean_squared_error(y_test, y_pred)))"
      ]
    },
    {
      "cell_type": "code",
      "execution_count": null,
      "id": "2a53fad8",
      "metadata": {
        "id": "2a53fad8",
        "outputId": "00d8f84e-ab8d-43d7-ce92-871bb91a8693"
      },
      "outputs": [
        {
          "name": "stdout",
          "output_type": "stream",
          "text": [
            "R_test: 0.9589243826890043\n",
            "R_train: 0.96228071185508\n",
            "MAE: 0.10645350307925212\n",
            "MSE: 0.0413213633098858\n",
            "RMSE: 0.2032765685215239\n"
          ]
        }
      ],
      "source": [
        "gb = GradientBoostingRegressor()\n",
        "gb.fit(x_train,y_train)\n",
        "y_pred = gb.predict(x_test)\n",
        "y_pred_train = gb.predict(x_train)\n",
        "\n",
        "print('R_test:',r2_score(y_test, y_pred))\n",
        "print('R_train:',r2_score(y_train, y_pred_train))\n",
        "print('MAE:',mean_absolute_error(y_test, y_pred))\n",
        "print('MSE:', mean_squared_error(y_test, y_pred))\n",
        "print('RMSE:',np.sqrt(mean_squared_error(y_test, y_pred)))"
      ]
    },
    {
      "cell_type": "code",
      "execution_count": null,
      "id": "d8add5e3",
      "metadata": {
        "id": "d8add5e3"
      },
      "outputs": [],
      "source": [
        "from sklearn.model_selection import cross_val_score"
      ]
    },
    {
      "cell_type": "code",
      "execution_count": null,
      "id": "66392f81",
      "metadata": {
        "id": "66392f81",
        "outputId": "bcecf7fe-89c1-44bc-adaa-94a91cb9a02b"
      },
      "outputs": [
        {
          "name": "stdout",
          "output_type": "stream",
          "text": [
            "[0.90846115 0.90549068 0.91179342 0.89688828 0.8744856  0.89060416\n",
            " 0.28584724 0.87528022 0.8960195  0.91011568]\n",
            "--------------------------------------------------\n",
            "Linear Regression: 0.8354985920073064\n"
          ]
        }
      ],
      "source": [
        "lr_score = cross_val_score(lr,x,y,cv=10)\n",
        "print(lr_score)\n",
        "print('-'*50)\n",
        "print('Linear Regression:',lr_score.mean())"
      ]
    },
    {
      "cell_type": "code",
      "execution_count": null,
      "id": "759aebf2",
      "metadata": {
        "id": "759aebf2",
        "outputId": "abd40ca5-3078-45d9-d0c7-40fad75be431"
      },
      "outputs": [
        {
          "name": "stdout",
          "output_type": "stream",
          "text": [
            "[0.96185542 0.9193955  0.96556971 0.94943166 0.95514151 0.89610924\n",
            " 0.74217989 0.90777911 0.8865118  0.86887088]\n",
            "--------------------------------------------------\n",
            "Decision Tree 0.9052844729860222\n"
          ]
        }
      ],
      "source": [
        "score_dt = cross_val_score(dt,x,y,cv=10)\n",
        "print(score_dt)\n",
        "print('-'*50)\n",
        "print('Decision Tree',score_dt.mean())"
      ]
    },
    {
      "cell_type": "code",
      "execution_count": null,
      "id": "4d9c9378",
      "metadata": {
        "id": "4d9c9378",
        "outputId": "5a5494b5-b598-40d4-dcaa-482232b53afa"
      },
      "outputs": [
        {
          "name": "stdout",
          "output_type": "stream",
          "text": [
            "[0.975514   0.9552559  0.98097599 0.98031875 0.93830246 0.95108194\n",
            " 0.802208   0.95063792 0.94311945 0.93333005]\n",
            "--------------------------------------------------\n",
            "Random Forest 0.9410744457268164\n"
          ]
        }
      ],
      "source": [
        "score_rf = cross_val_score(rf,x,y,cv=10)\n",
        "print(score_rf)\n",
        "print('-'*50)\n",
        "print('Random Forest',score_rf.mean())"
      ]
    },
    {
      "cell_type": "code",
      "execution_count": null,
      "id": "65dd3566",
      "metadata": {
        "id": "65dd3566",
        "outputId": "101ff1ac-e76f-4db0-fd8d-168923ead664"
      },
      "outputs": [
        {
          "name": "stdout",
          "output_type": "stream",
          "text": [
            "[0.96854836 0.95578716 0.97314242 0.96903697 0.94618839 0.95444344\n",
            " 0.81366441 0.95409683 0.93979011 0.94404683]\n",
            "--------------------------------------------------\n",
            "Grad Boost 0.9418744918397668\n"
          ]
        }
      ],
      "source": [
        "score_gb = cross_val_score(gb,x,y,cv=10)\n",
        "print(score_gb)\n",
        "print('-'*50)\n",
        "print('Grad Boost',score_gb.mean())"
      ]
    },
    {
      "cell_type": "code",
      "execution_count": null,
      "id": "15db554a",
      "metadata": {
        "id": "15db554a",
        "outputId": "58f17667-c38e-49c2-ccfa-5dce36dd23b5"
      },
      "outputs": [
        {
          "name": "stdout",
          "output_type": "stream",
          "text": [
            "[0.38133333 0.35714708 0.37383391 0.29308336 0.16644819 0.10233817\n",
            " 0.17150995 0.38993974 0.44016229 0.32583496]\n",
            "--------------------------------------------------\n",
            "KNN: 0.30016309764080906\n"
          ]
        }
      ],
      "source": [
        "score_knn = cross_val_score(knn,x,y,cv=10)\n",
        "print(score_knn)\n",
        "print('-'*50)\n",
        "print('KNN:',score_knn.mean())"
      ]
    },
    {
      "cell_type": "code",
      "execution_count": null,
      "id": "4558b2b1",
      "metadata": {
        "id": "4558b2b1"
      },
      "outputs": [],
      "source": [
        "#random_forest and gradient boosting gives better score"
      ]
    },
    {
      "cell_type": "code",
      "execution_count": null,
      "id": "2de9fa2a",
      "metadata": {
        "id": "2de9fa2a"
      },
      "outputs": [],
      "source": [
        "from sklearn.model_selection import GridSearchCV\n",
        "\n",
        "params = {\n",
        "    'n_estimators': [13, 15],\n",
        "    'criterion': ['mse', 'mae'],\n",
        "    'max_depth': [10, 15],\n",
        "    'min_samples_split': [10, 11],\n",
        "    'min_samples_leaf': [5, 6]\n",
        "}"
      ]
    },
    {
      "cell_type": "code",
      "execution_count": null,
      "id": "5edc8e49",
      "metadata": {
        "id": "5edc8e49"
      },
      "outputs": [],
      "source": [
        "rf = RandomForestRegressor()\n",
        "grid_search = GridSearchCV(estimator=rf, param_grid=params, cv=5)"
      ]
    },
    {
      "cell_type": "code",
      "execution_count": null,
      "id": "055d07e0",
      "metadata": {
        "id": "055d07e0",
        "outputId": "4ead7bb9-0e03-49a9-aff6-406f079d50f3"
      },
      "outputs": [
        {
          "data": {
            "text/plain": [
              "GridSearchCV(cv=5, estimator=RandomForestRegressor(),\n",
              "             param_grid={'criterion': ['mse', 'mae'], 'max_depth': [10, 15],\n",
              "                         'min_samples_leaf': [5, 6],\n",
              "                         'min_samples_split': [10, 11],\n",
              "                         'n_estimators': [13, 15]})"
            ]
          },
          "execution_count": 116,
          "metadata": {},
          "output_type": "execute_result"
        }
      ],
      "source": [
        "grid_search.fit(x_train, y_train)"
      ]
    },
    {
      "cell_type": "code",
      "execution_count": null,
      "id": "9046fc67",
      "metadata": {
        "id": "9046fc67",
        "outputId": "91b81a48-3a37-45ce-85ff-731cc678beb3"
      },
      "outputs": [
        {
          "name": "stdout",
          "output_type": "stream",
          "text": [
            "Best parameters found:  {'criterion': 'mse', 'max_depth': 15, 'min_samples_leaf': 5, 'min_samples_split': 11, 'n_estimators': 15}\n"
          ]
        }
      ],
      "source": [
        "best_params = grid_search.best_params_\n",
        "print(\"Best parameters found: \", best_params)"
      ]
    },
    {
      "cell_type": "code",
      "execution_count": null,
      "id": "c5be4bb3",
      "metadata": {
        "id": "c5be4bb3",
        "outputId": "0c358735-da32-40de-8073-7378085e7e16"
      },
      "outputs": [
        {
          "data": {
            "text/plain": [
              "RandomForestRegressor(criterion='mse', max_depth=15, min_samples_leaf=5,\n",
              "                      min_samples_split=11, n_estimators=15)"
            ]
          },
          "execution_count": 118,
          "metadata": {},
          "output_type": "execute_result"
        }
      ],
      "source": [
        "best_ext = grid_search.best_estimator_\n",
        "best_ext.fit(x_train,y_train)"
      ]
    },
    {
      "cell_type": "code",
      "execution_count": null,
      "id": "9f1931e6",
      "metadata": {
        "id": "9f1931e6",
        "outputId": "69525e3a-1fa2-4fc0-c5d9-5db790aaedcb"
      },
      "outputs": [
        {
          "data": {
            "text/plain": [
              "0.9614588992522993"
            ]
          },
          "execution_count": 119,
          "metadata": {},
          "output_type": "execute_result"
        }
      ],
      "source": [
        "best_ext.score(x_test,y_test)"
      ]
    },
    {
      "cell_type": "code",
      "execution_count": null,
      "id": "54b19381",
      "metadata": {
        "id": "54b19381"
      },
      "outputs": [],
      "source": [
        "import pickle\n",
        "import joblib\n",
        "\n",
        "model_reg = rf\n",
        "\n",
        "file = 'Rainfall_pred.pkl'\n",
        "pickle.dump(model_reg, open(file,'wb'))\n",
        "\n",
        "loaded_model = pickle.load(open('Rainfall_pred.pkl','rb'))"
      ]
    },
    {
      "cell_type": "code",
      "execution_count": null,
      "id": "c4f71ff2",
      "metadata": {
        "id": "c4f71ff2"
      },
      "outputs": [],
      "source": [
        "Rainfall Weather Forecasting\n",
        "Observations\n",
        "\n",
        "•\tIn the overall dataset, there are 1670 duplicated rows\n",
        "•\tColumns: 23 and Rows:8425\n",
        "•\tThe min. rainfall is 0 and max. is 371\n",
        "•\tJune month has the more rainfalls\n",
        "•\tOn 2011 - 2012 there were more rainfalls\n",
        "•   The best model for regression is Random Forest Regressor with 0.94 accuracy score and for classification is Random Forest Classifier with 0.88"
      ]
    }
  ],
  "metadata": {
    "kernelspec": {
      "display_name": "Python 3 (ipykernel)",
      "language": "python",
      "name": "python3"
    },
    "language_info": {
      "codemirror_mode": {
        "name": "ipython",
        "version": 3
      },
      "file_extension": ".py",
      "mimetype": "text/x-python",
      "name": "python",
      "nbconvert_exporter": "python",
      "pygments_lexer": "ipython3",
      "version": "3.9.13"
    },
    "colab": {
      "provenance": []
    }
  },
  "nbformat": 4,
  "nbformat_minor": 5
}