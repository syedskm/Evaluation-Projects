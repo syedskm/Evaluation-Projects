{
 "cells": [
  {
   "cell_type": "markdown",
   "id": "cb178afd",
   "metadata": {},
   "source": [
    "# Internship Number - DS2312"
   ]
  },
  {
   "cell_type": "code",
   "execution_count": 1,
   "id": "d3c5001d",
   "metadata": {},
   "outputs": [],
   "source": [
    "import pandas as pd\n",
    "import matplotlib.pyplot as plt\n",
    "import seaborn as sns\n",
    "import numpy as np\n",
    "import warnings\n",
    "warnings.filterwarnings('ignore')"
   ]
  },
  {
   "cell_type": "code",
   "execution_count": 2,
   "id": "d0d973e7",
   "metadata": {},
   "outputs": [],
   "source": [
    "df1 = pd.read_csv('database_USA.csv')\n",
    "df2 = pd.read_csv('database_IND.csv')\n",
    "df3 = pd.read_csv('database_AUS.csv')"
   ]
  },
  {
   "cell_type": "code",
   "execution_count": 3,
   "id": "2f3a6380",
   "metadata": {},
   "outputs": [
    {
     "name": "stdout",
     "output_type": "stream",
     "text": [
      "<class 'pandas.core.frame.DataFrame'>\n",
      "RangeIndex: 11879 entries, 0 to 11878\n",
      "Data columns (total 27 columns):\n",
      " #   Column                    Non-Null Count  Dtype  \n",
      "---  ------                    --------------  -----  \n",
      " 0   country                   11879 non-null  object \n",
      " 1   country_long              11879 non-null  object \n",
      " 2   name                      11879 non-null  object \n",
      " 3   gppd_idnr                 11879 non-null  object \n",
      " 4   capacity_mw               11879 non-null  float64\n",
      " 5   latitude                  11847 non-null  float64\n",
      " 6   longitude                 11847 non-null  float64\n",
      " 7   primary_fuel              9875 non-null   object \n",
      " 8   other_fuel1               1430 non-null   object \n",
      " 9   other_fuel2               269 non-null    object \n",
      " 10  other_fuel3               92 non-null     object \n",
      " 11  commissioning_year        9829 non-null   float64\n",
      " 12  owner                     11866 non-null  object \n",
      " 13  source                    11879 non-null  object \n",
      " 14  url                       11879 non-null  object \n",
      " 15  geolocation_source        11875 non-null  object \n",
      " 16  wepp_id                   0 non-null      float64\n",
      " 17  year_of_capacity_data     11833 non-null  float64\n",
      " 18  generation_gwh_2013       6471 non-null   float64\n",
      " 19  generation_gwh_2014       6853 non-null   float64\n",
      " 20  generation_gwh_2015       7275 non-null   float64\n",
      " 21  generation_gwh_2016       7962 non-null   float64\n",
      " 22  generation_gwh_2017       8553 non-null   float64\n",
      " 23  generation_gwh_2018       9105 non-null   float64\n",
      " 24  generation_gwh_2019       9777 non-null   float64\n",
      " 25  generation_data_source    10069 non-null  object \n",
      " 26  estimated_generation_gwh  0 non-null      float64\n",
      "dtypes: float64(14), object(13)\n",
      "memory usage: 2.4+ MB\n"
     ]
    }
   ],
   "source": [
    "df1.info()"
   ]
  },
  {
   "cell_type": "code",
   "execution_count": 4,
   "id": "4c855fb0",
   "metadata": {},
   "outputs": [
    {
     "name": "stdout",
     "output_type": "stream",
     "text": [
      "<class 'pandas.core.frame.DataFrame'>\n",
      "RangeIndex: 907 entries, 0 to 906\n",
      "Data columns (total 27 columns):\n",
      " #   Column                    Non-Null Count  Dtype  \n",
      "---  ------                    --------------  -----  \n",
      " 0   country                   907 non-null    object \n",
      " 1   country_long              907 non-null    object \n",
      " 2   name                      907 non-null    object \n",
      " 3   gppd_idnr                 907 non-null    object \n",
      " 4   capacity_mw               907 non-null    float64\n",
      " 5   latitude                  861 non-null    float64\n",
      " 6   longitude                 861 non-null    float64\n",
      " 7   primary_fuel              907 non-null    object \n",
      " 8   other_fuel1               198 non-null    object \n",
      " 9   other_fuel2               1 non-null      object \n",
      " 10  other_fuel3               0 non-null      float64\n",
      " 11  commissioning_year        533 non-null    float64\n",
      " 12  owner                     344 non-null    object \n",
      " 13  source                    907 non-null    object \n",
      " 14  url                       907 non-null    object \n",
      " 15  geolocation_source        888 non-null    object \n",
      " 16  wepp_id                   0 non-null      float64\n",
      " 17  year_of_capacity_data     519 non-null    float64\n",
      " 18  generation_gwh_2013       446 non-null    float64\n",
      " 19  generation_gwh_2014       404 non-null    float64\n",
      " 20  generation_gwh_2015       428 non-null    float64\n",
      " 21  generation_gwh_2016       440 non-null    float64\n",
      " 22  generation_gwh_2017       446 non-null    float64\n",
      " 23  generation_gwh_2018       453 non-null    float64\n",
      " 24  generation_gwh_2019       1 non-null      object \n",
      " 25  generation_data_source    454 non-null    object \n",
      " 26  estimated_generation_gwh  0 non-null      float64\n",
      "dtypes: float64(14), object(13)\n",
      "memory usage: 191.4+ KB\n"
     ]
    }
   ],
   "source": [
    "df2.info()"
   ]
  },
  {
   "cell_type": "code",
   "execution_count": 5,
   "id": "5e845780",
   "metadata": {},
   "outputs": [
    {
     "name": "stdout",
     "output_type": "stream",
     "text": [
      "<class 'pandas.core.frame.DataFrame'>\n",
      "RangeIndex: 512 entries, 0 to 511\n",
      "Data columns (total 27 columns):\n",
      " #   Column                    Non-Null Count  Dtype  \n",
      "---  ------                    --------------  -----  \n",
      " 0   country                   512 non-null    object \n",
      " 1   country_long              512 non-null    object \n",
      " 2   name                      512 non-null    object \n",
      " 3   gppd_idnr                 512 non-null    object \n",
      " 4   capacity_mw               506 non-null    float64\n",
      " 5   latitude                  512 non-null    float64\n",
      " 6   longitude                 512 non-null    float64\n",
      " 7   primary_fuel              512 non-null    object \n",
      " 8   other_fuel1               0 non-null      float64\n",
      " 9   other_fuel2               0 non-null      float64\n",
      " 10  other_fuel3               0 non-null      float64\n",
      " 11  commissioning_year        292 non-null    float64\n",
      " 12  owner                     495 non-null    object \n",
      " 13  source                    512 non-null    object \n",
      " 14  url                       512 non-null    object \n",
      " 15  geolocation_source        512 non-null    object \n",
      " 16  wepp_id                   0 non-null      float64\n",
      " 17  year_of_capacity_data     508 non-null    float64\n",
      " 18  generation_gwh_2013       253 non-null    float64\n",
      " 19  generation_gwh_2014       277 non-null    float64\n",
      " 20  generation_gwh_2015       290 non-null    float64\n",
      " 21  generation_gwh_2016       299 non-null    float64\n",
      " 22  generation_gwh_2017       293 non-null    float64\n",
      " 23  generation_gwh_2018       300 non-null    float64\n",
      " 24  generation_gwh_2019       0 non-null      float64\n",
      " 25  generation_data_source    312 non-null    object \n",
      " 26  estimated_generation_gwh  0 non-null      float64\n",
      "dtypes: float64(17), object(10)\n",
      "memory usage: 108.1+ KB\n"
     ]
    }
   ],
   "source": [
    "df3.info()"
   ]
  },
  {
   "cell_type": "code",
   "execution_count": 6,
   "id": "917d5a29",
   "metadata": {},
   "outputs": [],
   "source": [
    "df = pd.concat([df1,df2,df3],axis=0)"
   ]
  },
  {
   "cell_type": "code",
   "execution_count": 7,
   "id": "11bd3886",
   "metadata": {},
   "outputs": [],
   "source": [
    "df.reset_index(inplace=True)"
   ]
  },
  {
   "cell_type": "code",
   "execution_count": 8,
   "id": "2621bd1b",
   "metadata": {},
   "outputs": [],
   "source": [
    "pd.set_option('display.max_columns', None)"
   ]
  },
  {
   "cell_type": "code",
   "execution_count": 9,
   "id": "736e3684",
   "metadata": {},
   "outputs": [
    {
     "data": {
      "text/html": [
       "<div>\n",
       "<style scoped>\n",
       "    .dataframe tbody tr th:only-of-type {\n",
       "        vertical-align: middle;\n",
       "    }\n",
       "\n",
       "    .dataframe tbody tr th {\n",
       "        vertical-align: top;\n",
       "    }\n",
       "\n",
       "    .dataframe thead th {\n",
       "        text-align: right;\n",
       "    }\n",
       "</style>\n",
       "<table border=\"1\" class=\"dataframe\">\n",
       "  <thead>\n",
       "    <tr style=\"text-align: right;\">\n",
       "      <th></th>\n",
       "      <th>index</th>\n",
       "      <th>country</th>\n",
       "      <th>country_long</th>\n",
       "      <th>name</th>\n",
       "      <th>gppd_idnr</th>\n",
       "      <th>capacity_mw</th>\n",
       "      <th>latitude</th>\n",
       "      <th>longitude</th>\n",
       "      <th>primary_fuel</th>\n",
       "      <th>other_fuel1</th>\n",
       "      <th>other_fuel2</th>\n",
       "      <th>other_fuel3</th>\n",
       "      <th>commissioning_year</th>\n",
       "      <th>owner</th>\n",
       "      <th>source</th>\n",
       "      <th>url</th>\n",
       "      <th>geolocation_source</th>\n",
       "      <th>wepp_id</th>\n",
       "      <th>year_of_capacity_data</th>\n",
       "      <th>generation_gwh_2013</th>\n",
       "      <th>generation_gwh_2014</th>\n",
       "      <th>generation_gwh_2015</th>\n",
       "      <th>generation_gwh_2016</th>\n",
       "      <th>generation_gwh_2017</th>\n",
       "      <th>generation_gwh_2018</th>\n",
       "      <th>generation_gwh_2019</th>\n",
       "      <th>generation_data_source</th>\n",
       "      <th>estimated_generation_gwh</th>\n",
       "    </tr>\n",
       "  </thead>\n",
       "  <tbody>\n",
       "    <tr>\n",
       "      <th>0</th>\n",
       "      <td>0</td>\n",
       "      <td>USA</td>\n",
       "      <td>United States of America</td>\n",
       "      <td>10 Briggs Solar NG  LLC (East)</td>\n",
       "      <td>USA0062781</td>\n",
       "      <td>0.0</td>\n",
       "      <td>41.6327</td>\n",
       "      <td>-71.4963</td>\n",
       "      <td>NaN</td>\n",
       "      <td>NaN</td>\n",
       "      <td>NaN</td>\n",
       "      <td>NaN</td>\n",
       "      <td>NaN</td>\n",
       "      <td>10 Briggs Solar NG  LLC</td>\n",
       "      <td>U.S. Energy Information Administration</td>\n",
       "      <td>http://www.eia.gov/electricity/data/browser/</td>\n",
       "      <td>U.S. Energy Information Administration</td>\n",
       "      <td>NaN</td>\n",
       "      <td>2019.0</td>\n",
       "      <td>NaN</td>\n",
       "      <td>NaN</td>\n",
       "      <td>NaN</td>\n",
       "      <td>NaN</td>\n",
       "      <td>NaN</td>\n",
       "      <td>NaN</td>\n",
       "      <td>NaN</td>\n",
       "      <td>NaN</td>\n",
       "      <td>NaN</td>\n",
       "    </tr>\n",
       "    <tr>\n",
       "      <th>1</th>\n",
       "      <td>1</td>\n",
       "      <td>USA</td>\n",
       "      <td>United States of America</td>\n",
       "      <td>100 Brook Hill Drive Solar</td>\n",
       "      <td>USA0063292</td>\n",
       "      <td>2.0</td>\n",
       "      <td>41.0930</td>\n",
       "      <td>-73.9828</td>\n",
       "      <td>Solar</td>\n",
       "      <td>NaN</td>\n",
       "      <td>NaN</td>\n",
       "      <td>NaN</td>\n",
       "      <td>2016.0</td>\n",
       "      <td>Diamond Properties</td>\n",
       "      <td>U.S. Energy Information Administration</td>\n",
       "      <td>http://www.eia.gov/electricity/data/browser/</td>\n",
       "      <td>U.S. Energy Information Administration</td>\n",
       "      <td>NaN</td>\n",
       "      <td>2019.0</td>\n",
       "      <td>NaN</td>\n",
       "      <td>NaN</td>\n",
       "      <td>NaN</td>\n",
       "      <td>NaN</td>\n",
       "      <td>NaN</td>\n",
       "      <td>NaN</td>\n",
       "      <td>2.467</td>\n",
       "      <td>U.S. Energy Information Administration</td>\n",
       "      <td>NaN</td>\n",
       "    </tr>\n",
       "    <tr>\n",
       "      <th>2</th>\n",
       "      <td>2</td>\n",
       "      <td>USA</td>\n",
       "      <td>United States of America</td>\n",
       "      <td>1001 Ebenezer Church Solar</td>\n",
       "      <td>USA0063444</td>\n",
       "      <td>0.0</td>\n",
       "      <td>36.2838</td>\n",
       "      <td>-80.8434</td>\n",
       "      <td>NaN</td>\n",
       "      <td>NaN</td>\n",
       "      <td>NaN</td>\n",
       "      <td>NaN</td>\n",
       "      <td>NaN</td>\n",
       "      <td>1001 Ebenezer Church Solar  LLC</td>\n",
       "      <td>U.S. Energy Information Administration</td>\n",
       "      <td>http://www.eia.gov/electricity/data/browser/</td>\n",
       "      <td>U.S. Energy Information Administration</td>\n",
       "      <td>NaN</td>\n",
       "      <td>2019.0</td>\n",
       "      <td>NaN</td>\n",
       "      <td>NaN</td>\n",
       "      <td>NaN</td>\n",
       "      <td>NaN</td>\n",
       "      <td>NaN</td>\n",
       "      <td>NaN</td>\n",
       "      <td>NaN</td>\n",
       "      <td>NaN</td>\n",
       "      <td>NaN</td>\n",
       "    </tr>\n",
       "    <tr>\n",
       "      <th>3</th>\n",
       "      <td>3</td>\n",
       "      <td>USA</td>\n",
       "      <td>United States of America</td>\n",
       "      <td>1008 Matthews Solar</td>\n",
       "      <td>USA0063447</td>\n",
       "      <td>0.0</td>\n",
       "      <td>36.2167</td>\n",
       "      <td>-80.5525</td>\n",
       "      <td>NaN</td>\n",
       "      <td>NaN</td>\n",
       "      <td>NaN</td>\n",
       "      <td>NaN</td>\n",
       "      <td>NaN</td>\n",
       "      <td>1008 Matthews Solar  LLC</td>\n",
       "      <td>U.S. Energy Information Administration</td>\n",
       "      <td>http://www.eia.gov/electricity/data/browser/</td>\n",
       "      <td>U.S. Energy Information Administration</td>\n",
       "      <td>NaN</td>\n",
       "      <td>2019.0</td>\n",
       "      <td>NaN</td>\n",
       "      <td>NaN</td>\n",
       "      <td>NaN</td>\n",
       "      <td>NaN</td>\n",
       "      <td>NaN</td>\n",
       "      <td>NaN</td>\n",
       "      <td>NaN</td>\n",
       "      <td>NaN</td>\n",
       "      <td>NaN</td>\n",
       "    </tr>\n",
       "    <tr>\n",
       "      <th>4</th>\n",
       "      <td>4</td>\n",
       "      <td>USA</td>\n",
       "      <td>United States of America</td>\n",
       "      <td>1009 Yadkin Solar</td>\n",
       "      <td>USA0063445</td>\n",
       "      <td>0.0</td>\n",
       "      <td>36.1475</td>\n",
       "      <td>-80.6561</td>\n",
       "      <td>NaN</td>\n",
       "      <td>NaN</td>\n",
       "      <td>NaN</td>\n",
       "      <td>NaN</td>\n",
       "      <td>NaN</td>\n",
       "      <td>1009 Yadkin Solar  LLC</td>\n",
       "      <td>U.S. Energy Information Administration</td>\n",
       "      <td>http://www.eia.gov/electricity/data/browser/</td>\n",
       "      <td>U.S. Energy Information Administration</td>\n",
       "      <td>NaN</td>\n",
       "      <td>2019.0</td>\n",
       "      <td>NaN</td>\n",
       "      <td>NaN</td>\n",
       "      <td>NaN</td>\n",
       "      <td>NaN</td>\n",
       "      <td>NaN</td>\n",
       "      <td>NaN</td>\n",
       "      <td>NaN</td>\n",
       "      <td>NaN</td>\n",
       "      <td>NaN</td>\n",
       "    </tr>\n",
       "  </tbody>\n",
       "</table>\n",
       "</div>"
      ],
      "text/plain": [
       "   index country              country_long                            name  \\\n",
       "0      0     USA  United States of America  10 Briggs Solar NG  LLC (East)   \n",
       "1      1     USA  United States of America      100 Brook Hill Drive Solar   \n",
       "2      2     USA  United States of America      1001 Ebenezer Church Solar   \n",
       "3      3     USA  United States of America             1008 Matthews Solar   \n",
       "4      4     USA  United States of America               1009 Yadkin Solar   \n",
       "\n",
       "    gppd_idnr  capacity_mw  latitude  longitude primary_fuel other_fuel1  \\\n",
       "0  USA0062781          0.0   41.6327   -71.4963          NaN         NaN   \n",
       "1  USA0063292          2.0   41.0930   -73.9828        Solar         NaN   \n",
       "2  USA0063444          0.0   36.2838   -80.8434          NaN         NaN   \n",
       "3  USA0063447          0.0   36.2167   -80.5525          NaN         NaN   \n",
       "4  USA0063445          0.0   36.1475   -80.6561          NaN         NaN   \n",
       "\n",
       "  other_fuel2 other_fuel3  commissioning_year  \\\n",
       "0         NaN         NaN                 NaN   \n",
       "1         NaN         NaN              2016.0   \n",
       "2         NaN         NaN                 NaN   \n",
       "3         NaN         NaN                 NaN   \n",
       "4         NaN         NaN                 NaN   \n",
       "\n",
       "                             owner                                  source  \\\n",
       "0          10 Briggs Solar NG  LLC  U.S. Energy Information Administration   \n",
       "1               Diamond Properties  U.S. Energy Information Administration   \n",
       "2  1001 Ebenezer Church Solar  LLC  U.S. Energy Information Administration   \n",
       "3         1008 Matthews Solar  LLC  U.S. Energy Information Administration   \n",
       "4           1009 Yadkin Solar  LLC  U.S. Energy Information Administration   \n",
       "\n",
       "                                            url  \\\n",
       "0  http://www.eia.gov/electricity/data/browser/   \n",
       "1  http://www.eia.gov/electricity/data/browser/   \n",
       "2  http://www.eia.gov/electricity/data/browser/   \n",
       "3  http://www.eia.gov/electricity/data/browser/   \n",
       "4  http://www.eia.gov/electricity/data/browser/   \n",
       "\n",
       "                       geolocation_source  wepp_id  year_of_capacity_data  \\\n",
       "0  U.S. Energy Information Administration      NaN                 2019.0   \n",
       "1  U.S. Energy Information Administration      NaN                 2019.0   \n",
       "2  U.S. Energy Information Administration      NaN                 2019.0   \n",
       "3  U.S. Energy Information Administration      NaN                 2019.0   \n",
       "4  U.S. Energy Information Administration      NaN                 2019.0   \n",
       "\n",
       "   generation_gwh_2013  generation_gwh_2014  generation_gwh_2015  \\\n",
       "0                  NaN                  NaN                  NaN   \n",
       "1                  NaN                  NaN                  NaN   \n",
       "2                  NaN                  NaN                  NaN   \n",
       "3                  NaN                  NaN                  NaN   \n",
       "4                  NaN                  NaN                  NaN   \n",
       "\n",
       "   generation_gwh_2016  generation_gwh_2017  generation_gwh_2018  \\\n",
       "0                  NaN                  NaN                  NaN   \n",
       "1                  NaN                  NaN                  NaN   \n",
       "2                  NaN                  NaN                  NaN   \n",
       "3                  NaN                  NaN                  NaN   \n",
       "4                  NaN                  NaN                  NaN   \n",
       "\n",
       "  generation_gwh_2019                  generation_data_source  \\\n",
       "0                 NaN                                     NaN   \n",
       "1               2.467  U.S. Energy Information Administration   \n",
       "2                 NaN                                     NaN   \n",
       "3                 NaN                                     NaN   \n",
       "4                 NaN                                     NaN   \n",
       "\n",
       "   estimated_generation_gwh  \n",
       "0                       NaN  \n",
       "1                       NaN  \n",
       "2                       NaN  \n",
       "3                       NaN  \n",
       "4                       NaN  "
      ]
     },
     "execution_count": 9,
     "metadata": {},
     "output_type": "execute_result"
    }
   ],
   "source": [
    "df.head()"
   ]
  },
  {
   "cell_type": "code",
   "execution_count": 10,
   "id": "8288cf27",
   "metadata": {},
   "outputs": [
    {
     "data": {
      "text/html": [
       "<div>\n",
       "<style scoped>\n",
       "    .dataframe tbody tr th:only-of-type {\n",
       "        vertical-align: middle;\n",
       "    }\n",
       "\n",
       "    .dataframe tbody tr th {\n",
       "        vertical-align: top;\n",
       "    }\n",
       "\n",
       "    .dataframe thead th {\n",
       "        text-align: right;\n",
       "    }\n",
       "</style>\n",
       "<table border=\"1\" class=\"dataframe\">\n",
       "  <thead>\n",
       "    <tr style=\"text-align: right;\">\n",
       "      <th></th>\n",
       "      <th>index</th>\n",
       "      <th>capacity_mw</th>\n",
       "      <th>latitude</th>\n",
       "      <th>longitude</th>\n",
       "      <th>commissioning_year</th>\n",
       "      <th>wepp_id</th>\n",
       "      <th>year_of_capacity_data</th>\n",
       "      <th>generation_gwh_2013</th>\n",
       "      <th>generation_gwh_2014</th>\n",
       "      <th>generation_gwh_2015</th>\n",
       "      <th>generation_gwh_2016</th>\n",
       "      <th>generation_gwh_2017</th>\n",
       "      <th>generation_gwh_2018</th>\n",
       "      <th>estimated_generation_gwh</th>\n",
       "    </tr>\n",
       "  </thead>\n",
       "  <tbody>\n",
       "    <tr>\n",
       "      <th>count</th>\n",
       "      <td>13298.000000</td>\n",
       "      <td>13292.000000</td>\n",
       "      <td>13220.000000</td>\n",
       "      <td>13220.000000</td>\n",
       "      <td>10654.000000</td>\n",
       "      <td>0.0</td>\n",
       "      <td>12860.0</td>\n",
       "      <td>7170.000000</td>\n",
       "      <td>7534.000000</td>\n",
       "      <td>7993.000000</td>\n",
       "      <td>8701.000000</td>\n",
       "      <td>9292.000000</td>\n",
       "      <td>9858.000000</td>\n",
       "      <td>0.0</td>\n",
       "    </tr>\n",
       "    <tr>\n",
       "      <th>mean</th>\n",
       "      <td>5345.996992</td>\n",
       "      <td>117.738717</td>\n",
       "      <td>35.053213</td>\n",
       "      <td>-73.794217</td>\n",
       "      <td>1998.184904</td>\n",
       "      <td>NaN</td>\n",
       "      <td>2019.0</td>\n",
       "      <td>563.383222</td>\n",
       "      <td>635.739731</td>\n",
       "      <td>616.801877</td>\n",
       "      <td>561.784508</td>\n",
       "      <td>532.472482</td>\n",
       "      <td>513.679016</td>\n",
       "      <td>NaN</td>\n",
       "    </tr>\n",
       "    <tr>\n",
       "      <th>std</th>\n",
       "      <td>3668.205098</td>\n",
       "      <td>347.169038</td>\n",
       "      <td>15.444195</td>\n",
       "      <td>62.868834</td>\n",
       "      <td>24.017781</td>\n",
       "      <td>NaN</td>\n",
       "      <td>0.0</td>\n",
       "      <td>2030.523760</td>\n",
       "      <td>2193.172655</td>\n",
       "      <td>2148.167470</td>\n",
       "      <td>2050.411295</td>\n",
       "      <td>2001.411908</td>\n",
       "      <td>1963.485305</td>\n",
       "      <td>NaN</td>\n",
       "    </tr>\n",
       "    <tr>\n",
       "      <th>min</th>\n",
       "      <td>0.000000</td>\n",
       "      <td>0.000000</td>\n",
       "      <td>-42.888300</td>\n",
       "      <td>-171.712400</td>\n",
       "      <td>1896.000000</td>\n",
       "      <td>NaN</td>\n",
       "      <td>2019.0</td>\n",
       "      <td>-947.600000</td>\n",
       "      <td>-989.619000</td>\n",
       "      <td>-864.428000</td>\n",
       "      <td>-768.620000</td>\n",
       "      <td>-934.944000</td>\n",
       "      <td>-982.622000</td>\n",
       "      <td>NaN</td>\n",
       "    </tr>\n",
       "    <tr>\n",
       "      <th>25%</th>\n",
       "      <td>1905.250000</td>\n",
       "      <td>1.500000</td>\n",
       "      <td>33.901700</td>\n",
       "      <td>-104.659875</td>\n",
       "      <td>1988.000000</td>\n",
       "      <td>NaN</td>\n",
       "      <td>2019.0</td>\n",
       "      <td>1.653075</td>\n",
       "      <td>2.018000</td>\n",
       "      <td>2.140000</td>\n",
       "      <td>2.108000</td>\n",
       "      <td>2.063750</td>\n",
       "      <td>2.141250</td>\n",
       "      <td>NaN</td>\n",
       "    </tr>\n",
       "    <tr>\n",
       "      <th>50%</th>\n",
       "      <td>5229.500000</td>\n",
       "      <td>5.500000</td>\n",
       "      <td>38.389750</td>\n",
       "      <td>-87.346000</td>\n",
       "      <td>2008.000000</td>\n",
       "      <td>NaN</td>\n",
       "      <td>2019.0</td>\n",
       "      <td>21.384500</td>\n",
       "      <td>22.241000</td>\n",
       "      <td>19.504000</td>\n",
       "      <td>15.410278</td>\n",
       "      <td>13.433861</td>\n",
       "      <td>12.308500</td>\n",
       "      <td>NaN</td>\n",
       "    </tr>\n",
       "    <tr>\n",
       "      <th>75%</th>\n",
       "      <td>8553.750000</td>\n",
       "      <td>52.725000</td>\n",
       "      <td>42.175125</td>\n",
       "      <td>-75.475925</td>\n",
       "      <td>2015.000000</td>\n",
       "      <td>NaN</td>\n",
       "      <td>2019.0</td>\n",
       "      <td>185.326498</td>\n",
       "      <td>217.069500</td>\n",
       "      <td>200.279000</td>\n",
       "      <td>173.348004</td>\n",
       "      <td>157.889688</td>\n",
       "      <td>149.141249</td>\n",
       "      <td>NaN</td>\n",
       "    </tr>\n",
       "    <tr>\n",
       "      <th>max</th>\n",
       "      <td>11878.000000</td>\n",
       "      <td>6809.000000</td>\n",
       "      <td>425.246100</td>\n",
       "      <td>153.434100</td>\n",
       "      <td>2020.000000</td>\n",
       "      <td>NaN</td>\n",
       "      <td>2019.0</td>\n",
       "      <td>31431.080000</td>\n",
       "      <td>32320.917000</td>\n",
       "      <td>32525.595000</td>\n",
       "      <td>32377.477000</td>\n",
       "      <td>35116.000000</td>\n",
       "      <td>35136.000000</td>\n",
       "      <td>NaN</td>\n",
       "    </tr>\n",
       "  </tbody>\n",
       "</table>\n",
       "</div>"
      ],
      "text/plain": [
       "              index   capacity_mw      latitude     longitude  \\\n",
       "count  13298.000000  13292.000000  13220.000000  13220.000000   \n",
       "mean    5345.996992    117.738717     35.053213    -73.794217   \n",
       "std     3668.205098    347.169038     15.444195     62.868834   \n",
       "min        0.000000      0.000000    -42.888300   -171.712400   \n",
       "25%     1905.250000      1.500000     33.901700   -104.659875   \n",
       "50%     5229.500000      5.500000     38.389750    -87.346000   \n",
       "75%     8553.750000     52.725000     42.175125    -75.475925   \n",
       "max    11878.000000   6809.000000    425.246100    153.434100   \n",
       "\n",
       "       commissioning_year  wepp_id  year_of_capacity_data  \\\n",
       "count        10654.000000      0.0                12860.0   \n",
       "mean          1998.184904      NaN                 2019.0   \n",
       "std             24.017781      NaN                    0.0   \n",
       "min           1896.000000      NaN                 2019.0   \n",
       "25%           1988.000000      NaN                 2019.0   \n",
       "50%           2008.000000      NaN                 2019.0   \n",
       "75%           2015.000000      NaN                 2019.0   \n",
       "max           2020.000000      NaN                 2019.0   \n",
       "\n",
       "       generation_gwh_2013  generation_gwh_2014  generation_gwh_2015  \\\n",
       "count          7170.000000          7534.000000          7993.000000   \n",
       "mean            563.383222           635.739731           616.801877   \n",
       "std            2030.523760          2193.172655          2148.167470   \n",
       "min            -947.600000          -989.619000          -864.428000   \n",
       "25%               1.653075             2.018000             2.140000   \n",
       "50%              21.384500            22.241000            19.504000   \n",
       "75%             185.326498           217.069500           200.279000   \n",
       "max           31431.080000         32320.917000         32525.595000   \n",
       "\n",
       "       generation_gwh_2016  generation_gwh_2017  generation_gwh_2018  \\\n",
       "count          8701.000000          9292.000000          9858.000000   \n",
       "mean            561.784508           532.472482           513.679016   \n",
       "std            2050.411295          2001.411908          1963.485305   \n",
       "min            -768.620000          -934.944000          -982.622000   \n",
       "25%               2.108000             2.063750             2.141250   \n",
       "50%              15.410278            13.433861            12.308500   \n",
       "75%             173.348004           157.889688           149.141249   \n",
       "max           32377.477000         35116.000000         35136.000000   \n",
       "\n",
       "       estimated_generation_gwh  \n",
       "count                       0.0  \n",
       "mean                        NaN  \n",
       "std                         NaN  \n",
       "min                         NaN  \n",
       "25%                         NaN  \n",
       "50%                         NaN  \n",
       "75%                         NaN  \n",
       "max                         NaN  "
      ]
     },
     "execution_count": 10,
     "metadata": {},
     "output_type": "execute_result"
    }
   ],
   "source": [
    "df.describe()"
   ]
  },
  {
   "cell_type": "code",
   "execution_count": 11,
   "id": "5a73aa09",
   "metadata": {},
   "outputs": [
    {
     "data": {
      "text/plain": [
       "0"
      ]
     },
     "execution_count": 11,
     "metadata": {},
     "output_type": "execute_result"
    }
   ],
   "source": [
    "df.duplicated().sum()"
   ]
  },
  {
   "cell_type": "code",
   "execution_count": 12,
   "id": "2ff221c6",
   "metadata": {},
   "outputs": [
    {
     "data": {
      "text/plain": [
       "index                           0\n",
       "country                         0\n",
       "country_long                    0\n",
       "name                            0\n",
       "gppd_idnr                       0\n",
       "capacity_mw                     6\n",
       "latitude                       78\n",
       "longitude                      78\n",
       "primary_fuel                 2004\n",
       "other_fuel1                 11670\n",
       "other_fuel2                 13028\n",
       "other_fuel3                 13206\n",
       "commissioning_year           2644\n",
       "owner                         593\n",
       "source                          0\n",
       "url                             0\n",
       "geolocation_source             23\n",
       "wepp_id                     13298\n",
       "year_of_capacity_data         438\n",
       "generation_gwh_2013          6128\n",
       "generation_gwh_2014          5764\n",
       "generation_gwh_2015          5305\n",
       "generation_gwh_2016          4597\n",
       "generation_gwh_2017          4006\n",
       "generation_gwh_2018          3440\n",
       "generation_gwh_2019          3520\n",
       "generation_data_source       2463\n",
       "estimated_generation_gwh    13298\n",
       "dtype: int64"
      ]
     },
     "execution_count": 12,
     "metadata": {},
     "output_type": "execute_result"
    }
   ],
   "source": [
    "df.isna().sum()"
   ]
  },
  {
   "cell_type": "code",
   "execution_count": 13,
   "id": "619d43e3",
   "metadata": {},
   "outputs": [
    {
     "data": {
      "text/plain": [
       "<AxesSubplot:xlabel='count', ylabel='country_long'>"
      ]
     },
     "execution_count": 13,
     "metadata": {},
     "output_type": "execute_result"
    },
    {
     "data": {
      "image/png": "[encoded data removed]",
      "text/plain": [
       "<Figure size 640x480 with 1 Axes>"
      ]
     },
     "metadata": {},
     "output_type": "display_data"
    }
   ],
   "source": [
    "sns.countplot(df['country_long'])"
   ]
  },
  {
   "cell_type": "code",
   "execution_count": 14,
   "id": "83e40264",
   "metadata": {},
   "outputs": [
    {
     "data": {
      "text/plain": [
       "United States of America    11879\n",
       "India                         907\n",
       "Australia                     512\n",
       "Name: country_long, dtype: int64"
      ]
     },
     "execution_count": 14,
     "metadata": {},
     "output_type": "execute_result"
    }
   ],
   "source": [
    "df['country_long'].value_counts()"
   ]
  },
  {
   "cell_type": "code",
   "execution_count": 15,
   "id": "79cdf624",
   "metadata": {},
   "outputs": [],
   "source": [
    "top_20_plants = df.sort_values(by='capacity_mw', ascending=False).head(20)"
   ]
  },
  {
   "cell_type": "code",
   "execution_count": 16,
   "id": "dd6e87ae",
   "metadata": {},
   "outputs": [
    {
     "data": {
      "image/png": "[encoded data removed]",
      "text/plain": [
       "<Figure size 1000x600 with 1 Axes>"
      ]
     },
     "metadata": {},
     "output_type": "display_data"
    }
   ],
   "source": [
    "plt.figure(figsize=(10, 6))\n",
    "sns.histplot(y='capacity_mw', x='name', data=top_20_plants, palette='viridis',hue='country')\n",
    "plt.xlabel('Total MW')\n",
    "plt.ylabel('Plant Name')\n",
    "plt.xticks(rotation=90)\n",
    "plt.title('Top 20 Power Plants by Power Generation Capacity')\n",
    "plt.tight_layout()\n",
    "plt.show()"
   ]
  },
  {
   "cell_type": "code",
   "execution_count": 17,
   "id": "a8e75ebd",
   "metadata": {},
   "outputs": [
    {
     "data": {
      "image/png": "[encoded data removed]",
      "text/plain": [
       "<Figure size 1000x600 with 1 Axes>"
      ]
     },
     "metadata": {},
     "output_type": "display_data"
    }
   ],
   "source": [
    "country_mw = df.groupby('country')['capacity_mw'].sum().reset_index()\n",
    "\n",
    "top_10_countries = country_mw.sort_values(by='capacity_mw', ascending=False).head(10)\n",
    "\n",
    "plt.figure(figsize=(10, 6))\n",
    "sns.histplot(x='country', y='capacity_mw', data=country_mw)\n",
    "plt.xlabel('Country')\n",
    "plt.ylabel('Total MW')\n",
    "\n",
    "plt.xticks(rotation=45)\n",
    "plt.tight_layout()\n",
    "plt.show()"
   ]
  },
  {
   "cell_type": "code",
   "execution_count": 18,
   "id": "510d4a05",
   "metadata": {},
   "outputs": [],
   "source": [
    "df.drop(['index','country_long','estimated_generation_gwh','url','source','geolocation_source','wepp_id','gppd_idnr','generation_data_source','name','owner','year_of_capacity_data'],axis=1,inplace=True)"
   ]
  },
  {
   "cell_type": "code",
   "execution_count": 19,
   "id": "ffe6745b",
   "metadata": {},
   "outputs": [
    {
     "data": {
      "text/plain": [
       "<AxesSubplot:>"
      ]
     },
     "execution_count": 19,
     "metadata": {},
     "output_type": "execute_result"
    },
    {
     "data": {
      "image/png": "[encoded data removed]",
      "text/plain": [
       "<Figure size 640x480 with 2 Axes>"
      ]
     },
     "metadata": {},
     "output_type": "display_data"
    }
   ],
   "source": [
    "sns.heatmap(df.corr())"
   ]
  },
  {
   "cell_type": "code",
   "execution_count": 20,
   "id": "a84bd299",
   "metadata": {},
   "outputs": [],
   "source": [
    "df[['generation_gwh_2013', 'generation_gwh_2014', 'generation_gwh_2015', 'generation_gwh_2016', 'generation_gwh_2017', 'generation_gwh_2018', 'generation_gwh_2019']]=df[['generation_gwh_2013','generation_gwh_2014','generation_gwh_2015','generation_gwh_2016','generation_gwh_2017','generation_gwh_2018','generation_gwh_2019']].fillna(0.0)"
   ]
  },
  {
   "cell_type": "code",
   "execution_count": 21,
   "id": "aa82f88b",
   "metadata": {},
   "outputs": [
    {
     "data": {
      "text/plain": [
       "<AxesSubplot:xlabel='count', ylabel='primary_fuel'>"
      ]
     },
     "execution_count": 21,
     "metadata": {},
     "output_type": "execute_result"
    },
    {
     "data": {
      "image/png": "[encoded data removed]",
      "text/plain": [
       "<Figure size 640x480 with 1 Axes>"
      ]
     },
     "metadata": {},
     "output_type": "display_data"
    }
   ],
   "source": [
    "sns.countplot(df['primary_fuel'])"
   ]
  },
  {
   "cell_type": "code",
   "execution_count": 22,
   "id": "a9ee0685",
   "metadata": {},
   "outputs": [
    {
     "data": {
      "text/plain": [
       "<seaborn.axisgrid.FacetGrid at 0x2b1fccab040>"
      ]
     },
     "execution_count": 22,
     "metadata": {},
     "output_type": "execute_result"
    },
    {
     "data": {
      "image/png": "[encoded data removed]",
      "text/plain": [
       "<Figure size 500x500 with 1 Axes>"
      ]
     },
     "metadata": {},
     "output_type": "display_data"
    }
   ],
   "source": [
    "sns.displot(x='commissioning_year',y='capacity_mw',data=df)"
   ]
  },
  {
   "cell_type": "code",
   "execution_count": 23,
   "id": "4422a937",
   "metadata": {},
   "outputs": [
    {
     "data": {
      "image/png": "[encoded data removed]",
      "text/plain": [
       "<Figure size 1000x600 with 1 Axes>"
      ]
     },
     "metadata": {},
     "output_type": "display_data"
    }
   ],
   "source": [
    "plt.figure(figsize=(10, 6))\n",
    "sns.histplot(y='capacity_mw', x='primary_fuel', data=top_20_plants, palette='viridis',hue='country')\n",
    "plt.xlabel('Total MW')\n",
    "plt.ylabel('Fuel')\n",
    "plt.xticks(rotation=90)\n",
    "plt.title('Top 20 Power Plants by Fuel')\n",
    "plt.tight_layout()\n",
    "plt.show()"
   ]
  },
  {
   "cell_type": "code",
   "execution_count": 24,
   "id": "d18de669",
   "metadata": {},
   "outputs": [
    {
     "data": {
      "text/html": [
       "<div>\n",
       "<style scoped>\n",
       "    .dataframe tbody tr th:only-of-type {\n",
       "        vertical-align: middle;\n",
       "    }\n",
       "\n",
       "    .dataframe tbody tr th {\n",
       "        vertical-align: top;\n",
       "    }\n",
       "\n",
       "    .dataframe thead th {\n",
       "        text-align: right;\n",
       "    }\n",
       "</style>\n",
       "<table border=\"1\" class=\"dataframe\">\n",
       "  <thead>\n",
       "    <tr style=\"text-align: right;\">\n",
       "      <th></th>\n",
       "      <th>country</th>\n",
       "      <th>capacity_mw</th>\n",
       "      <th>latitude</th>\n",
       "      <th>longitude</th>\n",
       "      <th>primary_fuel</th>\n",
       "      <th>other_fuel1</th>\n",
       "      <th>other_fuel2</th>\n",
       "      <th>other_fuel3</th>\n",
       "      <th>commissioning_year</th>\n",
       "      <th>generation_gwh_2013</th>\n",
       "      <th>generation_gwh_2014</th>\n",
       "      <th>generation_gwh_2015</th>\n",
       "      <th>generation_gwh_2016</th>\n",
       "      <th>generation_gwh_2017</th>\n",
       "      <th>generation_gwh_2018</th>\n",
       "      <th>generation_gwh_2019</th>\n",
       "    </tr>\n",
       "  </thead>\n",
       "  <tbody>\n",
       "    <tr>\n",
       "      <th>12799</th>\n",
       "      <td>AUS</td>\n",
       "      <td>NaN</td>\n",
       "      <td>-38.7468</td>\n",
       "      <td>145.9493</td>\n",
       "      <td>Wind</td>\n",
       "      <td>NaN</td>\n",
       "      <td>NaN</td>\n",
       "      <td>NaN</td>\n",
       "      <td>1986.0</td>\n",
       "      <td>0.000000</td>\n",
       "      <td>0.000000</td>\n",
       "      <td>0.000000</td>\n",
       "      <td>0.000000</td>\n",
       "      <td>0.000000</td>\n",
       "      <td>0.000000</td>\n",
       "      <td>0.0</td>\n",
       "    </tr>\n",
       "    <tr>\n",
       "      <th>12839</th>\n",
       "      <td>AUS</td>\n",
       "      <td>NaN</td>\n",
       "      <td>-37.1181</td>\n",
       "      <td>142.9625</td>\n",
       "      <td>Wind</td>\n",
       "      <td>NaN</td>\n",
       "      <td>NaN</td>\n",
       "      <td>NaN</td>\n",
       "      <td>2002.0</td>\n",
       "      <td>0.000000</td>\n",
       "      <td>0.000000</td>\n",
       "      <td>0.000000</td>\n",
       "      <td>0.000000</td>\n",
       "      <td>0.000000</td>\n",
       "      <td>0.000000</td>\n",
       "      <td>0.0</td>\n",
       "    </tr>\n",
       "    <tr>\n",
       "      <th>12872</th>\n",
       "      <td>AUS</td>\n",
       "      <td>NaN</td>\n",
       "      <td>-25.2928</td>\n",
       "      <td>152.4050</td>\n",
       "      <td>Solar</td>\n",
       "      <td>NaN</td>\n",
       "      <td>NaN</td>\n",
       "      <td>NaN</td>\n",
       "      <td>2012.0</td>\n",
       "      <td>0.000000</td>\n",
       "      <td>0.000000</td>\n",
       "      <td>0.000000</td>\n",
       "      <td>0.000000</td>\n",
       "      <td>0.000000</td>\n",
       "      <td>0.000000</td>\n",
       "      <td>0.0</td>\n",
       "    </tr>\n",
       "    <tr>\n",
       "      <th>13169</th>\n",
       "      <td>AUS</td>\n",
       "      <td>NaN</td>\n",
       "      <td>-31.8068</td>\n",
       "      <td>141.2686</td>\n",
       "      <td>Wind</td>\n",
       "      <td>NaN</td>\n",
       "      <td>NaN</td>\n",
       "      <td>NaN</td>\n",
       "      <td>2003.0</td>\n",
       "      <td>0.000000</td>\n",
       "      <td>0.000000</td>\n",
       "      <td>0.000000</td>\n",
       "      <td>0.000000</td>\n",
       "      <td>0.000000</td>\n",
       "      <td>0.000000</td>\n",
       "      <td>0.0</td>\n",
       "    </tr>\n",
       "    <tr>\n",
       "      <th>13262</th>\n",
       "      <td>AUS</td>\n",
       "      <td>NaN</td>\n",
       "      <td>-29.7648</td>\n",
       "      <td>151.5535</td>\n",
       "      <td>Wind</td>\n",
       "      <td>NaN</td>\n",
       "      <td>NaN</td>\n",
       "      <td>NaN</td>\n",
       "      <td>2012.0</td>\n",
       "      <td>0.000000</td>\n",
       "      <td>0.000000</td>\n",
       "      <td>0.000000</td>\n",
       "      <td>0.000000</td>\n",
       "      <td>0.000000</td>\n",
       "      <td>0.000000</td>\n",
       "      <td>0.0</td>\n",
       "    </tr>\n",
       "    <tr>\n",
       "      <th>13263</th>\n",
       "      <td>AUS</td>\n",
       "      <td>NaN</td>\n",
       "      <td>-29.7622</td>\n",
       "      <td>151.5444</td>\n",
       "      <td>Wind</td>\n",
       "      <td>NaN</td>\n",
       "      <td>NaN</td>\n",
       "      <td>NaN</td>\n",
       "      <td>2010.0</td>\n",
       "      <td>17.232778</td>\n",
       "      <td>17.976667</td>\n",
       "      <td>16.573611</td>\n",
       "      <td>16.446667</td>\n",
       "      <td>14.991389</td>\n",
       "      <td>15.785556</td>\n",
       "      <td>0.0</td>\n",
       "    </tr>\n",
       "  </tbody>\n",
       "</table>\n",
       "</div>"
      ],
      "text/plain": [
       "      country  capacity_mw  latitude  longitude primary_fuel other_fuel1  \\\n",
       "12799     AUS          NaN  -38.7468   145.9493         Wind         NaN   \n",
       "12839     AUS          NaN  -37.1181   142.9625         Wind         NaN   \n",
       "12872     AUS          NaN  -25.2928   152.4050        Solar         NaN   \n",
       "13169     AUS          NaN  -31.8068   141.2686         Wind         NaN   \n",
       "13262     AUS          NaN  -29.7648   151.5535         Wind         NaN   \n",
       "13263     AUS          NaN  -29.7622   151.5444         Wind         NaN   \n",
       "\n",
       "      other_fuel2 other_fuel3  commissioning_year  generation_gwh_2013  \\\n",
       "12799         NaN         NaN              1986.0             0.000000   \n",
       "12839         NaN         NaN              2002.0             0.000000   \n",
       "12872         NaN         NaN              2012.0             0.000000   \n",
       "13169         NaN         NaN              2003.0             0.000000   \n",
       "13262         NaN         NaN              2012.0             0.000000   \n",
       "13263         NaN         NaN              2010.0            17.232778   \n",
       "\n",
       "       generation_gwh_2014  generation_gwh_2015  generation_gwh_2016  \\\n",
       "12799             0.000000             0.000000             0.000000   \n",
       "12839             0.000000             0.000000             0.000000   \n",
       "12872             0.000000             0.000000             0.000000   \n",
       "13169             0.000000             0.000000             0.000000   \n",
       "13262             0.000000             0.000000             0.000000   \n",
       "13263            17.976667            16.573611            16.446667   \n",
       "\n",
       "       generation_gwh_2017  generation_gwh_2018 generation_gwh_2019  \n",
       "12799             0.000000             0.000000                 0.0  \n",
       "12839             0.000000             0.000000                 0.0  \n",
       "12872             0.000000             0.000000                 0.0  \n",
       "13169             0.000000             0.000000                 0.0  \n",
       "13262             0.000000             0.000000                 0.0  \n",
       "13263            14.991389            15.785556                 0.0  "
      ]
     },
     "execution_count": 24,
     "metadata": {},
     "output_type": "execute_result"
    }
   ],
   "source": [
    "df[df['capacity_mw'].isnull()]"
   ]
  },
  {
   "cell_type": "code",
   "execution_count": 25,
   "id": "b5e820a7",
   "metadata": {},
   "outputs": [],
   "source": [
    "df['capacity_mw'].fillna(0.0,inplace=True)"
   ]
  },
  {
   "cell_type": "code",
   "execution_count": 26,
   "id": "e4835036",
   "metadata": {},
   "outputs": [
    {
     "data": {
      "text/plain": [
       "Solar           3480\n",
       "Gas             2031\n",
       "Hydro           1783\n",
       "Wind            1340\n",
       "Oil              961\n",
       "Waste            595\n",
       "Coal             572\n",
       "Biomass          230\n",
       "Storage          104\n",
       "Nuclear           72\n",
       "Geothermal        65\n",
       "Cogeneration      34\n",
       "Other             16\n",
       "Petcoke           11\n",
       "Name: primary_fuel, dtype: int64"
      ]
     },
     "execution_count": 26,
     "metadata": {},
     "output_type": "execute_result"
    }
   ],
   "source": [
    "df['primary_fuel'].value_counts()"
   ]
  },
  {
   "cell_type": "code",
   "execution_count": 27,
   "id": "532b18ee",
   "metadata": {},
   "outputs": [
    {
     "data": {
      "text/plain": [
       "'Solar'"
      ]
     },
     "execution_count": 27,
     "metadata": {},
     "output_type": "execute_result"
    }
   ],
   "source": [
    "mode_fuel = df['primary_fuel'].mode()[0]\n",
    "mode_fuel"
   ]
  },
  {
   "cell_type": "code",
   "execution_count": 28,
   "id": "44255aa5",
   "metadata": {},
   "outputs": [],
   "source": [
    "if pd.isnull(mode_fuel):\n",
    "    df['primary_fuel'].fillna('Unknown', inplace=True)\n",
    "else:\n",
    "    df['primary_fuel'].fillna(mode_fuel, inplace=True)"
   ]
  },
  {
   "cell_type": "code",
   "execution_count": 29,
   "id": "4e212abe",
   "metadata": {},
   "outputs": [],
   "source": [
    "df['primary_fuel'].replace(['Petcoke','Cogeneration','Geothermal','Storage','Biomass','Nuclear'], 'Other', inplace=True)"
   ]
  },
  {
   "cell_type": "code",
   "execution_count": 30,
   "id": "5e1502b0",
   "metadata": {},
   "outputs": [
    {
     "data": {
      "text/plain": [
       "11670"
      ]
     },
     "execution_count": 30,
     "metadata": {},
     "output_type": "execute_result"
    }
   ],
   "source": [
    "df['other_fuel1'].isna().sum()"
   ]
  },
  {
   "cell_type": "code",
   "execution_count": 31,
   "id": "3c83ef69",
   "metadata": {},
   "outputs": [],
   "source": [
    "df['other_fuel1'].fillna('Others', inplace=True)"
   ]
  },
  {
   "cell_type": "code",
   "execution_count": 32,
   "id": "34ae7196",
   "metadata": {},
   "outputs": [
    {
     "data": {
      "text/plain": [
       "country                    0\n",
       "capacity_mw                0\n",
       "latitude                  78\n",
       "longitude                 78\n",
       "primary_fuel               0\n",
       "other_fuel1                0\n",
       "other_fuel2            13028\n",
       "other_fuel3            13206\n",
       "commissioning_year      2644\n",
       "generation_gwh_2013        0\n",
       "generation_gwh_2014        0\n",
       "generation_gwh_2015        0\n",
       "generation_gwh_2016        0\n",
       "generation_gwh_2017        0\n",
       "generation_gwh_2018        0\n",
       "generation_gwh_2019        0\n",
       "dtype: int64"
      ]
     },
     "execution_count": 32,
     "metadata": {},
     "output_type": "execute_result"
    }
   ],
   "source": [
    "df.isna().sum()"
   ]
  },
  {
   "cell_type": "code",
   "execution_count": 33,
   "id": "69153be8",
   "metadata": {},
   "outputs": [],
   "source": [
    "df.drop(['latitude','longitude'],axis=1,inplace=True)"
   ]
  },
  {
   "cell_type": "code",
   "execution_count": 34,
   "id": "fcb76ce3",
   "metadata": {},
   "outputs": [],
   "source": [
    "df.drop(['other_fuel2','other_fuel3'],axis=1,inplace=True)"
   ]
  },
  {
   "cell_type": "code",
   "execution_count": 35,
   "id": "709d3f0c",
   "metadata": {},
   "outputs": [
    {
     "data": {
      "text/plain": [
       "2017.0"
      ]
     },
     "execution_count": 35,
     "metadata": {},
     "output_type": "execute_result"
    }
   ],
   "source": [
    "mode_year = df['commissioning_year'].mode()[0]\n",
    "mode_year"
   ]
  },
  {
   "cell_type": "code",
   "execution_count": 36,
   "id": "164d1198",
   "metadata": {},
   "outputs": [],
   "source": [
    "if pd.isnull(mode_year):\n",
    "    df['commissioning_year'].fillna('Unknown', inplace=True)\n",
    "else:\n",
    "    df['commissioning_year'].fillna(mode_year, inplace=True)"
   ]
  },
  {
   "cell_type": "code",
   "execution_count": 37,
   "id": "c6522e85",
   "metadata": {},
   "outputs": [
    {
     "data": {
      "text/html": [
       "<div>\n",
       "<style scoped>\n",
       "    .dataframe tbody tr th:only-of-type {\n",
       "        vertical-align: middle;\n",
       "    }\n",
       "\n",
       "    .dataframe tbody tr th {\n",
       "        vertical-align: top;\n",
       "    }\n",
       "\n",
       "    .dataframe thead th {\n",
       "        text-align: right;\n",
       "    }\n",
       "</style>\n",
       "<table border=\"1\" class=\"dataframe\">\n",
       "  <thead>\n",
       "    <tr style=\"text-align: right;\">\n",
       "      <th></th>\n",
       "      <th>country</th>\n",
       "      <th>capacity_mw</th>\n",
       "      <th>primary_fuel</th>\n",
       "      <th>other_fuel1</th>\n",
       "      <th>commissioning_year</th>\n",
       "      <th>generation_gwh_2013</th>\n",
       "      <th>generation_gwh_2014</th>\n",
       "      <th>generation_gwh_2015</th>\n",
       "      <th>generation_gwh_2016</th>\n",
       "      <th>generation_gwh_2017</th>\n",
       "      <th>generation_gwh_2018</th>\n",
       "      <th>generation_gwh_2019</th>\n",
       "    </tr>\n",
       "  </thead>\n",
       "  <tbody>\n",
       "    <tr>\n",
       "      <th>12181</th>\n",
       "      <td>IND</td>\n",
       "      <td>29.6</td>\n",
       "      <td>Wind</td>\n",
       "      <td>Others</td>\n",
       "      <td>2004.0</td>\n",
       "      <td>126.54477</td>\n",
       "      <td>183.2989</td>\n",
       "      <td>131.0216</td>\n",
       "      <td>159.0806</td>\n",
       "      <td>220.5517</td>\n",
       "      <td>0.0</td>\n",
       "      <td>Central Electricity Authority</td>\n",
       "    </tr>\n",
       "  </tbody>\n",
       "</table>\n",
       "</div>"
      ],
      "text/plain": [
       "      country  capacity_mw primary_fuel other_fuel1  commissioning_year  \\\n",
       "12181     IND         29.6         Wind      Others              2004.0   \n",
       "\n",
       "       generation_gwh_2013  generation_gwh_2014  generation_gwh_2015  \\\n",
       "12181            126.54477             183.2989             131.0216   \n",
       "\n",
       "       generation_gwh_2016  generation_gwh_2017  generation_gwh_2018  \\\n",
       "12181             159.0806             220.5517                  0.0   \n",
       "\n",
       "                 generation_gwh_2019  \n",
       "12181  Central Electricity Authority  "
      ]
     },
     "execution_count": 37,
     "metadata": {},
     "output_type": "execute_result"
    }
   ],
   "source": [
    "obj_rows = df[df['generation_gwh_2019'].apply(lambda x: isinstance(x, str))]\n",
    "obj_rows"
   ]
  },
  {
   "cell_type": "code",
   "execution_count": 38,
   "id": "7c57ecff",
   "metadata": {},
   "outputs": [],
   "source": [
    "df['generation_gwh_2019'] = df['generation_gwh_2019'].replace('Central Electricity Authority', np.nan)"
   ]
  },
  {
   "cell_type": "code",
   "execution_count": 39,
   "id": "74007e08",
   "metadata": {},
   "outputs": [],
   "source": [
    "df['generation_gwh_2019'].fillna(0, inplace=True)"
   ]
  },
  {
   "cell_type": "code",
   "execution_count": 40,
   "id": "b44dde1e",
   "metadata": {},
   "outputs": [],
   "source": [
    "from sklearn.preprocessing import LabelEncoder\n",
    "le = LabelEncoder()\n",
    "for i in df.columns:\n",
    "    df[i] = le.fit_transform(df[i])"
   ]
  },
  {
   "cell_type": "code",
   "execution_count": 41,
   "id": "b659792b",
   "metadata": {},
   "outputs": [
    {
     "data": {
      "text/html": [
       "<div>\n",
       "<style scoped>\n",
       "    .dataframe tbody tr th:only-of-type {\n",
       "        vertical-align: middle;\n",
       "    }\n",
       "\n",
       "    .dataframe tbody tr th {\n",
       "        vertical-align: top;\n",
       "    }\n",
       "\n",
       "    .dataframe thead th {\n",
       "        text-align: right;\n",
       "    }\n",
       "</style>\n",
       "<table border=\"1\" class=\"dataframe\">\n",
       "  <thead>\n",
       "    <tr style=\"text-align: right;\">\n",
       "      <th></th>\n",
       "      <th>country</th>\n",
       "      <th>capacity_mw</th>\n",
       "      <th>primary_fuel</th>\n",
       "      <th>other_fuel1</th>\n",
       "      <th>commissioning_year</th>\n",
       "      <th>generation_gwh_2013</th>\n",
       "      <th>generation_gwh_2014</th>\n",
       "      <th>generation_gwh_2015</th>\n",
       "      <th>generation_gwh_2016</th>\n",
       "      <th>generation_gwh_2017</th>\n",
       "      <th>generation_gwh_2018</th>\n",
       "      <th>generation_gwh_2019</th>\n",
       "    </tr>\n",
       "  </thead>\n",
       "  <tbody>\n",
       "    <tr>\n",
       "      <th>0</th>\n",
       "      <td>2</td>\n",
       "      <td>0</td>\n",
       "      <td>5</td>\n",
       "      <td>7</td>\n",
       "      <td>1911</td>\n",
       "      <td>121</td>\n",
       "      <td>129</td>\n",
       "      <td>142</td>\n",
       "      <td>150</td>\n",
       "      <td>161</td>\n",
       "      <td>153</td>\n",
       "      <td>196</td>\n",
       "    </tr>\n",
       "    <tr>\n",
       "      <th>1</th>\n",
       "      <td>2</td>\n",
       "      <td>41</td>\n",
       "      <td>5</td>\n",
       "      <td>7</td>\n",
       "      <td>1902</td>\n",
       "      <td>121</td>\n",
       "      <td>129</td>\n",
       "      <td>142</td>\n",
       "      <td>150</td>\n",
       "      <td>161</td>\n",
       "      <td>153</td>\n",
       "      <td>1338</td>\n",
       "    </tr>\n",
       "    <tr>\n",
       "      <th>2</th>\n",
       "      <td>2</td>\n",
       "      <td>0</td>\n",
       "      <td>5</td>\n",
       "      <td>7</td>\n",
       "      <td>1911</td>\n",
       "      <td>121</td>\n",
       "      <td>129</td>\n",
       "      <td>142</td>\n",
       "      <td>150</td>\n",
       "      <td>161</td>\n",
       "      <td>153</td>\n",
       "      <td>196</td>\n",
       "    </tr>\n",
       "    <tr>\n",
       "      <th>3</th>\n",
       "      <td>2</td>\n",
       "      <td>0</td>\n",
       "      <td>5</td>\n",
       "      <td>7</td>\n",
       "      <td>1911</td>\n",
       "      <td>121</td>\n",
       "      <td>129</td>\n",
       "      <td>142</td>\n",
       "      <td>150</td>\n",
       "      <td>161</td>\n",
       "      <td>153</td>\n",
       "      <td>196</td>\n",
       "    </tr>\n",
       "    <tr>\n",
       "      <th>4</th>\n",
       "      <td>2</td>\n",
       "      <td>0</td>\n",
       "      <td>5</td>\n",
       "      <td>7</td>\n",
       "      <td>1911</td>\n",
       "      <td>121</td>\n",
       "      <td>129</td>\n",
       "      <td>142</td>\n",
       "      <td>150</td>\n",
       "      <td>161</td>\n",
       "      <td>153</td>\n",
       "      <td>196</td>\n",
       "    </tr>\n",
       "    <tr>\n",
       "      <th>...</th>\n",
       "      <td>...</td>\n",
       "      <td>...</td>\n",
       "      <td>...</td>\n",
       "      <td>...</td>\n",
       "      <td>...</td>\n",
       "      <td>...</td>\n",
       "      <td>...</td>\n",
       "      <td>...</td>\n",
       "      <td>...</td>\n",
       "      <td>...</td>\n",
       "      <td>...</td>\n",
       "      <td>...</td>\n",
       "    </tr>\n",
       "    <tr>\n",
       "      <th>13293</th>\n",
       "      <td>0</td>\n",
       "      <td>131</td>\n",
       "      <td>2</td>\n",
       "      <td>7</td>\n",
       "      <td>1911</td>\n",
       "      <td>2746</td>\n",
       "      <td>3223</td>\n",
       "      <td>3619</td>\n",
       "      <td>3868</td>\n",
       "      <td>3830</td>\n",
       "      <td>4290</td>\n",
       "      <td>196</td>\n",
       "    </tr>\n",
       "    <tr>\n",
       "      <th>13294</th>\n",
       "      <td>0</td>\n",
       "      <td>1035</td>\n",
       "      <td>1</td>\n",
       "      <td>7</td>\n",
       "      <td>1911</td>\n",
       "      <td>121</td>\n",
       "      <td>129</td>\n",
       "      <td>142</td>\n",
       "      <td>150</td>\n",
       "      <td>161</td>\n",
       "      <td>153</td>\n",
       "      <td>196</td>\n",
       "    </tr>\n",
       "    <tr>\n",
       "      <th>13295</th>\n",
       "      <td>0</td>\n",
       "      <td>12</td>\n",
       "      <td>5</td>\n",
       "      <td>7</td>\n",
       "      <td>1911</td>\n",
       "      <td>121</td>\n",
       "      <td>129</td>\n",
       "      <td>142</td>\n",
       "      <td>1683</td>\n",
       "      <td>1864</td>\n",
       "      <td>2028</td>\n",
       "      <td>196</td>\n",
       "    </tr>\n",
       "    <tr>\n",
       "      <th>13296</th>\n",
       "      <td>0</td>\n",
       "      <td>153</td>\n",
       "      <td>1</td>\n",
       "      <td>7</td>\n",
       "      <td>1119</td>\n",
       "      <td>2291</td>\n",
       "      <td>2604</td>\n",
       "      <td>2919</td>\n",
       "      <td>3195</td>\n",
       "      <td>3370</td>\n",
       "      <td>3610</td>\n",
       "      <td>196</td>\n",
       "    </tr>\n",
       "    <tr>\n",
       "      <th>13297</th>\n",
       "      <td>0</td>\n",
       "      <td>1127</td>\n",
       "      <td>1</td>\n",
       "      <td>7</td>\n",
       "      <td>1758</td>\n",
       "      <td>121</td>\n",
       "      <td>129</td>\n",
       "      <td>5846</td>\n",
       "      <td>6325</td>\n",
       "      <td>6659</td>\n",
       "      <td>6879</td>\n",
       "      <td>196</td>\n",
       "    </tr>\n",
       "  </tbody>\n",
       "</table>\n",
       "<p>13298 rows × 12 columns</p>\n",
       "</div>"
      ],
      "text/plain": [
       "       country  capacity_mw  primary_fuel  other_fuel1  commissioning_year  \\\n",
       "0            2            0             5            7                1911   \n",
       "1            2           41             5            7                1902   \n",
       "2            2            0             5            7                1911   \n",
       "3            2            0             5            7                1911   \n",
       "4            2            0             5            7                1911   \n",
       "...        ...          ...           ...          ...                 ...   \n",
       "13293        0          131             2            7                1911   \n",
       "13294        0         1035             1            7                1911   \n",
       "13295        0           12             5            7                1911   \n",
       "13296        0          153             1            7                1119   \n",
       "13297        0         1127             1            7                1758   \n",
       "\n",
       "       generation_gwh_2013  generation_gwh_2014  generation_gwh_2015  \\\n",
       "0                      121                  129                  142   \n",
       "1                      121                  129                  142   \n",
       "2                      121                  129                  142   \n",
       "3                      121                  129                  142   \n",
       "4                      121                  129                  142   \n",
       "...                    ...                  ...                  ...   \n",
       "13293                 2746                 3223                 3619   \n",
       "13294                  121                  129                  142   \n",
       "13295                  121                  129                  142   \n",
       "13296                 2291                 2604                 2919   \n",
       "13297                  121                  129                 5846   \n",
       "\n",
       "       generation_gwh_2016  generation_gwh_2017  generation_gwh_2018  \\\n",
       "0                      150                  161                  153   \n",
       "1                      150                  161                  153   \n",
       "2                      150                  161                  153   \n",
       "3                      150                  161                  153   \n",
       "4                      150                  161                  153   \n",
       "...                    ...                  ...                  ...   \n",
       "13293                 3868                 3830                 4290   \n",
       "13294                  150                  161                  153   \n",
       "13295                 1683                 1864                 2028   \n",
       "13296                 3195                 3370                 3610   \n",
       "13297                 6325                 6659                 6879   \n",
       "\n",
       "       generation_gwh_2019  \n",
       "0                      196  \n",
       "1                     1338  \n",
       "2                      196  \n",
       "3                      196  \n",
       "4                      196  \n",
       "...                    ...  \n",
       "13293                  196  \n",
       "13294                  196  \n",
       "13295                  196  \n",
       "13296                  196  \n",
       "13297                  196  \n",
       "\n",
       "[13298 rows x 12 columns]"
      ]
     },
     "execution_count": 41,
     "metadata": {},
     "output_type": "execute_result"
    }
   ],
   "source": [
    "df"
   ]
  },
  {
   "cell_type": "code",
   "execution_count": 42,
   "id": "851a14a4",
   "metadata": {},
   "outputs": [],
   "source": [
    "x = df.drop(['capacity_mw'],axis=1)\n",
    "y = df.capacity_mw"
   ]
  },
  {
   "cell_type": "code",
   "execution_count": 43,
   "id": "27c4f4a3",
   "metadata": {},
   "outputs": [],
   "source": [
    "from sklearn.preprocessing import StandardScaler\n",
    "scaler = StandardScaler()\n",
    "x_scaled = scaler.fit_transform(x)"
   ]
  },
  {
   "cell_type": "code",
   "execution_count": 44,
   "id": "e99e943e",
   "metadata": {},
   "outputs": [],
   "source": [
    "from statsmodels.stats.outliers_influence import variance_inflation_factor"
   ]
  },
  {
   "cell_type": "code",
   "execution_count": 45,
   "id": "a0884744",
   "metadata": {},
   "outputs": [
    {
     "data": {
      "text/html": [
       "<div>\n",
       "<style scoped>\n",
       "    .dataframe tbody tr th:only-of-type {\n",
       "        vertical-align: middle;\n",
       "    }\n",
       "\n",
       "    .dataframe tbody tr th {\n",
       "        vertical-align: top;\n",
       "    }\n",
       "\n",
       "    .dataframe thead th {\n",
       "        text-align: right;\n",
       "    }\n",
       "</style>\n",
       "<table border=\"1\" class=\"dataframe\">\n",
       "  <thead>\n",
       "    <tr style=\"text-align: right;\">\n",
       "      <th></th>\n",
       "      <th>vif</th>\n",
       "      <th>fea</th>\n",
       "    </tr>\n",
       "  </thead>\n",
       "  <tbody>\n",
       "    <tr>\n",
       "      <th>0</th>\n",
       "      <td>1.415851</td>\n",
       "      <td>country</td>\n",
       "    </tr>\n",
       "    <tr>\n",
       "      <th>1</th>\n",
       "      <td>1.498467</td>\n",
       "      <td>primary_fuel</td>\n",
       "    </tr>\n",
       "    <tr>\n",
       "      <th>2</th>\n",
       "      <td>1.075897</td>\n",
       "      <td>other_fuel1</td>\n",
       "    </tr>\n",
       "    <tr>\n",
       "      <th>3</th>\n",
       "      <td>1.588696</td>\n",
       "      <td>commissioning_year</td>\n",
       "    </tr>\n",
       "    <tr>\n",
       "      <th>4</th>\n",
       "      <td>4.014271</td>\n",
       "      <td>generation_gwh_2013</td>\n",
       "    </tr>\n",
       "    <tr>\n",
       "      <th>5</th>\n",
       "      <td>9.340473</td>\n",
       "      <td>generation_gwh_2014</td>\n",
       "    </tr>\n",
       "    <tr>\n",
       "      <th>6</th>\n",
       "      <td>11.920538</td>\n",
       "      <td>generation_gwh_2015</td>\n",
       "    </tr>\n",
       "    <tr>\n",
       "      <th>7</th>\n",
       "      <td>12.123628</td>\n",
       "      <td>generation_gwh_2016</td>\n",
       "    </tr>\n",
       "    <tr>\n",
       "      <th>8</th>\n",
       "      <td>12.587553</td>\n",
       "      <td>generation_gwh_2017</td>\n",
       "    </tr>\n",
       "    <tr>\n",
       "      <th>9</th>\n",
       "      <td>9.409073</td>\n",
       "      <td>generation_gwh_2018</td>\n",
       "    </tr>\n",
       "    <tr>\n",
       "      <th>10</th>\n",
       "      <td>3.263403</td>\n",
       "      <td>generation_gwh_2019</td>\n",
       "    </tr>\n",
       "  </tbody>\n",
       "</table>\n",
       "</div>"
      ],
      "text/plain": [
       "          vif                  fea\n",
       "0    1.415851              country\n",
       "1    1.498467         primary_fuel\n",
       "2    1.075897          other_fuel1\n",
       "3    1.588696   commissioning_year\n",
       "4    4.014271  generation_gwh_2013\n",
       "5    9.340473  generation_gwh_2014\n",
       "6   11.920538  generation_gwh_2015\n",
       "7   12.123628  generation_gwh_2016\n",
       "8   12.587553  generation_gwh_2017\n",
       "9    9.409073  generation_gwh_2018\n",
       "10   3.263403  generation_gwh_2019"
      ]
     },
     "execution_count": 45,
     "metadata": {},
     "output_type": "execute_result"
    }
   ],
   "source": [
    "vif = pd.DataFrame()\n",
    "vif['vif'] = [variance_inflation_factor(x_scaled,i) for i in range(x_scaled.shape[1])]\n",
    "vif['fea'] = x.columns\n",
    "\n",
    "vif"
   ]
  },
  {
   "cell_type": "code",
   "execution_count": 46,
   "id": "bdef50f4",
   "metadata": {},
   "outputs": [],
   "source": [
    "x2=x.drop(['generation_gwh_2017','generation_gwh_2015'], axis=1)"
   ]
  },
  {
   "cell_type": "code",
   "execution_count": 47,
   "id": "758a446d",
   "metadata": {},
   "outputs": [
    {
     "data": {
      "text/html": [
       "<div>\n",
       "<style scoped>\n",
       "    .dataframe tbody tr th:only-of-type {\n",
       "        vertical-align: middle;\n",
       "    }\n",
       "\n",
       "    .dataframe tbody tr th {\n",
       "        vertical-align: top;\n",
       "    }\n",
       "\n",
       "    .dataframe thead th {\n",
       "        text-align: right;\n",
       "    }\n",
       "</style>\n",
       "<table border=\"1\" class=\"dataframe\">\n",
       "  <thead>\n",
       "    <tr style=\"text-align: right;\">\n",
       "      <th></th>\n",
       "      <th>vif</th>\n",
       "      <th>fea</th>\n",
       "    </tr>\n",
       "  </thead>\n",
       "  <tbody>\n",
       "    <tr>\n",
       "      <th>0</th>\n",
       "      <td>1.415587</td>\n",
       "      <td>country</td>\n",
       "    </tr>\n",
       "    <tr>\n",
       "      <th>1</th>\n",
       "      <td>1.496415</td>\n",
       "      <td>primary_fuel</td>\n",
       "    </tr>\n",
       "    <tr>\n",
       "      <th>2</th>\n",
       "      <td>1.074351</td>\n",
       "      <td>other_fuel1</td>\n",
       "    </tr>\n",
       "    <tr>\n",
       "      <th>3</th>\n",
       "      <td>1.588295</td>\n",
       "      <td>commissioning_year</td>\n",
       "    </tr>\n",
       "    <tr>\n",
       "      <th>4</th>\n",
       "      <td>3.997166</td>\n",
       "      <td>generation_gwh_2013</td>\n",
       "    </tr>\n",
       "    <tr>\n",
       "      <th>5</th>\n",
       "      <td>6.531410</td>\n",
       "      <td>generation_gwh_2014</td>\n",
       "    </tr>\n",
       "    <tr>\n",
       "      <th>6</th>\n",
       "      <td>7.021764</td>\n",
       "      <td>generation_gwh_2016</td>\n",
       "    </tr>\n",
       "    <tr>\n",
       "      <th>7</th>\n",
       "      <td>5.951035</td>\n",
       "      <td>generation_gwh_2018</td>\n",
       "    </tr>\n",
       "    <tr>\n",
       "      <th>8</th>\n",
       "      <td>3.262270</td>\n",
       "      <td>generation_gwh_2019</td>\n",
       "    </tr>\n",
       "  </tbody>\n",
       "</table>\n",
       "</div>"
      ],
      "text/plain": [
       "        vif                  fea\n",
       "0  1.415587              country\n",
       "1  1.496415         primary_fuel\n",
       "2  1.074351          other_fuel1\n",
       "3  1.588295   commissioning_year\n",
       "4  3.997166  generation_gwh_2013\n",
       "5  6.531410  generation_gwh_2014\n",
       "6  7.021764  generation_gwh_2016\n",
       "7  5.951035  generation_gwh_2018\n",
       "8  3.262270  generation_gwh_2019"
      ]
     },
     "execution_count": 47,
     "metadata": {},
     "output_type": "execute_result"
    }
   ],
   "source": [
    "scaler = StandardScaler()\n",
    "x_scaled = scaler.fit_transform(x2)\n",
    "vif = pd.DataFrame()\n",
    "vif['vif'] = [variance_inflation_factor(x_scaled,i) for i in range(x_scaled.shape[1])]\n",
    "vif['fea'] = x2.columns\n",
    "\n",
    "vif"
   ]
  },
  {
   "cell_type": "code",
   "execution_count": 48,
   "id": "15cb0ca6",
   "metadata": {},
   "outputs": [],
   "source": [
    "from sklearn.model_selection import train_test_split\n",
    "x_train, x_test, y_train, y_test = train_test_split(x, y, test_size=0.25, random_state=42)"
   ]
  },
  {
   "cell_type": "code",
   "execution_count": 49,
   "id": "5cc98d22",
   "metadata": {},
   "outputs": [],
   "source": [
    "from sklearn.linear_model import LinearRegression\n",
    "from sklearn.tree import DecisionTreeRegressor\n",
    "from sklearn.metrics import accuracy_score\n",
    "from sklearn.ensemble import RandomForestRegressor\n",
    "from sklearn.neighbors import KNeighborsRegressor as KNN\n",
    "from sklearn.ensemble import GradientBoostingRegressor\n",
    "from sklearn.metrics import mean_absolute_error,mean_squared_error,r2_score"
   ]
  },
  {
   "cell_type": "code",
   "execution_count": 50,
   "id": "26d5e437",
   "metadata": {},
   "outputs": [
    {
     "name": "stdout",
     "output_type": "stream",
     "text": [
      "R_test: 0.5996825840342414\n",
      "R_train: 0.5917813314951463\n",
      "MAE: 250.3883906915599\n",
      "MSE: 129645.83504364651\n",
      "RMSE: 360.06365415527085\n"
     ]
    }
   ],
   "source": [
    "lr = LinearRegression()\n",
    "lr.fit(x_train,y_train)\n",
    "y_pred = lr.predict(x_test)\n",
    "y_pred_train = lr.predict(x_train)\n",
    "\n",
    "print('R_test:',r2_score(y_test, y_pred))\n",
    "print('R_train:',r2_score(y_train, y_pred_train))\n",
    "print('MAE:',mean_absolute_error(y_test, y_pred))\n",
    "print('MSE:', mean_squared_error(y_test, y_pred))\n",
    "print('RMSE:',np.sqrt(mean_squared_error(y_test, y_pred)))"
   ]
  },
  {
   "cell_type": "code",
   "execution_count": 51,
   "id": "cb7eb771",
   "metadata": {},
   "outputs": [
    {
     "name": "stdout",
     "output_type": "stream",
     "text": [
      "R_test: 0.788797289906302\n",
      "R_train: 0.9929690633057151\n",
      "MAE: 118.03735853871876\n",
      "MSE: 68399.60147005135\n",
      "RMSE: 261.5331747026586\n"
     ]
    }
   ],
   "source": [
    "dt = DecisionTreeRegressor()\n",
    "dt.fit(x_train,y_train)\n",
    "y_pred = dt.predict(x_test)\n",
    "y_pred_train = dt.predict(x_train)\n",
    "\n",
    "print('R_test:',r2_score(y_test, y_pred))\n",
    "print('R_train:',r2_score(y_train, y_pred_train))\n",
    "print('MAE:',mean_absolute_error(y_test, y_pred))\n",
    "print('MSE:', mean_squared_error(y_test, y_pred))\n",
    "print('RMSE:',np.sqrt(mean_squared_error(y_test, y_pred)))"
   ]
  },
  {
   "cell_type": "code",
   "execution_count": 52,
   "id": "05f0ba72",
   "metadata": {},
   "outputs": [
    {
     "name": "stdout",
     "output_type": "stream",
     "text": [
      "R_test: 0.8784920871779444\n",
      "R_train: 0.9776253283596229\n",
      "MAE: 92.64261604056847\n",
      "MSE: 39351.260259867\n",
      "RMSE: 198.37152078831022\n"
     ]
    }
   ],
   "source": [
    "rf = RandomForestRegressor()\n",
    "rf.fit(x_train,y_train)\n",
    "y_pred = rf.predict(x_test)\n",
    "y_pred_train = rf.predict(x_train)\n",
    "\n",
    "print('R_test:',r2_score(y_test, y_pred))\n",
    "print('R_train:',r2_score(y_train, y_pred_train))\n",
    "print('MAE:',mean_absolute_error(y_test, y_pred))\n",
    "print('MSE:', mean_squared_error(y_test, y_pred))\n",
    "print('RMSE:',np.sqrt(mean_squared_error(y_test, y_pred)))"
   ]
  },
  {
   "cell_type": "code",
   "execution_count": 53,
   "id": "aad1eace",
   "metadata": {},
   "outputs": [
    {
     "name": "stdout",
     "output_type": "stream",
     "text": [
      "R_test: 0.7900296711015665\n",
      "R_train: 0.8660156605984328\n",
      "MAE: 125.5082105263158\n",
      "MSE: 68000.48546165413\n",
      "RMSE: 260.76902703667497\n"
     ]
    }
   ],
   "source": [
    "knn = KNN()\n",
    "knn.fit(x_train,y_train)\n",
    "y_pred = knn.predict(x_test)\n",
    "y_pred_train = knn.predict(x_train)\n",
    "\n",
    "print('R_test:',r2_score(y_test, y_pred))\n",
    "print('R_train:',r2_score(y_train, y_pred_train))\n",
    "print('MAE:',mean_absolute_error(y_test, y_pred))\n",
    "print('MSE:', mean_squared_error(y_test, y_pred))\n",
    "print('RMSE:',np.sqrt(mean_squared_error(y_test, y_pred)))"
   ]
  },
  {
   "cell_type": "code",
   "execution_count": 54,
   "id": "790ba508",
   "metadata": {},
   "outputs": [
    {
     "name": "stdout",
     "output_type": "stream",
     "text": [
      "R_test: 0.8485359663778363\n",
      "R_train: 0.87626976345048\n",
      "MAE: 118.0642647986928\n",
      "MSE: 49052.77745823577\n",
      "RMSE: 221.47861625501403\n"
     ]
    }
   ],
   "source": [
    "gb = GradientBoostingRegressor()\n",
    "gb.fit(x_train,y_train)\n",
    "y_pred = gb.predict(x_test)\n",
    "y_pred_train = gb.predict(x_train)\n",
    "\n",
    "print('R_test:',r2_score(y_test, y_pred))\n",
    "print('R_train:',r2_score(y_train, y_pred_train))\n",
    "print('MAE:',mean_absolute_error(y_test, y_pred))\n",
    "print('MSE:', mean_squared_error(y_test, y_pred))\n",
    "print('RMSE:',np.sqrt(mean_squared_error(y_test, y_pred)))"
   ]
  },
  {
   "cell_type": "code",
   "execution_count": 55,
   "id": "740320c0",
   "metadata": {},
   "outputs": [],
   "source": [
    "from sklearn.model_selection import cross_val_score"
   ]
  },
  {
   "cell_type": "code",
   "execution_count": 56,
   "id": "ddab7beb",
   "metadata": {},
   "outputs": [
    {
     "name": "stdout",
     "output_type": "stream",
     "text": [
      "[ 0.56008754  0.60361781  0.61777965  0.60611596  0.63301171  0.57658079\n",
      "  0.58344092  0.55691727  0.56552759 -0.14078961]\n",
      "--------------------------------------------------\n",
      "Linear Regression: 0.5162289628571133\n"
     ]
    }
   ],
   "source": [
    "lr_score = cross_val_score(lr,x,y,cv=10)\n",
    "print(lr_score)\n",
    "print('-'*50)\n",
    "print('Linear Regression:',lr_score.mean())"
   ]
  },
  {
   "cell_type": "code",
   "execution_count": 57,
   "id": "9e01526f",
   "metadata": {},
   "outputs": [
    {
     "name": "stdout",
     "output_type": "stream",
     "text": [
      "[0.81651333 0.81821633 0.84125608 0.82012653 0.84922077 0.82915484\n",
      " 0.79958468 0.82695894 0.81851159 0.5485668 ]\n",
      "--------------------------------------------------\n",
      "Decision Tree 0.796810988979721\n"
     ]
    }
   ],
   "source": [
    "score_dt = cross_val_score(dt,x,y,cv=10)\n",
    "print(score_dt)\n",
    "print('-'*50)\n",
    "print('Decision Tree',score_dt.mean())"
   ]
  },
  {
   "cell_type": "code",
   "execution_count": 58,
   "id": "757fd58a",
   "metadata": {},
   "outputs": [
    {
     "name": "stdout",
     "output_type": "stream",
     "text": [
      "[0.89656902 0.89061041 0.9045802  0.89951002 0.91074855 0.89104668\n",
      " 0.90621657 0.91285202 0.89324934 0.69285779]\n",
      "--------------------------------------------------\n",
      "Random Forest 0.879824058536619\n"
     ]
    }
   ],
   "source": [
    "score_rf = cross_val_score(rf,x,y,cv=10)\n",
    "print(score_rf)\n",
    "print('-'*50)\n",
    "print('Random Forest',score_rf.mean())"
   ]
  },
  {
   "cell_type": "code",
   "execution_count": 59,
   "id": "9e0b8737",
   "metadata": {},
   "outputs": [
    {
     "name": "stdout",
     "output_type": "stream",
     "text": [
      "[0.8761835  0.86640806 0.87200244 0.86985779 0.8770667  0.8592937\n",
      " 0.87621141 0.88958434 0.8638604  0.64732698]\n",
      "--------------------------------------------------\n",
      "Grad Boost 0.8497795317292679\n"
     ]
    }
   ],
   "source": [
    "score_gb = cross_val_score(gb,x,y,cv=10)\n",
    "print(score_gb)\n",
    "print('-'*50)\n",
    "print('Grad Boost',score_gb.mean())"
   ]
  },
  {
   "cell_type": "code",
   "execution_count": 60,
   "id": "fd190996",
   "metadata": {},
   "outputs": [
    {
     "name": "stdout",
     "output_type": "stream",
     "text": [
      "[0.80922525 0.8222106  0.80423918 0.80254613 0.82564908 0.81585296\n",
      " 0.81553814 0.83920298 0.82383065 0.33156649]\n",
      "--------------------------------------------------\n",
      "KNN: 0.7689861460366773\n"
     ]
    }
   ],
   "source": [
    "score_knn = cross_val_score(knn,x,y,cv=10)\n",
    "print(score_knn)\n",
    "print('-'*50)\n",
    "print('KNN:',score_knn.mean())"
   ]
  },
  {
   "cell_type": "code",
   "execution_count": 61,
   "id": "f43e3163",
   "metadata": {},
   "outputs": [],
   "source": [
    "#random_forest gives better score"
   ]
  },
  {
   "cell_type": "code",
   "execution_count": 62,
   "id": "124b6e0d",
   "metadata": {},
   "outputs": [],
   "source": [
    "from sklearn.model_selection import GridSearchCV\n",
    "\n",
    "params = {\n",
    "    'n_estimators': [13, 15],\n",
    "    'criterion': ['mse', 'mae'],\n",
    "    'max_depth': [10, 15],\n",
    "    'min_samples_split': [10, 11],\n",
    "    'min_samples_leaf': [5, 6]\n",
    "}"
   ]
  },
  {
   "cell_type": "code",
   "execution_count": 63,
   "id": "e8ca1e51",
   "metadata": {},
   "outputs": [],
   "source": [
    "rf = RandomForestRegressor()\n",
    "grid_search = GridSearchCV(estimator=rf, param_grid=params, cv=5)"
   ]
  },
  {
   "cell_type": "code",
   "execution_count": 64,
   "id": "6508fe9f",
   "metadata": {},
   "outputs": [
    {
     "data": {
      "text/plain": [
       "GridSearchCV(cv=5, estimator=RandomForestRegressor(),\n",
       "             param_grid={'criterion': ['mse', 'mae'], 'max_depth': [10, 15],\n",
       "                         'min_samples_leaf': [5, 6],\n",
       "                         'min_samples_split': [10, 11],\n",
       "                         'n_estimators': [13, 15]})"
      ]
     },
     "execution_count": 64,
     "metadata": {},
     "output_type": "execute_result"
    }
   ],
   "source": [
    "grid_search.fit(x_train, y_train)"
   ]
  },
  {
   "cell_type": "code",
   "execution_count": 65,
   "id": "01918c35",
   "metadata": {},
   "outputs": [
    {
     "name": "stdout",
     "output_type": "stream",
     "text": [
      "Best parameters found:  {'criterion': 'mse', 'max_depth': 15, 'min_samples_leaf': 5, 'min_samples_split': 10, 'n_estimators': 13}\n"
     ]
    }
   ],
   "source": [
    "best_params = grid_search.best_params_\n",
    "print(\"Best parameters found: \", best_params)"
   ]
  },
  {
   "cell_type": "code",
   "execution_count": 67,
   "id": "fb843867",
   "metadata": {},
   "outputs": [
    {
     "data": {
      "text/plain": [
       "RandomForestRegressor(criterion='mse', max_depth=15, min_samples_leaf=5,\n",
       "                      min_samples_split=10, n_estimators=13)"
      ]
     },
     "execution_count": 67,
     "metadata": {},
     "output_type": "execute_result"
    }
   ],
   "source": [
    "best_ext = grid_search.best_estimator_\n",
    "best_ext.fit(x_train,y_train)"
   ]
  },
  {
   "cell_type": "code",
   "execution_count": 68,
   "id": "63fafb08",
   "metadata": {},
   "outputs": [
    {
     "data": {
      "text/plain": [
       "0.872486894907231"
      ]
     },
     "execution_count": 68,
     "metadata": {},
     "output_type": "execute_result"
    }
   ],
   "source": [
    "best_ext.score(x_test,y_test)"
   ]
  },
  {
   "cell_type": "code",
   "execution_count": 93,
   "id": "5d753c62",
   "metadata": {},
   "outputs": [],
   "source": [
    "import pickle\n",
    "import joblib\n",
    "\n",
    "model_reg = rf\n",
    "\n",
    "file = 'Global Power plant.pkl'\n",
    "pickle.dump(model_reg, open(file,'wb'))\n",
    "\n",
    "loaded_model = pickle.load(open('Global Power Plant.pkl','rb'))"
   ]
  },
  {
   "cell_type": "code",
   "execution_count": 69,
   "id": "117e9648",
   "metadata": {},
   "outputs": [],
   "source": [
    "x = df.drop(['primary_fuel'],axis=1)\n",
    "y = df.primary_fuel"
   ]
  },
  {
   "cell_type": "code",
   "execution_count": 70,
   "id": "08bfcee3",
   "metadata": {},
   "outputs": [],
   "source": [
    "from sklearn.preprocessing import StandardScaler\n",
    "scaler = StandardScaler()\n",
    "x_scaled = scaler.fit_transform(x)"
   ]
  },
  {
   "cell_type": "code",
   "execution_count": 71,
   "id": "51bfbbee",
   "metadata": {},
   "outputs": [],
   "source": [
    "from statsmodels.stats.outliers_influence import variance_inflation_factor"
   ]
  },
  {
   "cell_type": "code",
   "execution_count": 72,
   "id": "464069c8",
   "metadata": {},
   "outputs": [
    {
     "data": {
      "text/html": [
       "<div>\n",
       "<style scoped>\n",
       "    .dataframe tbody tr th:only-of-type {\n",
       "        vertical-align: middle;\n",
       "    }\n",
       "\n",
       "    .dataframe tbody tr th {\n",
       "        vertical-align: top;\n",
       "    }\n",
       "\n",
       "    .dataframe thead th {\n",
       "        text-align: right;\n",
       "    }\n",
       "</style>\n",
       "<table border=\"1\" class=\"dataframe\">\n",
       "  <thead>\n",
       "    <tr style=\"text-align: right;\">\n",
       "      <th></th>\n",
       "      <th>vif</th>\n",
       "      <th>fea</th>\n",
       "    </tr>\n",
       "  </thead>\n",
       "  <tbody>\n",
       "    <tr>\n",
       "      <th>0</th>\n",
       "      <td>1.505986</td>\n",
       "      <td>country</td>\n",
       "    </tr>\n",
       "    <tr>\n",
       "      <th>1</th>\n",
       "      <td>2.124808</td>\n",
       "      <td>capacity_mw</td>\n",
       "    </tr>\n",
       "    <tr>\n",
       "      <th>2</th>\n",
       "      <td>1.095643</td>\n",
       "      <td>other_fuel1</td>\n",
       "    </tr>\n",
       "    <tr>\n",
       "      <th>3</th>\n",
       "      <td>1.239833</td>\n",
       "      <td>commissioning_year</td>\n",
       "    </tr>\n",
       "    <tr>\n",
       "      <th>4</th>\n",
       "      <td>4.019063</td>\n",
       "      <td>generation_gwh_2013</td>\n",
       "    </tr>\n",
       "    <tr>\n",
       "      <th>5</th>\n",
       "      <td>9.369152</td>\n",
       "      <td>generation_gwh_2014</td>\n",
       "    </tr>\n",
       "    <tr>\n",
       "      <th>6</th>\n",
       "      <td>11.984021</td>\n",
       "      <td>generation_gwh_2015</td>\n",
       "    </tr>\n",
       "    <tr>\n",
       "      <th>7</th>\n",
       "      <td>12.126140</td>\n",
       "      <td>generation_gwh_2016</td>\n",
       "    </tr>\n",
       "    <tr>\n",
       "      <th>8</th>\n",
       "      <td>12.584700</td>\n",
       "      <td>generation_gwh_2017</td>\n",
       "    </tr>\n",
       "    <tr>\n",
       "      <th>9</th>\n",
       "      <td>9.469396</td>\n",
       "      <td>generation_gwh_2018</td>\n",
       "    </tr>\n",
       "    <tr>\n",
       "      <th>10</th>\n",
       "      <td>3.518678</td>\n",
       "      <td>generation_gwh_2019</td>\n",
       "    </tr>\n",
       "  </tbody>\n",
       "</table>\n",
       "</div>"
      ],
      "text/plain": [
       "          vif                  fea\n",
       "0    1.505986              country\n",
       "1    2.124808          capacity_mw\n",
       "2    1.095643          other_fuel1\n",
       "3    1.239833   commissioning_year\n",
       "4    4.019063  generation_gwh_2013\n",
       "5    9.369152  generation_gwh_2014\n",
       "6   11.984021  generation_gwh_2015\n",
       "7   12.126140  generation_gwh_2016\n",
       "8   12.584700  generation_gwh_2017\n",
       "9    9.469396  generation_gwh_2018\n",
       "10   3.518678  generation_gwh_2019"
      ]
     },
     "execution_count": 72,
     "metadata": {},
     "output_type": "execute_result"
    }
   ],
   "source": [
    "vif = pd.DataFrame()\n",
    "vif['vif'] = [variance_inflation_factor(x_scaled,i) for i in range(x_scaled.shape[1])]\n",
    "vif['fea'] = x.columns\n",
    "\n",
    "vif"
   ]
  },
  {
   "cell_type": "code",
   "execution_count": 73,
   "id": "f354c17a",
   "metadata": {},
   "outputs": [],
   "source": [
    "x2=x.drop(['generation_gwh_2017','generation_gwh_2016'], axis=1)"
   ]
  },
  {
   "cell_type": "code",
   "execution_count": 74,
   "id": "8b0ad8db",
   "metadata": {},
   "outputs": [
    {
     "data": {
      "text/html": [
       "<div>\n",
       "<style scoped>\n",
       "    .dataframe tbody tr th:only-of-type {\n",
       "        vertical-align: middle;\n",
       "    }\n",
       "\n",
       "    .dataframe tbody tr th {\n",
       "        vertical-align: top;\n",
       "    }\n",
       "\n",
       "    .dataframe thead th {\n",
       "        text-align: right;\n",
       "    }\n",
       "</style>\n",
       "<table border=\"1\" class=\"dataframe\">\n",
       "  <thead>\n",
       "    <tr style=\"text-align: right;\">\n",
       "      <th></th>\n",
       "      <th>vif</th>\n",
       "      <th>fea</th>\n",
       "    </tr>\n",
       "  </thead>\n",
       "  <tbody>\n",
       "    <tr>\n",
       "      <th>0</th>\n",
       "      <td>1.505120</td>\n",
       "      <td>country</td>\n",
       "    </tr>\n",
       "    <tr>\n",
       "      <th>1</th>\n",
       "      <td>2.123747</td>\n",
       "      <td>capacity_mw</td>\n",
       "    </tr>\n",
       "    <tr>\n",
       "      <th>2</th>\n",
       "      <td>1.095325</td>\n",
       "      <td>other_fuel1</td>\n",
       "    </tr>\n",
       "    <tr>\n",
       "      <th>3</th>\n",
       "      <td>1.239340</td>\n",
       "      <td>commissioning_year</td>\n",
       "    </tr>\n",
       "    <tr>\n",
       "      <th>4</th>\n",
       "      <td>4.018648</td>\n",
       "      <td>generation_gwh_2013</td>\n",
       "    </tr>\n",
       "    <tr>\n",
       "      <th>5</th>\n",
       "      <td>9.344473</td>\n",
       "      <td>generation_gwh_2014</td>\n",
       "    </tr>\n",
       "    <tr>\n",
       "      <th>6</th>\n",
       "      <td>8.906945</td>\n",
       "      <td>generation_gwh_2015</td>\n",
       "    </tr>\n",
       "    <tr>\n",
       "      <th>7</th>\n",
       "      <td>4.673945</td>\n",
       "      <td>generation_gwh_2018</td>\n",
       "    </tr>\n",
       "    <tr>\n",
       "      <th>8</th>\n",
       "      <td>3.516567</td>\n",
       "      <td>generation_gwh_2019</td>\n",
       "    </tr>\n",
       "  </tbody>\n",
       "</table>\n",
       "</div>"
      ],
      "text/plain": [
       "        vif                  fea\n",
       "0  1.505120              country\n",
       "1  2.123747          capacity_mw\n",
       "2  1.095325          other_fuel1\n",
       "3  1.239340   commissioning_year\n",
       "4  4.018648  generation_gwh_2013\n",
       "5  9.344473  generation_gwh_2014\n",
       "6  8.906945  generation_gwh_2015\n",
       "7  4.673945  generation_gwh_2018\n",
       "8  3.516567  generation_gwh_2019"
      ]
     },
     "execution_count": 74,
     "metadata": {},
     "output_type": "execute_result"
    }
   ],
   "source": [
    "scaler = StandardScaler()\n",
    "x_scaled = scaler.fit_transform(x2)\n",
    "vif = pd.DataFrame()\n",
    "vif['vif'] = [variance_inflation_factor(x_scaled,i) for i in range(x_scaled.shape[1])]\n",
    "vif['fea'] = x2.columns\n",
    "\n",
    "vif"
   ]
  },
  {
   "cell_type": "code",
   "execution_count": 75,
   "id": "c84beb89",
   "metadata": {},
   "outputs": [],
   "source": [
    "from sklearn.model_selection import train_test_split\n",
    "x_train, x_test, y_train, y_test = train_test_split(x, y, test_size=0.25, random_state=42)"
   ]
  },
  {
   "cell_type": "code",
   "execution_count": 76,
   "id": "11c40bd0",
   "metadata": {},
   "outputs": [],
   "source": [
    "from sklearn.linear_model import LogisticRegression\n",
    "from sklearn.neighbors import KNeighborsClassifier\n",
    "from sklearn.tree import DecisionTreeClassifier\n",
    "from sklearn.ensemble import GradientBoostingClassifier\n",
    "from sklearn.ensemble import RandomForestClassifier\n",
    "from sklearn.svm import SVC\n",
    "\n",
    "lr = LogisticRegression() \n",
    "dt = DecisionTreeClassifier()\n",
    "kn = KNeighborsClassifier()\n",
    "rc = RandomForestClassifier()\n",
    "gb = GradientBoostingClassifier()\n",
    "svm = SVC()\n",
    "\n",
    "from sklearn.metrics import accuracy_score\n",
    "from sklearn.metrics import classification_report\n",
    "from sklearn.metrics import confusion_matrix"
   ]
  },
  {
   "cell_type": "code",
   "execution_count": 77,
   "id": "8464de4e",
   "metadata": {},
   "outputs": [
    {
     "name": "stdout",
     "output_type": "stream",
     "text": [
      "Score: 0.604812030075188\n",
      "--------------------------------------------------\n",
      "[[  45   60   17    8    1    8    0    4]\n",
      " [  16  265   66   17    0  118   13   28]\n",
      " [  39   24  266    2    0   86   19    8]\n",
      " [   3   41    5   12    0  183    1    3]\n",
      " [   0   20   25    2    0   77    2   10]\n",
      " [   1   18    8    9    3 1290    9   24]\n",
      " [   0   11   32    0    0   68   11   13]\n",
      " [   0   84   18    8    0  101    1  122]]\n",
      "--------------------------------------------------\n",
      "Report:               precision    recall  f1-score   support\n",
      "\n",
      "           0       0.43      0.31      0.36       143\n",
      "           1       0.51      0.51      0.51       523\n",
      "           2       0.61      0.60      0.60       444\n",
      "           3       0.21      0.05      0.08       248\n",
      "           4       0.00      0.00      0.00       136\n",
      "           5       0.67      0.95      0.78      1362\n",
      "           6       0.20      0.08      0.12       135\n",
      "           7       0.58      0.37      0.45       334\n",
      "\n",
      "    accuracy                           0.60      3325\n",
      "   macro avg       0.40      0.36      0.36      3325\n",
      "weighted avg       0.53      0.60      0.55      3325\n",
      "\n",
      "--------------------------------------------------\n",
      "Score_train: 0.6131555199037401\n"
     ]
    }
   ],
   "source": [
    "lr = LogisticRegression()\n",
    "lr.fit(x_train,y_train)\n",
    "y_pred = lr.predict(x_test)\n",
    "y_pred_train = lr.predict(x_train)\n",
    "\n",
    "print('Score:',accuracy_score(y_test, y_pred))\n",
    "print('-'*50)\n",
    "print(confusion_matrix(y_test, y_pred))\n",
    "print('-'*50)\n",
    "print('Report:',classification_report(y_test, y_pred))\n",
    "print('-'*50)\n",
    "print('Score_train:', accuracy_score(y_train, y_pred_train))"
   ]
  },
  {
   "cell_type": "code",
   "execution_count": 78,
   "id": "83cbe478",
   "metadata": {},
   "outputs": [
    {
     "name": "stdout",
     "output_type": "stream",
     "text": [
      "Score: 0.7690225563909775\n",
      "--------------------------------------------------\n",
      "[[  87   16   11    5   10    5    4    5]\n",
      " [  28  328   35   37   23   10   28   34]\n",
      " [   8   32  345    8   12   13    9   17]\n",
      " [   5   34    7  170    8    6   10    8]\n",
      " [  12   23    9    8   60   11    7    6]\n",
      " [   7   13    6    8    6 1272   13   37]\n",
      " [   1   38    7    5   13    4   61    6]\n",
      " [   2   19   10    2   11   50    6  234]]\n",
      "--------------------------------------------------\n",
      "Report:               precision    recall  f1-score   support\n",
      "\n",
      "           0       0.58      0.61      0.59       143\n",
      "           1       0.65      0.63      0.64       523\n",
      "           2       0.80      0.78      0.79       444\n",
      "           3       0.70      0.69      0.69       248\n",
      "           4       0.42      0.44      0.43       136\n",
      "           5       0.93      0.93      0.93      1362\n",
      "           6       0.44      0.45      0.45       135\n",
      "           7       0.67      0.70      0.69       334\n",
      "\n",
      "    accuracy                           0.77      3325\n",
      "   macro avg       0.65      0.65      0.65      3325\n",
      "weighted avg       0.77      0.77      0.77      3325\n",
      "\n",
      "--------------------------------------------------\n",
      "Score_train: 0.9951870049132658\n"
     ]
    }
   ],
   "source": [
    "dt.fit(x_train,y_train)\n",
    "y_pred = dt.predict(x_test)\n",
    "y_pred_train = dt.predict(x_train)\n",
    "\n",
    "print('Score:',accuracy_score(y_test, y_pred))\n",
    "print('-'*50)\n",
    "print(confusion_matrix(y_test, y_pred))\n",
    "print('-'*50)\n",
    "print('Report:',classification_report(y_test, y_pred))\n",
    "print('-'*50)\n",
    "print('Score_train:', accuracy_score(y_train, y_pred_train))"
   ]
  },
  {
   "cell_type": "code",
   "execution_count": 79,
   "id": "92035d56",
   "metadata": {},
   "outputs": [
    {
     "name": "stdout",
     "output_type": "stream",
     "text": [
      "Score: 0.7172932330827068\n",
      "--------------------------------------------------\n",
      "[[  86   25   13    0    7    6    2    4]\n",
      " [  29  274   42   48   12   61   22   35]\n",
      " [  19   47  318   11    7   22   12    8]\n",
      " [   9   40   18  156    3   19    0    3]\n",
      " [   7   18   12    7   39   33    8   12]\n",
      " [   6   27    3    7    6 1267   14   32]\n",
      " [   3   25    6    5    6   24   48   18]\n",
      " [   5   23   18    3    7   74    7  197]]\n",
      "--------------------------------------------------\n",
      "Report:               precision    recall  f1-score   support\n",
      "\n",
      "           0       0.52      0.60      0.56       143\n",
      "           1       0.57      0.52      0.55       523\n",
      "           2       0.74      0.72      0.73       444\n",
      "           3       0.66      0.63      0.64       248\n",
      "           4       0.45      0.29      0.35       136\n",
      "           5       0.84      0.93      0.88      1362\n",
      "           6       0.42      0.36      0.39       135\n",
      "           7       0.64      0.59      0.61       334\n",
      "\n",
      "    accuracy                           0.72      3325\n",
      "   macro avg       0.61      0.58      0.59      3325\n",
      "weighted avg       0.70      0.72      0.71      3325\n",
      "\n",
      "--------------------------------------------------\n",
      "Score_train: 0.7992579965907951\n"
     ]
    }
   ],
   "source": [
    "kn.fit(x_train,y_train)\n",
    "y_pred = kn.predict(x_test)\n",
    "y_pred_train = kn.predict(x_train)\n",
    "\n",
    "print('Score:',accuracy_score(y_test, y_pred))\n",
    "print('-'*50)\n",
    "print(confusion_matrix(y_test, y_pred))\n",
    "print('-'*50)\n",
    "print('Report:',classification_report(y_test, y_pred))\n",
    "print('-'*50)\n",
    "print('Score_train:', accuracy_score(y_train, y_pred_train))"
   ]
  },
  {
   "cell_type": "code",
   "execution_count": 80,
   "id": "4ba3dc45",
   "metadata": {},
   "outputs": [
    {
     "name": "stdout",
     "output_type": "stream",
     "text": [
      "Score: 0.8246616541353383\n",
      "--------------------------------------------------\n",
      "[[  99   19    4    2    6    5    3    5]\n",
      " [  13  381   27   32    8   15   24   23]\n",
      " [   4   25  376    6    7   10    9    7]\n",
      " [   2   26   10  192    3   11    1    3]\n",
      " [   7   25    8    5   50   14   11   16]\n",
      " [   5    5    4    5    7 1312    2   22]\n",
      " [   0   26    3    5    3    5   87    6]\n",
      " [   2   16   12    3    3   49    4  245]]\n",
      "--------------------------------------------------\n",
      "Report:               precision    recall  f1-score   support\n",
      "\n",
      "           0       0.75      0.69      0.72       143\n",
      "           1       0.73      0.73      0.73       523\n",
      "           2       0.85      0.85      0.85       444\n",
      "           3       0.77      0.77      0.77       248\n",
      "           4       0.57      0.37      0.45       136\n",
      "           5       0.92      0.96      0.94      1362\n",
      "           6       0.62      0.64      0.63       135\n",
      "           7       0.75      0.73      0.74       334\n",
      "\n",
      "    accuracy                           0.82      3325\n",
      "   macro avg       0.74      0.72      0.73      3325\n",
      "weighted avg       0.82      0.82      0.82      3325\n",
      "\n",
      "--------------------------------------------------\n",
      "Score_train: 0.9951870049132658\n"
     ]
    }
   ],
   "source": [
    "rc.fit(x_train,y_train)\n",
    "y_pred = rc.predict(x_test)\n",
    "y_pred_train = rc.predict(x_train)\n",
    "\n",
    "print('Score:',accuracy_score(y_test, y_pred))\n",
    "print('-'*50)\n",
    "print(confusion_matrix(y_test, y_pred))\n",
    "print('-'*50)\n",
    "print('Report:',classification_report(y_test, y_pred))\n",
    "print('-'*50)\n",
    "print('Score_train:', accuracy_score(y_train, y_pred_train))"
   ]
  },
  {
   "cell_type": "code",
   "execution_count": 81,
   "id": "b78ebc65",
   "metadata": {},
   "outputs": [
    {
     "name": "stdout",
     "output_type": "stream",
     "text": [
      "Score: 0.814436090225564\n",
      "--------------------------------------------------\n",
      "[[  98   19    5    1    5    0    3   12]\n",
      " [   9  366   28   29    6   26   23   36]\n",
      " [   2   26  379    5    2   13    9    8]\n",
      " [   2   19    9  196    2   12    3    5]\n",
      " [   5   21    7    6   48   15   12   22]\n",
      " [   2   10    3    3    0 1313    3   28]\n",
      " [   0   26    6    7    3   11   75    7]\n",
      " [   1   21   14    2    2   60    1  233]]\n",
      "--------------------------------------------------\n",
      "Report:               precision    recall  f1-score   support\n",
      "\n",
      "           0       0.82      0.69      0.75       143\n",
      "           1       0.72      0.70      0.71       523\n",
      "           2       0.84      0.85      0.85       444\n",
      "           3       0.79      0.79      0.79       248\n",
      "           4       0.71      0.35      0.47       136\n",
      "           5       0.91      0.96      0.93      1362\n",
      "           6       0.58      0.56      0.57       135\n",
      "           7       0.66      0.70      0.68       334\n",
      "\n",
      "    accuracy                           0.81      3325\n",
      "   macro avg       0.75      0.70      0.72      3325\n",
      "weighted avg       0.81      0.81      0.81      3325\n",
      "\n",
      "--------------------------------------------------\n",
      "Score_train: 0.8521006718138975\n"
     ]
    }
   ],
   "source": [
    "gb.fit(x_train,y_train)\n",
    "y_pred = gb.predict(x_test)\n",
    "y_pred_train = gb.predict(x_train)\n",
    "\n",
    "print('Score:',accuracy_score(y_test, y_pred))\n",
    "print('-'*50)\n",
    "print(confusion_matrix(y_test, y_pred))\n",
    "print('-'*50)\n",
    "print('Report:',classification_report(y_test, y_pred))\n",
    "print('-'*50)\n",
    "print('Score_train:', accuracy_score(y_train, y_pred_train))"
   ]
  },
  {
   "cell_type": "code",
   "execution_count": 82,
   "id": "503e4097",
   "metadata": {},
   "outputs": [
    {
     "name": "stdout",
     "output_type": "stream",
     "text": [
      "Score: 0.7028571428571428\n",
      "--------------------------------------------------\n",
      "[[  74   35   10    2    0   18    0    4]\n",
      " [  12  267   47   66    0   77   25   29]\n",
      " [  26   19  323   41    0   24    9    2]\n",
      " [   1   24    7  158    0   55    2    1]\n",
      " [  15   18   15    2    0   72    6    8]\n",
      " [   2    7    4    6    0 1297   26   20]\n",
      " [   0   22   13    6    0   35   47   12]\n",
      " [   1   20   19    3    0  103   17  171]]\n",
      "--------------------------------------------------\n",
      "Report:               precision    recall  f1-score   support\n",
      "\n",
      "           0       0.56      0.52      0.54       143\n",
      "           1       0.65      0.51      0.57       523\n",
      "           2       0.74      0.73      0.73       444\n",
      "           3       0.56      0.64      0.59       248\n",
      "           4       0.00      0.00      0.00       136\n",
      "           5       0.77      0.95      0.85      1362\n",
      "           6       0.36      0.35      0.35       135\n",
      "           7       0.69      0.51      0.59       334\n",
      "\n",
      "    accuracy                           0.70      3325\n",
      "   macro avg       0.54      0.53      0.53      3325\n",
      "weighted avg       0.67      0.70      0.68      3325\n",
      "\n",
      "--------------------------------------------------\n",
      "Score_train: 0.7110197533340018\n"
     ]
    }
   ],
   "source": [
    "svm.fit(x_train,y_train)\n",
    "y_pred = svm.predict(x_test)\n",
    "y_pred_train = svm.predict(x_train)\n",
    "\n",
    "print('Score:',accuracy_score(y_test, y_pred))\n",
    "print('-'*50)\n",
    "print(confusion_matrix(y_test, y_pred))\n",
    "print('-'*50)\n",
    "print('Report:',classification_report(y_test, y_pred))\n",
    "print('-'*50)\n",
    "print('Score_train:', accuracy_score(y_train, y_pred_train))"
   ]
  },
  {
   "cell_type": "code",
   "execution_count": 83,
   "id": "5a45b8af",
   "metadata": {},
   "outputs": [],
   "source": [
    "#random_forest gives better score"
   ]
  },
  {
   "cell_type": "code",
   "execution_count": 84,
   "id": "d006cb29",
   "metadata": {},
   "outputs": [],
   "source": [
    "param_grid = {\n",
    "    'n_estimators': [13,15],\n",
    "    'max_depth': [10, 15],\n",
    "    'min_samples_split': [10,11],\n",
    "    'criterion':['gini','entropy'],\n",
    "    'min_samples_leaf': [5,6]\n",
    "}\n"
   ]
  },
  {
   "cell_type": "code",
   "execution_count": 85,
   "id": "2411f6c6",
   "metadata": {},
   "outputs": [
    {
     "data": {
      "text/plain": [
       "GridSearchCV(cv=5, estimator=RandomForestClassifier(),\n",
       "             param_grid={'criterion': ['gini', 'entropy'],\n",
       "                         'max_depth': [10, 15], 'min_samples_leaf': [5, 6],\n",
       "                         'min_samples_split': [10, 11],\n",
       "                         'n_estimators': [13, 15]})"
      ]
     },
     "execution_count": 85,
     "metadata": {},
     "output_type": "execute_result"
    }
   ],
   "source": [
    "from sklearn.model_selection import GridSearchCV\n",
    "grid_search = GridSearchCV(estimator=rc, param_grid=param_grid, cv=5)\n",
    "grid_search.fit(x_train, y_train)\n"
   ]
  },
  {
   "cell_type": "code",
   "execution_count": 86,
   "id": "f42e0e72",
   "metadata": {},
   "outputs": [],
   "source": [
    "\n",
    "best_rc_model = grid_search.best_estimator_\n",
    "y_pred = best_rc_model.predict(x_test)\n"
   ]
  },
  {
   "cell_type": "code",
   "execution_count": 87,
   "id": "a8028ac5",
   "metadata": {},
   "outputs": [
    {
     "name": "stdout",
     "output_type": "stream",
     "text": [
      "Score: 0.7996992481203008\n",
      "--------------------------------------------------\n"
     ]
    }
   ],
   "source": [
    "print('Score:',accuracy_score(y_test, y_pred))\n",
    "print('-'*50)"
   ]
  },
  {
   "cell_type": "code",
   "execution_count": 88,
   "id": "0881b8e0",
   "metadata": {},
   "outputs": [],
   "source": [
    "import pickle\n",
    "import joblib\n",
    "\n",
    "model_class = rc\n",
    "\n",
    "file = 'Global Power plant.pkl'\n",
    "pickle.dump(model_class, open(file,'wb'))\n",
    "\n",
    "loaded_model = pickle.load(open('Global Power Plant.pkl','rb'))"
   ]
  },
  {
   "cell_type": "markdown",
   "id": "547c1866",
   "metadata": {},
   "source": [
    "Global Power Plants  \n",
    "Observations\n",
    "\n",
    "•\tIn the overall dataset, there are no duplicated values\n",
    "•\tColumns: 27 and Rows:11879\n",
    "•\tThe maximun MW provider is from USA and also USA stands the top in having more power plants too\n",
    "•\tAll over the world, solar energy has been produced more and the next stands hydro followed by wind, coal and oil\n",
    "•\tFrom 1910 to 1920 there is a very less but standard growth in plants installation and from 1920 to 1940 there was a linear growth, after that there was an abnormal growth\n",
    "•   Hydro energy stands up in the peak in means of providing max MW in the world\n",
    "•   The best model for classification is Random Forest Classifier with 0.82 accuracy score and for regression is Random Forest Regression with 0.89 score"
   ]
  }
 ],
 "metadata": {
  "kernelspec": {
   "display_name": "Python 3 (ipykernel)",
   "language": "python",
   "name": "python3"
  },
  "language_info": {
   "codemirror_mode": {
    "name": "ipython",
    "version": 3
   },
   "file_extension": ".py",
   "mimetype": "text/x-python",
   "name": "python",
   "nbconvert_exporter": "python",
   "pygments_lexer": "ipython3",
   "version": "3.9.13"
  }
 },
 "nbformat": 4,
 "nbformat_minor": 5
}
